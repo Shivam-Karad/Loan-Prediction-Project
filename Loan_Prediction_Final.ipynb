{
 "cells": [
  {
   "cell_type": "markdown",
   "id": "703c3c3b",
   "metadata": {},
   "source": [
    "# Read Dataset"
   ]
  },
  {
   "cell_type": "code",
   "execution_count": 1,
   "id": "ed792fe0",
   "metadata": {},
   "outputs": [],
   "source": [
    "from warnings import filterwarnings\n",
    "filterwarnings(\"ignore\")\n",
    "\n",
    "from functions import chisq,ANOVA,catconsep,preprocessing,standardize,replacer,outliers\n",
    "\n",
    "import pandas as pd"
   ]
  },
  {
   "cell_type": "code",
   "execution_count": 2,
   "id": "7f59e550",
   "metadata": {},
   "outputs": [],
   "source": [
    "TR = pd.read_csv(\"C:/Users/admin/Downloads/training_set (3).csv\")\n",
    "TS = pd.read_csv(\"C:/Users/admin/Downloads/testing_set (2).csv\")"
   ]
  },
  {
   "cell_type": "markdown",
   "id": "11945fdf",
   "metadata": {},
   "source": [
    "# Preview"
   ]
  },
  {
   "cell_type": "code",
   "execution_count": 3,
   "id": "550bb3a3",
   "metadata": {},
   "outputs": [
    {
     "data": {
      "text/html": [
       "<div>\n",
       "<style scoped>\n",
       "    .dataframe tbody tr th:only-of-type {\n",
       "        vertical-align: middle;\n",
       "    }\n",
       "\n",
       "    .dataframe tbody tr th {\n",
       "        vertical-align: top;\n",
       "    }\n",
       "\n",
       "    .dataframe thead th {\n",
       "        text-align: right;\n",
       "    }\n",
       "</style>\n",
       "<table border=\"1\" class=\"dataframe\">\n",
       "  <thead>\n",
       "    <tr style=\"text-align: right;\">\n",
       "      <th></th>\n",
       "      <th>Loan_ID</th>\n",
       "      <th>Gender</th>\n",
       "      <th>Married</th>\n",
       "      <th>Dependents</th>\n",
       "      <th>Education</th>\n",
       "      <th>Self_Employed</th>\n",
       "      <th>ApplicantIncome</th>\n",
       "      <th>CoapplicantIncome</th>\n",
       "      <th>LoanAmount</th>\n",
       "      <th>Loan_Amount_Term</th>\n",
       "      <th>Credit_History</th>\n",
       "      <th>Property_Area</th>\n",
       "      <th>Loan_Status</th>\n",
       "    </tr>\n",
       "  </thead>\n",
       "  <tbody>\n",
       "    <tr>\n",
       "      <th>0</th>\n",
       "      <td>LP001002</td>\n",
       "      <td>Male</td>\n",
       "      <td>No</td>\n",
       "      <td>0</td>\n",
       "      <td>Graduate</td>\n",
       "      <td>No</td>\n",
       "      <td>5849.0</td>\n",
       "      <td>0.0</td>\n",
       "      <td>NaN</td>\n",
       "      <td>360.0</td>\n",
       "      <td>1.0</td>\n",
       "      <td>Urban</td>\n",
       "      <td>Y</td>\n",
       "    </tr>\n",
       "    <tr>\n",
       "      <th>1</th>\n",
       "      <td>LP001003</td>\n",
       "      <td>Male</td>\n",
       "      <td>Yes</td>\n",
       "      <td>1</td>\n",
       "      <td>Graduate</td>\n",
       "      <td>No</td>\n",
       "      <td>NaN</td>\n",
       "      <td>1508.0</td>\n",
       "      <td>128.0</td>\n",
       "      <td>360.0</td>\n",
       "      <td>1.0</td>\n",
       "      <td>Rural</td>\n",
       "      <td>N</td>\n",
       "    </tr>\n",
       "    <tr>\n",
       "      <th>2</th>\n",
       "      <td>LP001005</td>\n",
       "      <td>Male</td>\n",
       "      <td>Yes</td>\n",
       "      <td>0</td>\n",
       "      <td>Graduate</td>\n",
       "      <td>Yes</td>\n",
       "      <td>3000.0</td>\n",
       "      <td>0.0</td>\n",
       "      <td>66.0</td>\n",
       "      <td>360.0</td>\n",
       "      <td>1.0</td>\n",
       "      <td>Urban</td>\n",
       "      <td>Y</td>\n",
       "    </tr>\n",
       "  </tbody>\n",
       "</table>\n",
       "</div>"
      ],
      "text/plain": [
       "    Loan_ID Gender Married Dependents Education Self_Employed  \\\n",
       "0  LP001002   Male      No          0  Graduate            No   \n",
       "1  LP001003   Male     Yes          1  Graduate            No   \n",
       "2  LP001005   Male     Yes          0  Graduate           Yes   \n",
       "\n",
       "   ApplicantIncome  CoapplicantIncome  LoanAmount  Loan_Amount_Term  \\\n",
       "0           5849.0                0.0         NaN             360.0   \n",
       "1              NaN             1508.0       128.0             360.0   \n",
       "2           3000.0                0.0        66.0             360.0   \n",
       "\n",
       "   Credit_History Property_Area Loan_Status  \n",
       "0             1.0         Urban           Y  \n",
       "1             1.0         Rural           N  \n",
       "2             1.0         Urban           Y  "
      ]
     },
     "execution_count": 3,
     "metadata": {},
     "output_type": "execute_result"
    }
   ],
   "source": [
    "TR.head(3)"
   ]
  },
  {
   "cell_type": "code",
   "execution_count": 4,
   "id": "999e2d94",
   "metadata": {},
   "outputs": [
    {
     "data": {
      "text/html": [
       "<div>\n",
       "<style scoped>\n",
       "    .dataframe tbody tr th:only-of-type {\n",
       "        vertical-align: middle;\n",
       "    }\n",
       "\n",
       "    .dataframe tbody tr th {\n",
       "        vertical-align: top;\n",
       "    }\n",
       "\n",
       "    .dataframe thead th {\n",
       "        text-align: right;\n",
       "    }\n",
       "</style>\n",
       "<table border=\"1\" class=\"dataframe\">\n",
       "  <thead>\n",
       "    <tr style=\"text-align: right;\">\n",
       "      <th></th>\n",
       "      <th>Loan_ID</th>\n",
       "      <th>Gender</th>\n",
       "      <th>Married</th>\n",
       "      <th>Dependents</th>\n",
       "      <th>Education</th>\n",
       "      <th>Self_Employed</th>\n",
       "      <th>ApplicantIncome</th>\n",
       "      <th>CoapplicantIncome</th>\n",
       "      <th>LoanAmount</th>\n",
       "      <th>Loan_Amount_Term</th>\n",
       "      <th>Credit_History</th>\n",
       "      <th>Property_Area</th>\n",
       "    </tr>\n",
       "  </thead>\n",
       "  <tbody>\n",
       "    <tr>\n",
       "      <th>0</th>\n",
       "      <td>LP001015</td>\n",
       "      <td>Male</td>\n",
       "      <td>Yes</td>\n",
       "      <td>0</td>\n",
       "      <td>Graduate</td>\n",
       "      <td>No</td>\n",
       "      <td>5720</td>\n",
       "      <td>0</td>\n",
       "      <td>110.0</td>\n",
       "      <td>360.0</td>\n",
       "      <td>1.0</td>\n",
       "      <td>Urban</td>\n",
       "    </tr>\n",
       "    <tr>\n",
       "      <th>1</th>\n",
       "      <td>LP001022</td>\n",
       "      <td>Male</td>\n",
       "      <td>Yes</td>\n",
       "      <td>1</td>\n",
       "      <td>Graduate</td>\n",
       "      <td>No</td>\n",
       "      <td>3076</td>\n",
       "      <td>1500</td>\n",
       "      <td>126.0</td>\n",
       "      <td>360.0</td>\n",
       "      <td>1.0</td>\n",
       "      <td>Urban</td>\n",
       "    </tr>\n",
       "    <tr>\n",
       "      <th>2</th>\n",
       "      <td>LP001031</td>\n",
       "      <td>Male</td>\n",
       "      <td>Yes</td>\n",
       "      <td>2</td>\n",
       "      <td>Graduate</td>\n",
       "      <td>No</td>\n",
       "      <td>5000</td>\n",
       "      <td>1800</td>\n",
       "      <td>208.0</td>\n",
       "      <td>360.0</td>\n",
       "      <td>1.0</td>\n",
       "      <td>Urban</td>\n",
       "    </tr>\n",
       "  </tbody>\n",
       "</table>\n",
       "</div>"
      ],
      "text/plain": [
       "    Loan_ID Gender Married Dependents Education Self_Employed  \\\n",
       "0  LP001015   Male     Yes          0  Graduate            No   \n",
       "1  LP001022   Male     Yes          1  Graduate            No   \n",
       "2  LP001031   Male     Yes          2  Graduate            No   \n",
       "\n",
       "   ApplicantIncome  CoapplicantIncome  LoanAmount  Loan_Amount_Term  \\\n",
       "0             5720                  0       110.0             360.0   \n",
       "1             3076               1500       126.0             360.0   \n",
       "2             5000               1800       208.0             360.0   \n",
       "\n",
       "   Credit_History Property_Area  \n",
       "0             1.0         Urban  \n",
       "1             1.0         Urban  \n",
       "2             1.0         Urban  "
      ]
     },
     "execution_count": 4,
     "metadata": {},
     "output_type": "execute_result"
    }
   ],
   "source": [
    "TS.head(3)"
   ]
  },
  {
   "cell_type": "markdown",
   "id": "ab60a483",
   "metadata": {},
   "source": [
    "# Drop discrete\\unnecessary columns from training DataSet"
   ]
  },
  {
   "cell_type": "code",
   "execution_count": 5,
   "id": "239b4f76",
   "metadata": {},
   "outputs": [],
   "source": [
    "A=TR.drop(labels=[\"Loan_ID\"],axis=1)"
   ]
  },
  {
   "cell_type": "code",
   "execution_count": 6,
   "id": "66ab50da",
   "metadata": {},
   "outputs": [
    {
     "data": {
      "text/html": [
       "<div>\n",
       "<style scoped>\n",
       "    .dataframe tbody tr th:only-of-type {\n",
       "        vertical-align: middle;\n",
       "    }\n",
       "\n",
       "    .dataframe tbody tr th {\n",
       "        vertical-align: top;\n",
       "    }\n",
       "\n",
       "    .dataframe thead th {\n",
       "        text-align: right;\n",
       "    }\n",
       "</style>\n",
       "<table border=\"1\" class=\"dataframe\">\n",
       "  <thead>\n",
       "    <tr style=\"text-align: right;\">\n",
       "      <th></th>\n",
       "      <th>Gender</th>\n",
       "      <th>Married</th>\n",
       "      <th>Dependents</th>\n",
       "      <th>Education</th>\n",
       "      <th>Self_Employed</th>\n",
       "      <th>ApplicantIncome</th>\n",
       "      <th>CoapplicantIncome</th>\n",
       "      <th>LoanAmount</th>\n",
       "      <th>Loan_Amount_Term</th>\n",
       "      <th>Credit_History</th>\n",
       "      <th>Property_Area</th>\n",
       "      <th>Loan_Status</th>\n",
       "    </tr>\n",
       "  </thead>\n",
       "  <tbody>\n",
       "    <tr>\n",
       "      <th>0</th>\n",
       "      <td>Male</td>\n",
       "      <td>No</td>\n",
       "      <td>0</td>\n",
       "      <td>Graduate</td>\n",
       "      <td>No</td>\n",
       "      <td>5849.0</td>\n",
       "      <td>0.0</td>\n",
       "      <td>NaN</td>\n",
       "      <td>360.0</td>\n",
       "      <td>1.0</td>\n",
       "      <td>Urban</td>\n",
       "      <td>Y</td>\n",
       "    </tr>\n",
       "    <tr>\n",
       "      <th>1</th>\n",
       "      <td>Male</td>\n",
       "      <td>Yes</td>\n",
       "      <td>1</td>\n",
       "      <td>Graduate</td>\n",
       "      <td>No</td>\n",
       "      <td>NaN</td>\n",
       "      <td>1508.0</td>\n",
       "      <td>128.0</td>\n",
       "      <td>360.0</td>\n",
       "      <td>1.0</td>\n",
       "      <td>Rural</td>\n",
       "      <td>N</td>\n",
       "    </tr>\n",
       "  </tbody>\n",
       "</table>\n",
       "</div>"
      ],
      "text/plain": [
       "  Gender Married Dependents Education Self_Employed  ApplicantIncome  \\\n",
       "0   Male      No          0  Graduate            No           5849.0   \n",
       "1   Male     Yes          1  Graduate            No              NaN   \n",
       "\n",
       "   CoapplicantIncome  LoanAmount  Loan_Amount_Term  Credit_History  \\\n",
       "0                0.0         NaN             360.0             1.0   \n",
       "1             1508.0       128.0             360.0             1.0   \n",
       "\n",
       "  Property_Area Loan_Status  \n",
       "0         Urban           Y  \n",
       "1         Rural           N  "
      ]
     },
     "execution_count": 6,
     "metadata": {},
     "output_type": "execute_result"
    }
   ],
   "source": [
    "A.head(2)"
   ]
  },
  {
   "cell_type": "code",
   "execution_count": 7,
   "id": "086bd19a",
   "metadata": {},
   "outputs": [],
   "source": [
    "Tnew=TS.drop(labels=[\"Loan_ID\"],axis=1)"
   ]
  },
  {
   "cell_type": "code",
   "execution_count": 8,
   "id": "43fe4f2e",
   "metadata": {},
   "outputs": [
    {
     "data": {
      "text/html": [
       "<div>\n",
       "<style scoped>\n",
       "    .dataframe tbody tr th:only-of-type {\n",
       "        vertical-align: middle;\n",
       "    }\n",
       "\n",
       "    .dataframe tbody tr th {\n",
       "        vertical-align: top;\n",
       "    }\n",
       "\n",
       "    .dataframe thead th {\n",
       "        text-align: right;\n",
       "    }\n",
       "</style>\n",
       "<table border=\"1\" class=\"dataframe\">\n",
       "  <thead>\n",
       "    <tr style=\"text-align: right;\">\n",
       "      <th></th>\n",
       "      <th>Gender</th>\n",
       "      <th>Married</th>\n",
       "      <th>Dependents</th>\n",
       "      <th>Education</th>\n",
       "      <th>Self_Employed</th>\n",
       "      <th>ApplicantIncome</th>\n",
       "      <th>CoapplicantIncome</th>\n",
       "      <th>LoanAmount</th>\n",
       "      <th>Loan_Amount_Term</th>\n",
       "      <th>Credit_History</th>\n",
       "      <th>Property_Area</th>\n",
       "    </tr>\n",
       "  </thead>\n",
       "  <tbody>\n",
       "    <tr>\n",
       "      <th>0</th>\n",
       "      <td>Male</td>\n",
       "      <td>Yes</td>\n",
       "      <td>0</td>\n",
       "      <td>Graduate</td>\n",
       "      <td>No</td>\n",
       "      <td>5720</td>\n",
       "      <td>0</td>\n",
       "      <td>110.0</td>\n",
       "      <td>360.0</td>\n",
       "      <td>1.0</td>\n",
       "      <td>Urban</td>\n",
       "    </tr>\n",
       "    <tr>\n",
       "      <th>1</th>\n",
       "      <td>Male</td>\n",
       "      <td>Yes</td>\n",
       "      <td>1</td>\n",
       "      <td>Graduate</td>\n",
       "      <td>No</td>\n",
       "      <td>3076</td>\n",
       "      <td>1500</td>\n",
       "      <td>126.0</td>\n",
       "      <td>360.0</td>\n",
       "      <td>1.0</td>\n",
       "      <td>Urban</td>\n",
       "    </tr>\n",
       "    <tr>\n",
       "      <th>2</th>\n",
       "      <td>Male</td>\n",
       "      <td>Yes</td>\n",
       "      <td>2</td>\n",
       "      <td>Graduate</td>\n",
       "      <td>No</td>\n",
       "      <td>5000</td>\n",
       "      <td>1800</td>\n",
       "      <td>208.0</td>\n",
       "      <td>360.0</td>\n",
       "      <td>1.0</td>\n",
       "      <td>Urban</td>\n",
       "    </tr>\n",
       "  </tbody>\n",
       "</table>\n",
       "</div>"
      ],
      "text/plain": [
       "  Gender Married Dependents Education Self_Employed  ApplicantIncome  \\\n",
       "0   Male     Yes          0  Graduate            No             5720   \n",
       "1   Male     Yes          1  Graduate            No             3076   \n",
       "2   Male     Yes          2  Graduate            No             5000   \n",
       "\n",
       "   CoapplicantIncome  LoanAmount  Loan_Amount_Term  Credit_History  \\\n",
       "0                  0       110.0             360.0             1.0   \n",
       "1               1500       126.0             360.0             1.0   \n",
       "2               1800       208.0             360.0             1.0   \n",
       "\n",
       "  Property_Area  \n",
       "0         Urban  \n",
       "1         Urban  \n",
       "2         Urban  "
      ]
     },
     "execution_count": 8,
     "metadata": {},
     "output_type": "execute_result"
    }
   ],
   "source": [
    "Tnew.head(3)"
   ]
  },
  {
   "cell_type": "markdown",
   "id": "e834d525",
   "metadata": {},
   "source": [
    "# Checking for Missing Data\\Null Value"
   ]
  },
  {
   "cell_type": "code",
   "execution_count": 9,
   "id": "d1a502bb",
   "metadata": {},
   "outputs": [
    {
     "data": {
      "text/plain": [
       "Gender               15\n",
       "Married               3\n",
       "Dependents           15\n",
       "Education             1\n",
       "Self_Employed        32\n",
       "ApplicantIncome       2\n",
       "CoapplicantIncome     1\n",
       "LoanAmount           22\n",
       "Loan_Amount_Term     14\n",
       "Credit_History       50\n",
       "Property_Area         0\n",
       "Loan_Status           0\n",
       "dtype: int64"
      ]
     },
     "execution_count": 9,
     "metadata": {},
     "output_type": "execute_result"
    }
   ],
   "source": [
    "A.isna().sum()"
   ]
  },
  {
   "cell_type": "code",
   "execution_count": 10,
   "id": "3c4914ec",
   "metadata": {},
   "outputs": [
    {
     "data": {
      "text/plain": [
       "Gender               11\n",
       "Married               0\n",
       "Dependents           10\n",
       "Education             0\n",
       "Self_Employed        23\n",
       "ApplicantIncome       0\n",
       "CoapplicantIncome     0\n",
       "LoanAmount            5\n",
       "Loan_Amount_Term      6\n",
       "Credit_History       29\n",
       "Property_Area         0\n",
       "dtype: int64"
      ]
     },
     "execution_count": 10,
     "metadata": {},
     "output_type": "execute_result"
    }
   ],
   "source": [
    "Tnew.isna().sum()"
   ]
  },
  {
   "cell_type": "markdown",
   "id": "592e0d73",
   "metadata": {},
   "source": [
    "# Missing Data Treatment"
   ]
  },
  {
   "cell_type": "code",
   "execution_count": 11,
   "id": "b6898222",
   "metadata": {},
   "outputs": [],
   "source": [
    "replacer(A)"
   ]
  },
  {
   "cell_type": "code",
   "execution_count": 12,
   "id": "bb89dd10",
   "metadata": {},
   "outputs": [
    {
     "data": {
      "text/plain": [
       "Gender               0\n",
       "Married              0\n",
       "Dependents           0\n",
       "Education            0\n",
       "Self_Employed        0\n",
       "ApplicantIncome      0\n",
       "CoapplicantIncome    0\n",
       "LoanAmount           0\n",
       "Loan_Amount_Term     0\n",
       "Credit_History       0\n",
       "Property_Area        0\n",
       "Loan_Status          0\n",
       "dtype: int64"
      ]
     },
     "execution_count": 12,
     "metadata": {},
     "output_type": "execute_result"
    }
   ],
   "source": [
    "A.isna().sum()"
   ]
  },
  {
   "cell_type": "code",
   "execution_count": 13,
   "id": "2db73b8f",
   "metadata": {},
   "outputs": [],
   "source": [
    "replacer(Tnew)"
   ]
  },
  {
   "cell_type": "code",
   "execution_count": 14,
   "id": "6435ed0c",
   "metadata": {},
   "outputs": [
    {
     "data": {
      "text/plain": [
       "Gender               0\n",
       "Married              0\n",
       "Dependents           0\n",
       "Education            0\n",
       "Self_Employed        0\n",
       "ApplicantIncome      0\n",
       "CoapplicantIncome    0\n",
       "LoanAmount           0\n",
       "Loan_Amount_Term     0\n",
       "Credit_History       0\n",
       "Property_Area        0\n",
       "dtype: int64"
      ]
     },
     "execution_count": 14,
     "metadata": {},
     "output_type": "execute_result"
    }
   ],
   "source": [
    "Tnew.isna().sum()"
   ]
  },
  {
   "cell_type": "markdown",
   "id": "e17e72c8",
   "metadata": {},
   "source": [
    "# Define X and Y"
   ]
  },
  {
   "cell_type": "code",
   "execution_count": 15,
   "id": "763748ad",
   "metadata": {},
   "outputs": [],
   "source": [
    "Y=A[[\"Loan_Status\"]] #Assign Loan Status into Y"
   ]
  },
  {
   "cell_type": "code",
   "execution_count": 16,
   "id": "bc74c242",
   "metadata": {},
   "outputs": [
    {
     "data": {
      "text/html": [
       "<div>\n",
       "<style scoped>\n",
       "    .dataframe tbody tr th:only-of-type {\n",
       "        vertical-align: middle;\n",
       "    }\n",
       "\n",
       "    .dataframe tbody tr th {\n",
       "        vertical-align: top;\n",
       "    }\n",
       "\n",
       "    .dataframe thead th {\n",
       "        text-align: right;\n",
       "    }\n",
       "</style>\n",
       "<table border=\"1\" class=\"dataframe\">\n",
       "  <thead>\n",
       "    <tr style=\"text-align: right;\">\n",
       "      <th></th>\n",
       "      <th>Loan_Status</th>\n",
       "    </tr>\n",
       "  </thead>\n",
       "  <tbody>\n",
       "    <tr>\n",
       "      <th>0</th>\n",
       "      <td>Y</td>\n",
       "    </tr>\n",
       "    <tr>\n",
       "      <th>1</th>\n",
       "      <td>N</td>\n",
       "    </tr>\n",
       "    <tr>\n",
       "      <th>2</th>\n",
       "      <td>Y</td>\n",
       "    </tr>\n",
       "  </tbody>\n",
       "</table>\n",
       "</div>"
      ],
      "text/plain": [
       "  Loan_Status\n",
       "0           Y\n",
       "1           N\n",
       "2           Y"
      ]
     },
     "execution_count": 16,
     "metadata": {},
     "output_type": "execute_result"
    }
   ],
   "source": [
    "Y.head(3)"
   ]
  },
  {
   "cell_type": "code",
   "execution_count": 17,
   "id": "eae64358",
   "metadata": {},
   "outputs": [],
   "source": [
    "X=A.drop(labels=[\"Loan_Status\"],axis=1) #drop Loan_status from A since we need to make prediction for this column only"
   ]
  },
  {
   "cell_type": "code",
   "execution_count": 18,
   "id": "d106e2e6",
   "metadata": {},
   "outputs": [
    {
     "data": {
      "text/html": [
       "<div>\n",
       "<style scoped>\n",
       "    .dataframe tbody tr th:only-of-type {\n",
       "        vertical-align: middle;\n",
       "    }\n",
       "\n",
       "    .dataframe tbody tr th {\n",
       "        vertical-align: top;\n",
       "    }\n",
       "\n",
       "    .dataframe thead th {\n",
       "        text-align: right;\n",
       "    }\n",
       "</style>\n",
       "<table border=\"1\" class=\"dataframe\">\n",
       "  <thead>\n",
       "    <tr style=\"text-align: right;\">\n",
       "      <th></th>\n",
       "      <th>Gender</th>\n",
       "      <th>Married</th>\n",
       "      <th>Dependents</th>\n",
       "      <th>Education</th>\n",
       "      <th>Self_Employed</th>\n",
       "      <th>ApplicantIncome</th>\n",
       "      <th>CoapplicantIncome</th>\n",
       "      <th>LoanAmount</th>\n",
       "      <th>Loan_Amount_Term</th>\n",
       "      <th>Credit_History</th>\n",
       "      <th>Property_Area</th>\n",
       "    </tr>\n",
       "  </thead>\n",
       "  <tbody>\n",
       "    <tr>\n",
       "      <th>0</th>\n",
       "      <td>Male</td>\n",
       "      <td>No</td>\n",
       "      <td>0</td>\n",
       "      <td>Graduate</td>\n",
       "      <td>No</td>\n",
       "      <td>5849.00000</td>\n",
       "      <td>0.0</td>\n",
       "      <td>146.412162</td>\n",
       "      <td>360.0</td>\n",
       "      <td>1.0</td>\n",
       "      <td>Urban</td>\n",
       "    </tr>\n",
       "    <tr>\n",
       "      <th>1</th>\n",
       "      <td>Male</td>\n",
       "      <td>Yes</td>\n",
       "      <td>1</td>\n",
       "      <td>Graduate</td>\n",
       "      <td>No</td>\n",
       "      <td>5405.54085</td>\n",
       "      <td>1508.0</td>\n",
       "      <td>128.000000</td>\n",
       "      <td>360.0</td>\n",
       "      <td>1.0</td>\n",
       "      <td>Rural</td>\n",
       "    </tr>\n",
       "    <tr>\n",
       "      <th>2</th>\n",
       "      <td>Male</td>\n",
       "      <td>Yes</td>\n",
       "      <td>0</td>\n",
       "      <td>Graduate</td>\n",
       "      <td>Yes</td>\n",
       "      <td>3000.00000</td>\n",
       "      <td>0.0</td>\n",
       "      <td>66.000000</td>\n",
       "      <td>360.0</td>\n",
       "      <td>1.0</td>\n",
       "      <td>Urban</td>\n",
       "    </tr>\n",
       "  </tbody>\n",
       "</table>\n",
       "</div>"
      ],
      "text/plain": [
       "  Gender Married Dependents Education Self_Employed  ApplicantIncome  \\\n",
       "0   Male      No          0  Graduate            No       5849.00000   \n",
       "1   Male     Yes          1  Graduate            No       5405.54085   \n",
       "2   Male     Yes          0  Graduate           Yes       3000.00000   \n",
       "\n",
       "   CoapplicantIncome  LoanAmount  Loan_Amount_Term  Credit_History  \\\n",
       "0                0.0  146.412162             360.0             1.0   \n",
       "1             1508.0  128.000000             360.0             1.0   \n",
       "2                0.0   66.000000             360.0             1.0   \n",
       "\n",
       "  Property_Area  \n",
       "0         Urban  \n",
       "1         Rural  \n",
       "2         Urban  "
      ]
     },
     "execution_count": 18,
     "metadata": {},
     "output_type": "execute_result"
    }
   ],
   "source": [
    "X.head(3)"
   ]
  },
  {
   "cell_type": "markdown",
   "id": "9489c03c",
   "metadata": {},
   "source": [
    "# Divide data in categotical and continous"
   ]
  },
  {
   "cell_type": "code",
   "execution_count": 19,
   "id": "500b9081",
   "metadata": {},
   "outputs": [],
   "source": [
    "cat = []\n",
    "con = []\n",
    "for i in X.columns:\n",
    "    if(X[i].dtypes == \"object\"):\n",
    "        cat.append(i)\n",
    "        x = X[i].mode()[0]\n",
    "        X[i] = X[i].fillna(x)\n",
    "    else:\n",
    "        con.append(i)\n",
    "        x = X[i].mean()\n",
    "        X[i] = X[i].fillna(x)"
   ]
  },
  {
   "cell_type": "code",
   "execution_count": 20,
   "id": "c8e9e53f",
   "metadata": {},
   "outputs": [
    {
     "data": {
      "text/plain": [
       "['Gender',\n",
       " 'Married',\n",
       " 'Dependents',\n",
       " 'Education',\n",
       " 'Self_Employed',\n",
       " 'Property_Area']"
      ]
     },
     "execution_count": 20,
     "metadata": {},
     "output_type": "execute_result"
    }
   ],
   "source": [
    "cat"
   ]
  },
  {
   "cell_type": "code",
   "execution_count": 21,
   "id": "df791d86",
   "metadata": {},
   "outputs": [
    {
     "data": {
      "text/plain": [
       "['ApplicantIncome',\n",
       " 'CoapplicantIncome',\n",
       " 'LoanAmount',\n",
       " 'Loan_Amount_Term',\n",
       " 'Credit_History']"
      ]
     },
     "execution_count": 21,
     "metadata": {},
     "output_type": "execute_result"
    }
   ],
   "source": [
    "con"
   ]
  },
  {
   "cell_type": "markdown",
   "id": "c03ec238",
   "metadata": {},
   "source": [
    "# Standardize"
   ]
  },
  {
   "cell_type": "code",
   "execution_count": 22,
   "id": "0ff7b7f8",
   "metadata": {},
   "outputs": [],
   "source": [
    "from sklearn.preprocessing import MinMaxScaler\n",
    "mm = MinMaxScaler()\n",
    "Xnew = pd.DataFrame(mm.fit_transform(X[con]),columns=con)"
   ]
  },
  {
   "cell_type": "code",
   "execution_count": 23,
   "id": "00952199",
   "metadata": {},
   "outputs": [
    {
     "data": {
      "text/html": [
       "<div>\n",
       "<style scoped>\n",
       "    .dataframe tbody tr th:only-of-type {\n",
       "        vertical-align: middle;\n",
       "    }\n",
       "\n",
       "    .dataframe tbody tr th {\n",
       "        vertical-align: top;\n",
       "    }\n",
       "\n",
       "    .dataframe thead th {\n",
       "        text-align: right;\n",
       "    }\n",
       "</style>\n",
       "<table border=\"1\" class=\"dataframe\">\n",
       "  <thead>\n",
       "    <tr style=\"text-align: right;\">\n",
       "      <th></th>\n",
       "      <th>ApplicantIncome</th>\n",
       "      <th>CoapplicantIncome</th>\n",
       "      <th>LoanAmount</th>\n",
       "      <th>Loan_Amount_Term</th>\n",
       "      <th>Credit_History</th>\n",
       "    </tr>\n",
       "  </thead>\n",
       "  <tbody>\n",
       "    <tr>\n",
       "      <th>0</th>\n",
       "      <td>0.070489</td>\n",
       "      <td>0.000000</td>\n",
       "      <td>0.198860</td>\n",
       "      <td>0.74359</td>\n",
       "      <td>1.0</td>\n",
       "    </tr>\n",
       "    <tr>\n",
       "      <th>1</th>\n",
       "      <td>0.065004</td>\n",
       "      <td>0.036192</td>\n",
       "      <td>0.172214</td>\n",
       "      <td>0.74359</td>\n",
       "      <td>1.0</td>\n",
       "    </tr>\n",
       "  </tbody>\n",
       "</table>\n",
       "</div>"
      ],
      "text/plain": [
       "   ApplicantIncome  CoapplicantIncome  LoanAmount  Loan_Amount_Term  \\\n",
       "0         0.070489           0.000000    0.198860           0.74359   \n",
       "1         0.065004           0.036192    0.172214           0.74359   \n",
       "\n",
       "   Credit_History  \n",
       "0             1.0  \n",
       "1             1.0  "
      ]
     },
     "execution_count": 23,
     "metadata": {},
     "output_type": "execute_result"
    }
   ],
   "source": [
    "Xnew.head(2)"
   ]
  },
  {
   "cell_type": "code",
   "execution_count": 24,
   "id": "3ed40487",
   "metadata": {},
   "outputs": [],
   "source": [
    "Xnew.index=range(0,Xnew.shape[0])"
   ]
  },
  {
   "cell_type": "code",
   "execution_count": 25,
   "id": "cd7bdb6d",
   "metadata": {},
   "outputs": [
    {
     "data": {
      "text/html": [
       "<div>\n",
       "<style scoped>\n",
       "    .dataframe tbody tr th:only-of-type {\n",
       "        vertical-align: middle;\n",
       "    }\n",
       "\n",
       "    .dataframe tbody tr th {\n",
       "        vertical-align: top;\n",
       "    }\n",
       "\n",
       "    .dataframe thead th {\n",
       "        text-align: right;\n",
       "    }\n",
       "</style>\n",
       "<table border=\"1\" class=\"dataframe\">\n",
       "  <thead>\n",
       "    <tr style=\"text-align: right;\">\n",
       "      <th></th>\n",
       "      <th>ApplicantIncome</th>\n",
       "      <th>CoapplicantIncome</th>\n",
       "      <th>LoanAmount</th>\n",
       "      <th>Loan_Amount_Term</th>\n",
       "      <th>Credit_History</th>\n",
       "    </tr>\n",
       "  </thead>\n",
       "  <tbody>\n",
       "    <tr>\n",
       "      <th>604</th>\n",
       "      <td>0.146568</td>\n",
       "      <td>0.000000</td>\n",
       "      <td>0.704776</td>\n",
       "      <td>0.743590</td>\n",
       "      <td>1.0</td>\n",
       "    </tr>\n",
       "    <tr>\n",
       "      <th>605</th>\n",
       "      <td>0.027829</td>\n",
       "      <td>0.091199</td>\n",
       "      <td>0.198860</td>\n",
       "      <td>0.358974</td>\n",
       "      <td>1.0</td>\n",
       "    </tr>\n",
       "    <tr>\n",
       "      <th>606</th>\n",
       "      <td>0.040198</td>\n",
       "      <td>0.060000</td>\n",
       "      <td>0.237337</td>\n",
       "      <td>0.743590</td>\n",
       "      <td>1.0</td>\n",
       "    </tr>\n",
       "    <tr>\n",
       "      <th>607</th>\n",
       "      <td>0.047458</td>\n",
       "      <td>0.033864</td>\n",
       "      <td>0.214182</td>\n",
       "      <td>0.743590</td>\n",
       "      <td>1.0</td>\n",
       "    </tr>\n",
       "    <tr>\n",
       "      <th>608</th>\n",
       "      <td>0.038120</td>\n",
       "      <td>0.046800</td>\n",
       "      <td>0.143271</td>\n",
       "      <td>0.743590</td>\n",
       "      <td>1.0</td>\n",
       "    </tr>\n",
       "    <tr>\n",
       "      <th>609</th>\n",
       "      <td>0.034014</td>\n",
       "      <td>0.000000</td>\n",
       "      <td>0.089725</td>\n",
       "      <td>0.743590</td>\n",
       "      <td>1.0</td>\n",
       "    </tr>\n",
       "    <tr>\n",
       "      <th>610</th>\n",
       "      <td>0.048930</td>\n",
       "      <td>0.000000</td>\n",
       "      <td>0.044863</td>\n",
       "      <td>0.358974</td>\n",
       "      <td>1.0</td>\n",
       "    </tr>\n",
       "    <tr>\n",
       "      <th>611</th>\n",
       "      <td>0.097984</td>\n",
       "      <td>0.005760</td>\n",
       "      <td>0.353111</td>\n",
       "      <td>0.743590</td>\n",
       "      <td>1.0</td>\n",
       "    </tr>\n",
       "    <tr>\n",
       "      <th>612</th>\n",
       "      <td>0.091936</td>\n",
       "      <td>0.000000</td>\n",
       "      <td>0.257598</td>\n",
       "      <td>0.743590</td>\n",
       "      <td>1.0</td>\n",
       "    </tr>\n",
       "    <tr>\n",
       "      <th>613</th>\n",
       "      <td>0.054830</td>\n",
       "      <td>0.000000</td>\n",
       "      <td>0.179450</td>\n",
       "      <td>0.743590</td>\n",
       "      <td>0.0</td>\n",
       "    </tr>\n",
       "  </tbody>\n",
       "</table>\n",
       "</div>"
      ],
      "text/plain": [
       "     ApplicantIncome  CoapplicantIncome  LoanAmount  Loan_Amount_Term  \\\n",
       "604         0.146568           0.000000    0.704776          0.743590   \n",
       "605         0.027829           0.091199    0.198860          0.358974   \n",
       "606         0.040198           0.060000    0.237337          0.743590   \n",
       "607         0.047458           0.033864    0.214182          0.743590   \n",
       "608         0.038120           0.046800    0.143271          0.743590   \n",
       "609         0.034014           0.000000    0.089725          0.743590   \n",
       "610         0.048930           0.000000    0.044863          0.358974   \n",
       "611         0.097984           0.005760    0.353111          0.743590   \n",
       "612         0.091936           0.000000    0.257598          0.743590   \n",
       "613         0.054830           0.000000    0.179450          0.743590   \n",
       "\n",
       "     Credit_History  \n",
       "604             1.0  \n",
       "605             1.0  \n",
       "606             1.0  \n",
       "607             1.0  \n",
       "608             1.0  \n",
       "609             1.0  \n",
       "610             1.0  \n",
       "611             1.0  \n",
       "612             1.0  \n",
       "613             0.0  "
      ]
     },
     "execution_count": 25,
     "metadata": {},
     "output_type": "execute_result"
    }
   ],
   "source": [
    "Xnew.tail(10)"
   ]
  },
  {
   "cell_type": "markdown",
   "id": "a0f182a8",
   "metadata": {},
   "source": [
    "# Feature Selection"
   ]
  },
  {
   "cell_type": "code",
   "execution_count": 26,
   "id": "2e9af114",
   "metadata": {},
   "outputs": [],
   "source": [
    "imp_cols=[]\n",
    "pvals=[]\n",
    "\n",
    "for i in Xnew.columns:\n",
    "    if(Xnew[i].dtypes==\"object\"):\n",
    "        pval=chisq(A,\"Loan_Status\",i)\n",
    "        pvals.append(pval)\n",
    "    else:\n",
    "        pval=ANOVA(A,\"Loan_Status\",i)\n",
    "        pvals.append(pval)"
   ]
  },
  {
   "cell_type": "code",
   "execution_count": 27,
   "id": "3932a7d1",
   "metadata": {},
   "outputs": [],
   "source": [
    "W=pd.DataFrame([Xnew.columns,pvals]).T\n",
    "W.columns=[\"col\",\"pval\"]"
   ]
  },
  {
   "cell_type": "code",
   "execution_count": 28,
   "id": "a533b337",
   "metadata": {},
   "outputs": [
    {
     "data": {
      "text/html": [
       "<div>\n",
       "<style scoped>\n",
       "    .dataframe tbody tr th:only-of-type {\n",
       "        vertical-align: middle;\n",
       "    }\n",
       "\n",
       "    .dataframe tbody tr th {\n",
       "        vertical-align: top;\n",
       "    }\n",
       "\n",
       "    .dataframe thead th {\n",
       "        text-align: right;\n",
       "    }\n",
       "</style>\n",
       "<table border=\"1\" class=\"dataframe\">\n",
       "  <thead>\n",
       "    <tr style=\"text-align: right;\">\n",
       "      <th></th>\n",
       "      <th>col</th>\n",
       "      <th>pval</th>\n",
       "    </tr>\n",
       "  </thead>\n",
       "  <tbody>\n",
       "    <tr>\n",
       "      <th>4</th>\n",
       "      <td>Credit_History</td>\n",
       "      <td>0.0</td>\n",
       "    </tr>\n",
       "  </tbody>\n",
       "</table>\n",
       "</div>"
      ],
      "text/plain": [
       "              col pval\n",
       "4  Credit_History  0.0"
      ]
     },
     "execution_count": 28,
     "metadata": {},
     "output_type": "execute_result"
    }
   ],
   "source": [
    "W[W.pval<0.05]"
   ]
  },
  {
   "cell_type": "code",
   "execution_count": 29,
   "id": "e3c42043",
   "metadata": {},
   "outputs": [
    {
     "data": {
      "text/html": [
       "<div>\n",
       "<style scoped>\n",
       "    .dataframe tbody tr th:only-of-type {\n",
       "        vertical-align: middle;\n",
       "    }\n",
       "\n",
       "    .dataframe tbody tr th {\n",
       "        vertical-align: top;\n",
       "    }\n",
       "\n",
       "    .dataframe thead th {\n",
       "        text-align: right;\n",
       "    }\n",
       "</style>\n",
       "<table border=\"1\" class=\"dataframe\">\n",
       "  <thead>\n",
       "    <tr style=\"text-align: right;\">\n",
       "      <th></th>\n",
       "      <th>col</th>\n",
       "      <th>pval</th>\n",
       "    </tr>\n",
       "  </thead>\n",
       "  <tbody>\n",
       "    <tr>\n",
       "      <th>0</th>\n",
       "      <td>ApplicantIncome</td>\n",
       "      <td>0.90252</td>\n",
       "    </tr>\n",
       "    <tr>\n",
       "      <th>1</th>\n",
       "      <td>CoapplicantIncome</td>\n",
       "      <td>0.14239</td>\n",
       "    </tr>\n",
       "    <tr>\n",
       "      <th>2</th>\n",
       "      <td>LoanAmount</td>\n",
       "      <td>0.36769</td>\n",
       "    </tr>\n",
       "    <tr>\n",
       "      <th>3</th>\n",
       "      <td>Loan_Amount_Term</td>\n",
       "      <td>0.60396</td>\n",
       "    </tr>\n",
       "    <tr>\n",
       "      <th>4</th>\n",
       "      <td>Credit_History</td>\n",
       "      <td>0.0</td>\n",
       "    </tr>\n",
       "  </tbody>\n",
       "</table>\n",
       "</div>"
      ],
      "text/plain": [
       "                 col     pval\n",
       "0    ApplicantIncome  0.90252\n",
       "1  CoapplicantIncome  0.14239\n",
       "2         LoanAmount  0.36769\n",
       "3   Loan_Amount_Term  0.60396\n",
       "4     Credit_History      0.0"
      ]
     },
     "execution_count": 29,
     "metadata": {},
     "output_type": "execute_result"
    }
   ],
   "source": [
    "W"
   ]
  },
  {
   "cell_type": "markdown",
   "id": "cf9712f6",
   "metadata": {},
   "source": [
    "# Redefine X and Split"
   ]
  },
  {
   "cell_type": "code",
   "execution_count": 30,
   "id": "52e865e1",
   "metadata": {},
   "outputs": [],
   "source": [
    "X=A[[\"Credit_History\"]]\n",
    "from sklearn.model_selection import train_test_split\n",
    "xtrain,xtest,ytrain,ytest=train_test_split(X,Y,test_size=0.2,random_state=21)"
   ]
  },
  {
   "cell_type": "code",
   "execution_count": 31,
   "id": "b75eab86",
   "metadata": {},
   "outputs": [],
   "source": [
    "#ytest"
   ]
  },
  {
   "cell_type": "markdown",
   "id": "a7a2ebf2",
   "metadata": {},
   "source": [
    "# Model1-Using Logistic Regression\n",
    "Create Model"
   ]
  },
  {
   "cell_type": "code",
   "execution_count": 32,
   "id": "42090adb",
   "metadata": {},
   "outputs": [],
   "source": [
    "from sklearn.linear_model import LogisticRegression\n",
    "lr=LogisticRegression()\n",
    "model=lr.fit(xtrain,ytrain)"
   ]
  },
  {
   "cell_type": "code",
   "execution_count": 33,
   "id": "3e97af1a",
   "metadata": {},
   "outputs": [],
   "source": [
    "pred_tr=model.predict(xtrain)\n",
    "pred_ts=model.predict(xtest)"
   ]
  },
  {
   "cell_type": "code",
   "execution_count": 34,
   "id": "900229ab",
   "metadata": {},
   "outputs": [
    {
     "data": {
      "text/plain": [
       "array(['Y', 'Y', 'Y', 'Y', 'N', 'N', 'Y', 'Y', 'Y', 'Y', 'Y', 'Y', 'N',\n",
       "       'Y', 'Y', 'Y', 'Y', 'Y', 'Y', 'Y', 'Y', 'N', 'Y', 'Y', 'Y', 'Y',\n",
       "       'Y', 'Y', 'Y', 'Y', 'Y', 'Y', 'Y', 'N', 'Y', 'N', 'Y', 'Y', 'Y',\n",
       "       'Y', 'Y', 'Y', 'Y', 'Y', 'Y', 'N', 'Y', 'Y', 'N', 'Y', 'Y', 'Y',\n",
       "       'Y', 'N', 'Y', 'Y', 'Y', 'Y', 'Y', 'Y', 'Y', 'Y', 'Y', 'Y', 'Y',\n",
       "       'Y', 'Y', 'Y', 'N', 'Y', 'Y', 'Y', 'Y', 'Y', 'N', 'Y', 'Y', 'Y',\n",
       "       'Y', 'Y', 'Y', 'Y', 'Y', 'Y', 'Y', 'Y', 'N', 'N', 'N', 'Y', 'Y',\n",
       "       'Y', 'Y', 'Y', 'Y', 'Y', 'Y', 'Y', 'Y', 'Y', 'N', 'N', 'N', 'Y',\n",
       "       'N', 'Y', 'Y', 'Y', 'Y', 'Y', 'Y', 'Y', 'Y', 'Y', 'Y', 'Y', 'Y',\n",
       "       'N', 'Y', 'Y', 'N', 'Y', 'Y', 'Y', 'N', 'Y', 'Y', 'Y', 'Y', 'Y',\n",
       "       'Y', 'Y', 'Y', 'N', 'Y', 'Y', 'Y', 'Y', 'Y', 'Y', 'Y', 'Y', 'Y',\n",
       "       'Y', 'Y', 'Y', 'Y', 'Y', 'N', 'Y', 'Y', 'Y', 'Y', 'Y', 'Y', 'Y',\n",
       "       'Y', 'Y', 'N', 'Y', 'Y', 'Y', 'Y', 'Y', 'N', 'Y', 'Y', 'Y', 'Y',\n",
       "       'Y', 'Y', 'Y', 'Y', 'Y', 'Y', 'Y', 'Y', 'Y', 'Y', 'Y', 'Y', 'Y',\n",
       "       'Y', 'Y', 'N', 'Y', 'Y', 'N', 'Y', 'Y', 'Y', 'Y', 'Y', 'Y', 'Y',\n",
       "       'Y', 'Y', 'Y', 'Y', 'Y', 'Y', 'Y', 'Y', 'Y', 'Y', 'Y', 'Y', 'Y',\n",
       "       'Y', 'Y', 'Y', 'Y', 'Y', 'Y', 'N', 'Y', 'Y', 'Y', 'Y', 'N', 'Y',\n",
       "       'Y', 'Y', 'Y', 'Y', 'Y', 'Y', 'Y', 'Y', 'Y', 'Y', 'Y', 'Y', 'Y',\n",
       "       'N', 'Y', 'Y', 'Y', 'Y', 'Y', 'Y', 'Y', 'Y', 'Y', 'Y', 'Y', 'Y',\n",
       "       'N', 'Y', 'Y', 'Y', 'Y', 'Y', 'Y', 'Y', 'Y', 'Y', 'Y', 'Y', 'Y',\n",
       "       'Y', 'Y', 'N', 'Y', 'N', 'Y', 'Y', 'N', 'Y', 'Y', 'N', 'Y', 'Y',\n",
       "       'Y', 'Y', 'Y', 'Y', 'Y', 'Y', 'Y', 'N', 'Y', 'N', 'Y', 'Y', 'Y',\n",
       "       'N', 'Y', 'Y', 'N', 'N', 'Y', 'Y', 'Y', 'Y', 'Y', 'Y', 'Y', 'Y',\n",
       "       'Y', 'Y', 'Y', 'Y', 'Y', 'Y', 'Y', 'Y', 'N', 'Y', 'Y', 'Y', 'Y',\n",
       "       'Y', 'Y', 'Y', 'Y', 'Y', 'Y', 'Y', 'Y', 'Y', 'Y', 'Y', 'Y', 'Y',\n",
       "       'Y', 'Y', 'N', 'Y', 'Y', 'N', 'Y', 'Y', 'Y', 'Y', 'Y', 'Y', 'Y',\n",
       "       'Y', 'Y', 'Y', 'Y', 'Y', 'Y', 'Y', 'Y', 'Y', 'N', 'Y', 'Y', 'N',\n",
       "       'Y', 'Y', 'Y', 'Y', 'Y', 'Y', 'Y', 'Y', 'N', 'Y', 'Y', 'Y', 'N',\n",
       "       'Y', 'Y', 'N', 'Y', 'N', 'Y', 'Y', 'Y', 'Y', 'Y', 'N', 'Y', 'Y',\n",
       "       'Y', 'Y', 'Y', 'Y', 'Y', 'Y', 'Y', 'Y', 'Y', 'Y', 'Y', 'Y', 'N',\n",
       "       'N', 'Y', 'N', 'Y', 'Y', 'Y', 'Y', 'Y', 'Y', 'Y', 'Y', 'Y', 'Y',\n",
       "       'Y', 'Y', 'Y', 'N', 'Y', 'Y', 'Y', 'Y', 'Y', 'Y', 'Y', 'Y', 'Y',\n",
       "       'Y', 'Y', 'Y', 'Y', 'N', 'Y', 'Y', 'Y', 'Y', 'Y', 'Y', 'Y', 'Y',\n",
       "       'Y', 'Y', 'N', 'Y', 'N', 'Y', 'Y', 'Y', 'Y', 'Y', 'Y', 'Y', 'Y',\n",
       "       'N', 'N', 'N', 'N', 'Y', 'Y', 'Y', 'Y', 'Y', 'Y', 'Y', 'N', 'Y',\n",
       "       'Y', 'N', 'Y', 'Y', 'Y', 'Y', 'Y', 'Y', 'Y', 'Y', 'N', 'Y', 'Y',\n",
       "       'Y', 'Y', 'Y', 'Y', 'Y', 'N', 'Y', 'Y', 'Y', 'Y', 'Y', 'N', 'Y',\n",
       "       'Y', 'Y', 'Y', 'Y', 'Y', 'Y', 'Y', 'Y', 'N', 'Y'], dtype=object)"
      ]
     },
     "execution_count": 34,
     "metadata": {},
     "output_type": "execute_result"
    }
   ],
   "source": [
    "pred_tr"
   ]
  },
  {
   "cell_type": "code",
   "execution_count": 35,
   "id": "da75cbd7",
   "metadata": {},
   "outputs": [
    {
     "name": "stdout",
     "output_type": "stream",
     "text": [
      "0.81\n",
      "0.82\n"
     ]
    }
   ],
   "source": [
    "from sklearn.metrics import accuracy_score\n",
    "print(round(accuracy_score(ytrain,pred_tr),2))\n",
    "print(round(accuracy_score(ytest,pred_ts),2))"
   ]
  },
  {
   "cell_type": "code",
   "execution_count": 36,
   "id": "4b846159",
   "metadata": {},
   "outputs": [],
   "source": [
    "#as we can see no overfitting in model so we will check using confusion matrix also."
   ]
  },
  {
   "cell_type": "code",
   "execution_count": 37,
   "id": "2ef4ee2d",
   "metadata": {},
   "outputs": [
    {
     "name": "stdout",
     "output_type": "stream",
     "text": [
      "[[ 63  91]\n",
      " [  4 333]]\n",
      "[[19 19]\n",
      " [ 3 82]]\n"
     ]
    }
   ],
   "source": [
    "from sklearn.metrics import confusion_matrix\n",
    "print(confusion_matrix(ytrain,pred_tr))\n",
    "print(confusion_matrix(ytest,pred_ts))"
   ]
  },
  {
   "cell_type": "code",
   "execution_count": 38,
   "id": "3a8ff67d",
   "metadata": {},
   "outputs": [
    {
     "data": {
      "text/plain": [
       "array(['N', 'Y', 'Y', 'Y', 'N', 'Y', 'Y', 'Y', 'N', 'N', 'Y', 'N', 'Y',\n",
       "       'Y', 'N', 'Y', 'Y', 'Y', 'N', 'Y', 'N', 'Y', 'Y', 'Y', 'N', 'N',\n",
       "       'Y', 'Y', 'Y', 'Y', 'Y', 'Y', 'Y', 'Y', 'Y', 'Y', 'Y', 'Y', 'Y',\n",
       "       'Y', 'Y', 'Y', 'Y', 'Y', 'Y', 'Y', 'N', 'Y', 'Y', 'Y', 'N', 'Y',\n",
       "       'N', 'Y', 'Y', 'Y', 'Y', 'Y', 'Y', 'Y', 'Y', 'Y', 'Y', 'Y', 'Y',\n",
       "       'Y', 'N', 'Y', 'Y', 'Y', 'Y', 'Y', 'Y', 'Y', 'Y', 'Y', 'Y', 'Y',\n",
       "       'Y', 'Y', 'Y', 'Y', 'Y', 'Y', 'Y', 'N', 'Y', 'N', 'Y', 'Y', 'Y',\n",
       "       'Y', 'Y', 'Y', 'Y', 'Y', 'Y', 'Y', 'Y', 'Y', 'N', 'Y', 'Y', 'N',\n",
       "       'N', 'Y', 'Y', 'Y', 'Y', 'Y', 'Y', 'Y', 'Y', 'N', 'Y', 'N', 'N',\n",
       "       'Y', 'Y', 'Y', 'Y', 'Y', 'Y'], dtype=object)"
      ]
     },
     "execution_count": 38,
     "metadata": {},
     "output_type": "execute_result"
    }
   ],
   "source": [
    "pred_ts"
   ]
  },
  {
   "cell_type": "code",
   "execution_count": 39,
   "id": "2aca387f",
   "metadata": {},
   "outputs": [
    {
     "data": {
      "text/plain": [
       "array([[0.88772743, 0.11227257],\n",
       "       [0.21301566, 0.78698434],\n",
       "       [0.21301566, 0.78698434],\n",
       "       [0.21301566, 0.78698434],\n",
       "       [0.88772743, 0.11227257],\n",
       "       [0.21301566, 0.78698434],\n",
       "       [0.21301566, 0.78698434],\n",
       "       [0.21301566, 0.78698434],\n",
       "       [0.88772743, 0.11227257],\n",
       "       [0.88772743, 0.11227257],\n",
       "       [0.21301566, 0.78698434],\n",
       "       [0.88772743, 0.11227257],\n",
       "       [0.21301566, 0.78698434],\n",
       "       [0.21301566, 0.78698434],\n",
       "       [0.88772743, 0.11227257],\n",
       "       [0.21301566, 0.78698434],\n",
       "       [0.3155433 , 0.6844567 ],\n",
       "       [0.21301566, 0.78698434],\n",
       "       [0.88772743, 0.11227257],\n",
       "       [0.21301566, 0.78698434],\n",
       "       [0.88772743, 0.11227257],\n",
       "       [0.21301566, 0.78698434],\n",
       "       [0.21301566, 0.78698434],\n",
       "       [0.21301566, 0.78698434],\n",
       "       [0.88772743, 0.11227257],\n",
       "       [0.88772743, 0.11227257],\n",
       "       [0.3155433 , 0.6844567 ],\n",
       "       [0.3155433 , 0.6844567 ],\n",
       "       [0.21301566, 0.78698434],\n",
       "       [0.21301566, 0.78698434],\n",
       "       [0.21301566, 0.78698434],\n",
       "       [0.21301566, 0.78698434],\n",
       "       [0.21301566, 0.78698434],\n",
       "       [0.21301566, 0.78698434],\n",
       "       [0.21301566, 0.78698434],\n",
       "       [0.3155433 , 0.6844567 ],\n",
       "       [0.21301566, 0.78698434],\n",
       "       [0.21301566, 0.78698434],\n",
       "       [0.21301566, 0.78698434],\n",
       "       [0.3155433 , 0.6844567 ],\n",
       "       [0.21301566, 0.78698434],\n",
       "       [0.3155433 , 0.6844567 ],\n",
       "       [0.21301566, 0.78698434],\n",
       "       [0.21301566, 0.78698434],\n",
       "       [0.21301566, 0.78698434],\n",
       "       [0.21301566, 0.78698434],\n",
       "       [0.88772743, 0.11227257],\n",
       "       [0.21301566, 0.78698434],\n",
       "       [0.21301566, 0.78698434],\n",
       "       [0.21301566, 0.78698434],\n",
       "       [0.88772743, 0.11227257],\n",
       "       [0.21301566, 0.78698434],\n",
       "       [0.88772743, 0.11227257],\n",
       "       [0.21301566, 0.78698434],\n",
       "       [0.21301566, 0.78698434],\n",
       "       [0.21301566, 0.78698434],\n",
       "       [0.21301566, 0.78698434],\n",
       "       [0.21301566, 0.78698434],\n",
       "       [0.21301566, 0.78698434],\n",
       "       [0.21301566, 0.78698434],\n",
       "       [0.21301566, 0.78698434],\n",
       "       [0.21301566, 0.78698434],\n",
       "       [0.21301566, 0.78698434],\n",
       "       [0.21301566, 0.78698434],\n",
       "       [0.21301566, 0.78698434],\n",
       "       [0.21301566, 0.78698434],\n",
       "       [0.88772743, 0.11227257],\n",
       "       [0.21301566, 0.78698434],\n",
       "       [0.21301566, 0.78698434],\n",
       "       [0.21301566, 0.78698434],\n",
       "       [0.21301566, 0.78698434],\n",
       "       [0.21301566, 0.78698434],\n",
       "       [0.21301566, 0.78698434],\n",
       "       [0.21301566, 0.78698434],\n",
       "       [0.21301566, 0.78698434],\n",
       "       [0.21301566, 0.78698434],\n",
       "       [0.21301566, 0.78698434],\n",
       "       [0.21301566, 0.78698434],\n",
       "       [0.21301566, 0.78698434],\n",
       "       [0.21301566, 0.78698434],\n",
       "       [0.21301566, 0.78698434],\n",
       "       [0.21301566, 0.78698434],\n",
       "       [0.21301566, 0.78698434],\n",
       "       [0.21301566, 0.78698434],\n",
       "       [0.21301566, 0.78698434],\n",
       "       [0.88772743, 0.11227257],\n",
       "       [0.3155433 , 0.6844567 ],\n",
       "       [0.88772743, 0.11227257],\n",
       "       [0.21301566, 0.78698434],\n",
       "       [0.21301566, 0.78698434],\n",
       "       [0.21301566, 0.78698434],\n",
       "       [0.21301566, 0.78698434],\n",
       "       [0.21301566, 0.78698434],\n",
       "       [0.21301566, 0.78698434],\n",
       "       [0.21301566, 0.78698434],\n",
       "       [0.21301566, 0.78698434],\n",
       "       [0.21301566, 0.78698434],\n",
       "       [0.21301566, 0.78698434],\n",
       "       [0.21301566, 0.78698434],\n",
       "       [0.21301566, 0.78698434],\n",
       "       [0.88772743, 0.11227257],\n",
       "       [0.21301566, 0.78698434],\n",
       "       [0.21301566, 0.78698434],\n",
       "       [0.88772743, 0.11227257],\n",
       "       [0.88772743, 0.11227257],\n",
       "       [0.21301566, 0.78698434],\n",
       "       [0.21301566, 0.78698434],\n",
       "       [0.21301566, 0.78698434],\n",
       "       [0.21301566, 0.78698434],\n",
       "       [0.21301566, 0.78698434],\n",
       "       [0.21301566, 0.78698434],\n",
       "       [0.21301566, 0.78698434],\n",
       "       [0.21301566, 0.78698434],\n",
       "       [0.88772743, 0.11227257],\n",
       "       [0.21301566, 0.78698434],\n",
       "       [0.88772743, 0.11227257],\n",
       "       [0.88772743, 0.11227257],\n",
       "       [0.21301566, 0.78698434],\n",
       "       [0.3155433 , 0.6844567 ],\n",
       "       [0.21301566, 0.78698434],\n",
       "       [0.3155433 , 0.6844567 ],\n",
       "       [0.21301566, 0.78698434],\n",
       "       [0.21301566, 0.78698434]])"
      ]
     },
     "execution_count": 39,
     "metadata": {},
     "output_type": "execute_result"
    }
   ],
   "source": [
    "model.predict_proba(xtest)"
   ]
  },
  {
   "cell_type": "code",
   "execution_count": 40,
   "id": "1a7d282c",
   "metadata": {},
   "outputs": [
    {
     "data": {
      "text/plain": [
       "Y    337\n",
       "N    154\n",
       "Name: Loan_Status, dtype: int64"
      ]
     },
     "execution_count": 40,
     "metadata": {},
     "output_type": "execute_result"
    }
   ],
   "source": [
    "ytrain.Loan_Status.value_counts()"
   ]
  },
  {
   "cell_type": "code",
   "execution_count": 41,
   "id": "9c67132b",
   "metadata": {},
   "outputs": [],
   "source": [
    "#As we can see there is Imbalance in data so we will try with Random Forest Alogorithm"
   ]
  },
  {
   "cell_type": "markdown",
   "id": "bae601cb",
   "metadata": {},
   "source": [
    "# Prepare Test Data for prediction"
   ]
  },
  {
   "cell_type": "code",
   "execution_count": 42,
   "id": "d50c2d07",
   "metadata": {},
   "outputs": [],
   "source": [
    "test=Tnew[[\"Credit_History\"]]"
   ]
  },
  {
   "cell_type": "code",
   "execution_count": 43,
   "id": "4201287f",
   "metadata": {},
   "outputs": [
    {
     "data": {
      "text/html": [
       "<div>\n",
       "<style scoped>\n",
       "    .dataframe tbody tr th:only-of-type {\n",
       "        vertical-align: middle;\n",
       "    }\n",
       "\n",
       "    .dataframe tbody tr th {\n",
       "        vertical-align: top;\n",
       "    }\n",
       "\n",
       "    .dataframe thead th {\n",
       "        text-align: right;\n",
       "    }\n",
       "</style>\n",
       "<table border=\"1\" class=\"dataframe\">\n",
       "  <thead>\n",
       "    <tr style=\"text-align: right;\">\n",
       "      <th></th>\n",
       "      <th>Credit_History</th>\n",
       "    </tr>\n",
       "  </thead>\n",
       "  <tbody>\n",
       "    <tr>\n",
       "      <th>0</th>\n",
       "      <td>1.0</td>\n",
       "    </tr>\n",
       "    <tr>\n",
       "      <th>1</th>\n",
       "      <td>1.0</td>\n",
       "    </tr>\n",
       "    <tr>\n",
       "      <th>2</th>\n",
       "      <td>1.0</td>\n",
       "    </tr>\n",
       "  </tbody>\n",
       "</table>\n",
       "</div>"
      ],
      "text/plain": [
       "   Credit_History\n",
       "0             1.0\n",
       "1             1.0\n",
       "2             1.0"
      ]
     },
     "execution_count": 43,
     "metadata": {},
     "output_type": "execute_result"
    }
   ],
   "source": [
    "test.head(3)"
   ]
  },
  {
   "cell_type": "code",
   "execution_count": 44,
   "id": "842cab4f",
   "metadata": {},
   "outputs": [],
   "source": [
    "pred_test=model.predict(test)"
   ]
  },
  {
   "cell_type": "code",
   "execution_count": 45,
   "id": "3e099d45",
   "metadata": {},
   "outputs": [
    {
     "data": {
      "text/plain": [
       "array(['Y', 'Y', 'Y', 'Y', 'Y', 'Y', 'Y', 'N', 'Y', 'Y', 'Y', 'Y', 'Y',\n",
       "       'N', 'Y', 'Y', 'Y', 'Y', 'Y', 'Y', 'Y', 'Y', 'Y', 'Y', 'Y', 'N',\n",
       "       'Y', 'Y', 'Y', 'Y', 'Y', 'Y', 'Y', 'Y', 'Y', 'N', 'Y', 'Y', 'Y',\n",
       "       'Y', 'Y', 'Y', 'Y', 'Y', 'Y', 'Y', 'Y', 'Y', 'Y', 'Y', 'Y', 'Y',\n",
       "       'Y', 'Y', 'Y', 'N', 'Y', 'Y', 'N', 'Y', 'Y', 'Y', 'Y', 'N', 'Y',\n",
       "       'Y', 'N', 'N', 'Y', 'N', 'Y', 'Y', 'Y', 'Y', 'Y', 'Y', 'Y', 'Y',\n",
       "       'Y', 'Y', 'N', 'Y', 'N', 'Y', 'N', 'Y', 'Y', 'Y', 'Y', 'Y', 'Y',\n",
       "       'Y', 'Y', 'Y', 'N', 'Y', 'Y', 'Y', 'Y', 'Y', 'Y', 'N', 'Y', 'Y',\n",
       "       'Y', 'Y', 'N', 'Y', 'Y', 'Y', 'Y', 'Y', 'Y', 'Y', 'Y', 'Y', 'Y',\n",
       "       'N', 'N', 'N', 'Y', 'Y', 'Y', 'N', 'N', 'Y', 'N', 'Y', 'Y', 'Y',\n",
       "       'Y', 'Y', 'Y', 'Y', 'Y', 'Y', 'Y', 'Y', 'Y', 'Y', 'N', 'Y', 'N',\n",
       "       'Y', 'Y', 'Y', 'Y', 'N', 'Y', 'Y', 'Y', 'Y', 'Y', 'N', 'Y', 'Y',\n",
       "       'Y', 'Y', 'Y', 'Y', 'Y', 'N', 'Y', 'Y', 'Y', 'N', 'N', 'Y', 'N',\n",
       "       'Y', 'Y', 'Y', 'Y', 'N', 'N', 'Y', 'Y', 'Y', 'Y', 'Y', 'Y', 'Y',\n",
       "       'Y', 'Y', 'Y', 'Y', 'Y', 'Y', 'Y', 'Y', 'Y', 'Y', 'N', 'N', 'Y',\n",
       "       'Y', 'N', 'Y', 'N', 'Y', 'Y', 'Y', 'Y', 'Y', 'Y', 'Y', 'Y', 'Y',\n",
       "       'Y', 'Y', 'Y', 'N', 'Y', 'Y', 'Y', 'Y', 'Y', 'Y', 'Y', 'Y', 'Y',\n",
       "       'Y', 'Y', 'Y', 'N', 'Y', 'Y', 'Y', 'Y', 'N', 'Y', 'Y', 'Y', 'Y',\n",
       "       'Y', 'N', 'N', 'Y', 'Y', 'Y', 'Y', 'N', 'Y', 'N', 'Y', 'N', 'Y',\n",
       "       'Y', 'Y', 'Y', 'N', 'Y', 'Y', 'Y', 'Y', 'N', 'Y', 'Y', 'Y', 'Y',\n",
       "       'Y', 'Y', 'Y', 'Y', 'Y', 'Y', 'N', 'Y', 'N', 'Y', 'Y', 'Y', 'Y',\n",
       "       'N', 'N', 'Y', 'Y', 'Y', 'N', 'Y', 'Y', 'Y', 'Y', 'Y', 'Y', 'Y',\n",
       "       'Y', 'Y', 'Y', 'Y', 'Y', 'Y', 'Y', 'N', 'Y', 'Y', 'Y', 'Y', 'Y',\n",
       "       'Y', 'Y', 'N', 'Y', 'Y', 'Y', 'Y', 'Y', 'Y', 'Y', 'Y', 'Y', 'N',\n",
       "       'Y', 'Y', 'Y', 'Y', 'Y', 'N', 'Y', 'Y', 'Y', 'Y', 'Y', 'Y', 'Y',\n",
       "       'N', 'Y', 'Y', 'Y', 'Y', 'Y', 'Y', 'Y', 'Y', 'Y', 'Y', 'Y', 'Y',\n",
       "       'Y', 'N', 'Y', 'Y', 'Y', 'Y', 'Y', 'Y', 'N', 'Y', 'Y', 'Y', 'Y',\n",
       "       'Y', 'Y', 'Y', 'N', 'Y', 'Y', 'Y', 'Y', 'Y', 'Y', 'Y', 'Y', 'Y',\n",
       "       'Y', 'Y', 'Y'], dtype=object)"
      ]
     },
     "execution_count": 45,
     "metadata": {},
     "output_type": "execute_result"
    }
   ],
   "source": [
    "pred_test"
   ]
  },
  {
   "cell_type": "code",
   "execution_count": 46,
   "id": "8cd6f823",
   "metadata": {},
   "outputs": [
    {
     "data": {
      "text/html": [
       "<div>\n",
       "<style scoped>\n",
       "    .dataframe tbody tr th:only-of-type {\n",
       "        vertical-align: middle;\n",
       "    }\n",
       "\n",
       "    .dataframe tbody tr th {\n",
       "        vertical-align: top;\n",
       "    }\n",
       "\n",
       "    .dataframe thead th {\n",
       "        text-align: right;\n",
       "    }\n",
       "</style>\n",
       "<table border=\"1\" class=\"dataframe\">\n",
       "  <thead>\n",
       "    <tr style=\"text-align: right;\">\n",
       "      <th></th>\n",
       "      <th>Loan_ID</th>\n",
       "      <th>Gender</th>\n",
       "      <th>Married</th>\n",
       "      <th>Dependents</th>\n",
       "      <th>Education</th>\n",
       "      <th>Self_Employed</th>\n",
       "      <th>ApplicantIncome</th>\n",
       "      <th>CoapplicantIncome</th>\n",
       "      <th>LoanAmount</th>\n",
       "      <th>Loan_Amount_Term</th>\n",
       "      <th>Credit_History</th>\n",
       "      <th>Property_Area</th>\n",
       "    </tr>\n",
       "  </thead>\n",
       "  <tbody>\n",
       "    <tr>\n",
       "      <th>0</th>\n",
       "      <td>LP001015</td>\n",
       "      <td>Male</td>\n",
       "      <td>Yes</td>\n",
       "      <td>0</td>\n",
       "      <td>Graduate</td>\n",
       "      <td>No</td>\n",
       "      <td>5720</td>\n",
       "      <td>0</td>\n",
       "      <td>110.0</td>\n",
       "      <td>360.0</td>\n",
       "      <td>1.0</td>\n",
       "      <td>Urban</td>\n",
       "    </tr>\n",
       "    <tr>\n",
       "      <th>1</th>\n",
       "      <td>LP001022</td>\n",
       "      <td>Male</td>\n",
       "      <td>Yes</td>\n",
       "      <td>1</td>\n",
       "      <td>Graduate</td>\n",
       "      <td>No</td>\n",
       "      <td>3076</td>\n",
       "      <td>1500</td>\n",
       "      <td>126.0</td>\n",
       "      <td>360.0</td>\n",
       "      <td>1.0</td>\n",
       "      <td>Urban</td>\n",
       "    </tr>\n",
       "    <tr>\n",
       "      <th>2</th>\n",
       "      <td>LP001031</td>\n",
       "      <td>Male</td>\n",
       "      <td>Yes</td>\n",
       "      <td>2</td>\n",
       "      <td>Graduate</td>\n",
       "      <td>No</td>\n",
       "      <td>5000</td>\n",
       "      <td>1800</td>\n",
       "      <td>208.0</td>\n",
       "      <td>360.0</td>\n",
       "      <td>1.0</td>\n",
       "      <td>Urban</td>\n",
       "    </tr>\n",
       "  </tbody>\n",
       "</table>\n",
       "</div>"
      ],
      "text/plain": [
       "    Loan_ID Gender Married Dependents Education Self_Employed  \\\n",
       "0  LP001015   Male     Yes          0  Graduate            No   \n",
       "1  LP001022   Male     Yes          1  Graduate            No   \n",
       "2  LP001031   Male     Yes          2  Graduate            No   \n",
       "\n",
       "   ApplicantIncome  CoapplicantIncome  LoanAmount  Loan_Amount_Term  \\\n",
       "0             5720                  0       110.0             360.0   \n",
       "1             3076               1500       126.0             360.0   \n",
       "2             5000               1800       208.0             360.0   \n",
       "\n",
       "   Credit_History Property_Area  \n",
       "0             1.0         Urban  \n",
       "1             1.0         Urban  \n",
       "2             1.0         Urban  "
      ]
     },
     "execution_count": 46,
     "metadata": {},
     "output_type": "execute_result"
    }
   ],
   "source": [
    "TS.head(3)"
   ]
  },
  {
   "cell_type": "code",
   "execution_count": 47,
   "id": "b5c11c44",
   "metadata": {},
   "outputs": [],
   "source": [
    "B = TS[[\"Loan_ID\"]]\n",
    "B['Loan_Status']=pred_test"
   ]
  },
  {
   "cell_type": "code",
   "execution_count": 48,
   "id": "c24d2917",
   "metadata": {},
   "outputs": [
    {
     "data": {
      "text/html": [
       "<div>\n",
       "<style scoped>\n",
       "    .dataframe tbody tr th:only-of-type {\n",
       "        vertical-align: middle;\n",
       "    }\n",
       "\n",
       "    .dataframe tbody tr th {\n",
       "        vertical-align: top;\n",
       "    }\n",
       "\n",
       "    .dataframe thead th {\n",
       "        text-align: right;\n",
       "    }\n",
       "</style>\n",
       "<table border=\"1\" class=\"dataframe\">\n",
       "  <thead>\n",
       "    <tr style=\"text-align: right;\">\n",
       "      <th></th>\n",
       "      <th>Loan_ID</th>\n",
       "      <th>Loan_Status</th>\n",
       "    </tr>\n",
       "  </thead>\n",
       "  <tbody>\n",
       "    <tr>\n",
       "      <th>0</th>\n",
       "      <td>LP001015</td>\n",
       "      <td>Y</td>\n",
       "    </tr>\n",
       "    <tr>\n",
       "      <th>1</th>\n",
       "      <td>LP001022</td>\n",
       "      <td>Y</td>\n",
       "    </tr>\n",
       "  </tbody>\n",
       "</table>\n",
       "</div>"
      ],
      "text/plain": [
       "    Loan_ID Loan_Status\n",
       "0  LP001015           Y\n",
       "1  LP001022           Y"
      ]
     },
     "execution_count": 48,
     "metadata": {},
     "output_type": "execute_result"
    }
   ],
   "source": [
    "B.head(2)"
   ]
  },
  {
   "cell_type": "code",
   "execution_count": 49,
   "id": "f8fab078",
   "metadata": {},
   "outputs": [],
   "source": [
    "B.to_csv(\"C:/Users/admin/Downloads/Loan Project/Logistic_Regression_Results.csv\")"
   ]
  },
  {
   "cell_type": "markdown",
   "id": "dbbd7ffe",
   "metadata": {},
   "source": [
    "# Model 2- Using Random Forest Classifier\n",
    "Create Model\n",
    "Use same X and Y which we prepared earlier"
   ]
  },
  {
   "cell_type": "code",
   "execution_count": 50,
   "id": "e361abe2",
   "metadata": {},
   "outputs": [],
   "source": [
    "Y=A[[\"Loan_Status\"]]\n",
    "X=A.drop(labels=[\"Loan_Status\"],axis=1)"
   ]
  },
  {
   "cell_type": "code",
   "execution_count": 51,
   "id": "89b857da",
   "metadata": {},
   "outputs": [],
   "source": [
    "from sklearn.preprocessing import StandardScaler \n",
    "ss=StandardScaler()\n",
    "X1=X[con]\n",
    "X2=pd.get_dummies(X[cat])\n",
    "Xnew=X1.join(X2)"
   ]
  },
  {
   "cell_type": "code",
   "execution_count": 52,
   "id": "c013d197",
   "metadata": {},
   "outputs": [
    {
     "data": {
      "text/plain": [
       "(614, 20)"
      ]
     },
     "execution_count": 52,
     "metadata": {},
     "output_type": "execute_result"
    }
   ],
   "source": [
    "Xnew.shape"
   ]
  },
  {
   "cell_type": "markdown",
   "id": "056b3a47",
   "metadata": {},
   "source": [
    "# Split Data"
   ]
  },
  {
   "cell_type": "code",
   "execution_count": 53,
   "id": "17bff354",
   "metadata": {},
   "outputs": [],
   "source": [
    "from sklearn.model_selection import train_test_split\n",
    "xtrain,xtest,ytrain,ytest=train_test_split(Xnew,Y,test_size=0.2,random_state=21)"
   ]
  },
  {
   "cell_type": "code",
   "execution_count": 54,
   "id": "c1cd8fa0",
   "metadata": {},
   "outputs": [],
   "source": [
    "from sklearn.ensemble import RandomForestClassifier\n",
    "rfc=RandomForestClassifier(n_estimators=30,criterion=\"entropy\",random_state=21,max_depth=2)\n",
    "model=rfc.fit(xtrain,ytrain)\n",
    "\n",
    "pred_tr=model.predict(xtrain)\n",
    "pred_ts=model.predict(xtest)\n",
    "\n",
    "from sklearn.metrics import accuracy_score\n",
    "tr_acc=accuracy_score(ytrain,pred_tr)\n",
    "ts_acc=accuracy_score(ytest,pred_ts)"
   ]
  },
  {
   "cell_type": "code",
   "execution_count": 55,
   "id": "719580c3",
   "metadata": {},
   "outputs": [
    {
     "data": {
      "text/plain": [
       "0.8065173116089613"
      ]
     },
     "execution_count": 55,
     "metadata": {},
     "output_type": "execute_result"
    }
   ],
   "source": [
    "tr_acc"
   ]
  },
  {
   "cell_type": "code",
   "execution_count": 56,
   "id": "1806e1a7",
   "metadata": {},
   "outputs": [
    {
     "data": {
      "text/plain": [
       "0.8211382113821138"
      ]
     },
     "execution_count": 56,
     "metadata": {},
     "output_type": "execute_result"
    }
   ],
   "source": [
    "ts_acc"
   ]
  },
  {
   "cell_type": "markdown",
   "id": "589836ad",
   "metadata": {},
   "source": [
    "# Pruning"
   ]
  },
  {
   "cell_type": "code",
   "execution_count": 57,
   "id": "45d70d2c",
   "metadata": {},
   "outputs": [],
   "source": [
    "#max_depth,min_sample_leaf,min_samples_split"
   ]
  },
  {
   "cell_type": "code",
   "execution_count": 58,
   "id": "eb343bfa",
   "metadata": {},
   "outputs": [],
   "source": [
    "tr=[]\n",
    "ts=[]\n",
    "for i in range(2,80,1):\n",
    "    from sklearn.ensemble import RandomForestClassifier\n",
    "    rfc=RandomForestClassifier(n_estimators=30,criterion=\"entropy\",random_state=21,max_depth=i)\n",
    "    model=rfc.fit(xtrain,ytrain)\n",
    "\n",
    "    pred_tr=model.predict(xtrain)\n",
    "    pred_ts=model.predict(xtest)\n",
    "\n",
    "    from sklearn.metrics import accuracy_score\n",
    "    tr_acc=accuracy_score(ytrain,pred_tr)\n",
    "    ts_acc=accuracy_score(ytest,pred_ts)\n",
    "    tr.append(tr_acc)\n",
    "    ts.append(ts_acc)"
   ]
  },
  {
   "cell_type": "code",
   "execution_count": 59,
   "id": "8ad0eea8",
   "metadata": {},
   "outputs": [
    {
     "data": {
      "text/plain": [
       "[<matplotlib.lines.Line2D at 0x219eb9497c0>]"
      ]
     },
     "execution_count": 59,
     "metadata": {},
     "output_type": "execute_result"
    },
    {
     "data": {
      "image/png": "[encoded data removed]",
      "text/plain": [
       "<Figure size 432x288 with 1 Axes>"
      ]
     },
     "metadata": {
      "needs_background": "light"
     },
     "output_type": "display_data"
    }
   ],
   "source": [
    "import matplotlib.pyplot as plt\n",
    "plt.plot(range(2,80,1),tr,c=\"blue\")\n",
    "plt.plot(range(2,80,1),ts,c=\"red\")"
   ]
  },
  {
   "cell_type": "code",
   "execution_count": 60,
   "id": "3f0abad2",
   "metadata": {},
   "outputs": [
    {
     "name": "stdout",
     "output_type": "stream",
     "text": [
      "1.0\n",
      "0.78\n"
     ]
    }
   ],
   "source": [
    "from sklearn.metrics import accuracy_score\n",
    "print(round(accuracy_score(ytrain,pred_tr),2))\n",
    "print(round(accuracy_score(ytest,pred_ts),2))"
   ]
  },
  {
   "cell_type": "code",
   "execution_count": 61,
   "id": "9e941b2a",
   "metadata": {},
   "outputs": [],
   "source": [
    "tr=[]\n",
    "ts=[]\n",
    "for i in range(2,80,1):\n",
    "    from sklearn.ensemble import RandomForestClassifier\n",
    "    rfc=RandomForestClassifier(n_estimators=30,criterion=\"entropy\",random_state=21,min_samples_leaf=i)\n",
    "    model=rfc.fit(xtrain,ytrain)\n",
    "\n",
    "    pred_tr=model.predict(xtrain)\n",
    "    pred_ts=model.predict(xtest)\n",
    "\n",
    "    from sklearn.metrics import accuracy_score\n",
    "    tr_acc=accuracy_score(ytrain,pred_tr)\n",
    "    ts_acc=accuracy_score(ytest,pred_ts)\n",
    "    tr.append(tr_acc)\n",
    "    ts.append(ts_acc)"
   ]
  },
  {
   "cell_type": "code",
   "execution_count": 62,
   "id": "fdbe4ffb",
   "metadata": {},
   "outputs": [
    {
     "data": {
      "text/plain": [
       "[<matplotlib.lines.Line2D at 0x219eba634f0>]"
      ]
     },
     "execution_count": 62,
     "metadata": {},
     "output_type": "execute_result"
    },
    {
     "data": {
      "image/png": "[encoded data removed]",
      "text/plain": [
       "<Figure size 432x288 with 1 Axes>"
      ]
     },
     "metadata": {
      "needs_background": "light"
     },
     "output_type": "display_data"
    }
   ],
   "source": [
    "import matplotlib.pyplot as plt\n",
    "plt.plot(range(2,80,1),tr,c=\"blue\")\n",
    "plt.plot(range(2,80,1),ts,c=\"red\")"
   ]
  },
  {
   "cell_type": "code",
   "execution_count": 63,
   "id": "22d3280f",
   "metadata": {},
   "outputs": [
    {
     "name": "stdout",
     "output_type": "stream",
     "text": [
      "0.69\n",
      "0.69\n"
     ]
    }
   ],
   "source": [
    "from sklearn.metrics import accuracy_score\n",
    "print(round(accuracy_score(ytrain,pred_tr),2))\n",
    "print(round(accuracy_score(ytest,pred_ts),2))"
   ]
  },
  {
   "cell_type": "code",
   "execution_count": 64,
   "id": "cc9ebd35",
   "metadata": {},
   "outputs": [],
   "source": [
    "tr=[]\n",
    "ts=[]\n",
    "for i in range(2,80,1):\n",
    "    from sklearn.ensemble import RandomForestClassifier\n",
    "    rfc=RandomForestClassifier(n_estimators=30,criterion=\"entropy\",random_state=21,min_samples_split=i)\n",
    "    model=rfc.fit(xtrain,ytrain)\n",
    "\n",
    "    pred_tr=model.predict(xtrain)\n",
    "    pred_ts=model.predict(xtest)\n",
    "\n",
    "    from sklearn.metrics import accuracy_score\n",
    "    tr_acc=accuracy_score(ytrain,pred_tr)\n",
    "    ts_acc=accuracy_score(ytest,pred_ts)\n",
    "    tr.append(tr_acc)\n",
    "    ts.append(ts_acc)"
   ]
  },
  {
   "cell_type": "code",
   "execution_count": 65,
   "id": "7be8d0ed",
   "metadata": {},
   "outputs": [
    {
     "data": {
      "text/plain": [
       "[<matplotlib.lines.Line2D at 0x219ebabb3a0>]"
      ]
     },
     "execution_count": 65,
     "metadata": {},
     "output_type": "execute_result"
    },
    {
     "data": {
      "image/png": "[encoded data removed]",
      "text/plain": [
       "<Figure size 432x288 with 1 Axes>"
      ]
     },
     "metadata": {
      "needs_background": "light"
     },
     "output_type": "display_data"
    }
   ],
   "source": [
    "import matplotlib.pyplot as plt\n",
    "plt.plot(range(2,80,1),tr,c=\"blue\")\n",
    "plt.plot(range(2,80,1),ts,c=\"red\")"
   ]
  },
  {
   "cell_type": "code",
   "execution_count": 66,
   "id": "de24e3bf",
   "metadata": {},
   "outputs": [
    {
     "name": "stdout",
     "output_type": "stream",
     "text": [
      "0.81\n",
      "0.82\n"
     ]
    }
   ],
   "source": [
    "from sklearn.metrics import accuracy_score\n",
    "print(round(accuracy_score(ytrain,pred_tr),2))\n",
    "print(round(accuracy_score(ytest,pred_ts),2))"
   ]
  },
  {
   "cell_type": "markdown",
   "id": "36823842",
   "metadata": {},
   "source": [
    "# Prepare Test Data for Prediction"
   ]
  },
  {
   "cell_type": "code",
   "execution_count": 67,
   "id": "712ce2a7",
   "metadata": {},
   "outputs": [
    {
     "data": {
      "text/html": [
       "<div>\n",
       "<style scoped>\n",
       "    .dataframe tbody tr th:only-of-type {\n",
       "        vertical-align: middle;\n",
       "    }\n",
       "\n",
       "    .dataframe tbody tr th {\n",
       "        vertical-align: top;\n",
       "    }\n",
       "\n",
       "    .dataframe thead th {\n",
       "        text-align: right;\n",
       "    }\n",
       "</style>\n",
       "<table border=\"1\" class=\"dataframe\">\n",
       "  <thead>\n",
       "    <tr style=\"text-align: right;\">\n",
       "      <th></th>\n",
       "      <th>Gender</th>\n",
       "      <th>Married</th>\n",
       "      <th>Dependents</th>\n",
       "      <th>Education</th>\n",
       "      <th>Self_Employed</th>\n",
       "      <th>ApplicantIncome</th>\n",
       "      <th>CoapplicantIncome</th>\n",
       "      <th>LoanAmount</th>\n",
       "      <th>Loan_Amount_Term</th>\n",
       "      <th>Credit_History</th>\n",
       "      <th>Property_Area</th>\n",
       "    </tr>\n",
       "  </thead>\n",
       "  <tbody>\n",
       "    <tr>\n",
       "      <th>0</th>\n",
       "      <td>Male</td>\n",
       "      <td>Yes</td>\n",
       "      <td>0</td>\n",
       "      <td>Graduate</td>\n",
       "      <td>No</td>\n",
       "      <td>5720</td>\n",
       "      <td>0</td>\n",
       "      <td>110.0</td>\n",
       "      <td>360.0</td>\n",
       "      <td>1.0</td>\n",
       "      <td>Urban</td>\n",
       "    </tr>\n",
       "    <tr>\n",
       "      <th>1</th>\n",
       "      <td>Male</td>\n",
       "      <td>Yes</td>\n",
       "      <td>1</td>\n",
       "      <td>Graduate</td>\n",
       "      <td>No</td>\n",
       "      <td>3076</td>\n",
       "      <td>1500</td>\n",
       "      <td>126.0</td>\n",
       "      <td>360.0</td>\n",
       "      <td>1.0</td>\n",
       "      <td>Urban</td>\n",
       "    </tr>\n",
       "    <tr>\n",
       "      <th>2</th>\n",
       "      <td>Male</td>\n",
       "      <td>Yes</td>\n",
       "      <td>2</td>\n",
       "      <td>Graduate</td>\n",
       "      <td>No</td>\n",
       "      <td>5000</td>\n",
       "      <td>1800</td>\n",
       "      <td>208.0</td>\n",
       "      <td>360.0</td>\n",
       "      <td>1.0</td>\n",
       "      <td>Urban</td>\n",
       "    </tr>\n",
       "  </tbody>\n",
       "</table>\n",
       "</div>"
      ],
      "text/plain": [
       "  Gender Married Dependents Education Self_Employed  ApplicantIncome  \\\n",
       "0   Male     Yes          0  Graduate            No             5720   \n",
       "1   Male     Yes          1  Graduate            No             3076   \n",
       "2   Male     Yes          2  Graduate            No             5000   \n",
       "\n",
       "   CoapplicantIncome  LoanAmount  Loan_Amount_Term  Credit_History  \\\n",
       "0                  0       110.0             360.0             1.0   \n",
       "1               1500       126.0             360.0             1.0   \n",
       "2               1800       208.0             360.0             1.0   \n",
       "\n",
       "  Property_Area  \n",
       "0         Urban  \n",
       "1         Urban  \n",
       "2         Urban  "
      ]
     },
     "execution_count": 67,
     "metadata": {},
     "output_type": "execute_result"
    }
   ],
   "source": [
    "Tnew.head(3)"
   ]
  },
  {
   "cell_type": "code",
   "execution_count": 69,
   "id": "c197852b",
   "metadata": {},
   "outputs": [],
   "source": [
    "#Tnew.isna().sum()"
   ]
  },
  {
   "cell_type": "code",
   "execution_count": 70,
   "id": "327a11ef",
   "metadata": {},
   "outputs": [],
   "source": [
    "cat1,con1=catconsep(Tnew)"
   ]
  },
  {
   "cell_type": "code",
   "execution_count": 71,
   "id": "85dffdac",
   "metadata": {},
   "outputs": [
    {
     "data": {
      "text/plain": [
       "['Gender',\n",
       " 'Married',\n",
       " 'Dependents',\n",
       " 'Education',\n",
       " 'Self_Employed',\n",
       " 'Property_Area']"
      ]
     },
     "execution_count": 71,
     "metadata": {},
     "output_type": "execute_result"
    }
   ],
   "source": [
    "cat1"
   ]
  },
  {
   "cell_type": "code",
   "execution_count": 72,
   "id": "347ce2a9",
   "metadata": {},
   "outputs": [
    {
     "data": {
      "text/plain": [
       "['ApplicantIncome',\n",
       " 'CoapplicantIncome',\n",
       " 'LoanAmount',\n",
       " 'Loan_Amount_Term',\n",
       " 'Credit_History']"
      ]
     },
     "execution_count": 72,
     "metadata": {},
     "output_type": "execute_result"
    }
   ],
   "source": [
    "con1"
   ]
  },
  {
   "cell_type": "code",
   "execution_count": 73,
   "id": "78973707",
   "metadata": {},
   "outputs": [],
   "source": [
    "ss1=StandardScaler()\n",
    "X1t=TS[con1]\n",
    "X2t=pd.get_dummies(TS[cat1])\n",
    "Xnewt=X1t.join(X2t)"
   ]
  },
  {
   "cell_type": "code",
   "execution_count": 74,
   "id": "5d82a29a",
   "metadata": {},
   "outputs": [
    {
     "data": {
      "text/html": [
       "<div>\n",
       "<style scoped>\n",
       "    .dataframe tbody tr th:only-of-type {\n",
       "        vertical-align: middle;\n",
       "    }\n",
       "\n",
       "    .dataframe tbody tr th {\n",
       "        vertical-align: top;\n",
       "    }\n",
       "\n",
       "    .dataframe thead th {\n",
       "        text-align: right;\n",
       "    }\n",
       "</style>\n",
       "<table border=\"1\" class=\"dataframe\">\n",
       "  <thead>\n",
       "    <tr style=\"text-align: right;\">\n",
       "      <th></th>\n",
       "      <th>ApplicantIncome</th>\n",
       "      <th>CoapplicantIncome</th>\n",
       "      <th>LoanAmount</th>\n",
       "      <th>Loan_Amount_Term</th>\n",
       "      <th>Credit_History</th>\n",
       "      <th>Gender_Female</th>\n",
       "      <th>Gender_Male</th>\n",
       "      <th>Married_No</th>\n",
       "      <th>Married_Yes</th>\n",
       "      <th>Dependents_0</th>\n",
       "      <th>Dependents_1</th>\n",
       "      <th>Dependents_2</th>\n",
       "      <th>Dependents_3+</th>\n",
       "      <th>Education_Graduate</th>\n",
       "      <th>Education_Not Graduate</th>\n",
       "      <th>Self_Employed_No</th>\n",
       "      <th>Self_Employed_Yes</th>\n",
       "      <th>Property_Area_Rural</th>\n",
       "      <th>Property_Area_Semiurban</th>\n",
       "      <th>Property_Area_Urban</th>\n",
       "    </tr>\n",
       "  </thead>\n",
       "  <tbody>\n",
       "    <tr>\n",
       "      <th>0</th>\n",
       "      <td>5720</td>\n",
       "      <td>0</td>\n",
       "      <td>110.0</td>\n",
       "      <td>360.0</td>\n",
       "      <td>1.0</td>\n",
       "      <td>0</td>\n",
       "      <td>1</td>\n",
       "      <td>0</td>\n",
       "      <td>1</td>\n",
       "      <td>1</td>\n",
       "      <td>0</td>\n",
       "      <td>0</td>\n",
       "      <td>0</td>\n",
       "      <td>1</td>\n",
       "      <td>0</td>\n",
       "      <td>1</td>\n",
       "      <td>0</td>\n",
       "      <td>0</td>\n",
       "      <td>0</td>\n",
       "      <td>1</td>\n",
       "    </tr>\n",
       "    <tr>\n",
       "      <th>1</th>\n",
       "      <td>3076</td>\n",
       "      <td>1500</td>\n",
       "      <td>126.0</td>\n",
       "      <td>360.0</td>\n",
       "      <td>1.0</td>\n",
       "      <td>0</td>\n",
       "      <td>1</td>\n",
       "      <td>0</td>\n",
       "      <td>1</td>\n",
       "      <td>0</td>\n",
       "      <td>1</td>\n",
       "      <td>0</td>\n",
       "      <td>0</td>\n",
       "      <td>1</td>\n",
       "      <td>0</td>\n",
       "      <td>1</td>\n",
       "      <td>0</td>\n",
       "      <td>0</td>\n",
       "      <td>0</td>\n",
       "      <td>1</td>\n",
       "    </tr>\n",
       "    <tr>\n",
       "      <th>2</th>\n",
       "      <td>5000</td>\n",
       "      <td>1800</td>\n",
       "      <td>208.0</td>\n",
       "      <td>360.0</td>\n",
       "      <td>1.0</td>\n",
       "      <td>0</td>\n",
       "      <td>1</td>\n",
       "      <td>0</td>\n",
       "      <td>1</td>\n",
       "      <td>0</td>\n",
       "      <td>0</td>\n",
       "      <td>1</td>\n",
       "      <td>0</td>\n",
       "      <td>1</td>\n",
       "      <td>0</td>\n",
       "      <td>1</td>\n",
       "      <td>0</td>\n",
       "      <td>0</td>\n",
       "      <td>0</td>\n",
       "      <td>1</td>\n",
       "    </tr>\n",
       "  </tbody>\n",
       "</table>\n",
       "</div>"
      ],
      "text/plain": [
       "   ApplicantIncome  CoapplicantIncome  LoanAmount  Loan_Amount_Term  \\\n",
       "0             5720                  0       110.0             360.0   \n",
       "1             3076               1500       126.0             360.0   \n",
       "2             5000               1800       208.0             360.0   \n",
       "\n",
       "   Credit_History  Gender_Female  Gender_Male  Married_No  Married_Yes  \\\n",
       "0             1.0              0            1           0            1   \n",
       "1             1.0              0            1           0            1   \n",
       "2             1.0              0            1           0            1   \n",
       "\n",
       "   Dependents_0  Dependents_1  Dependents_2  Dependents_3+  \\\n",
       "0             1             0             0              0   \n",
       "1             0             1             0              0   \n",
       "2             0             0             1              0   \n",
       "\n",
       "   Education_Graduate  Education_Not Graduate  Self_Employed_No  \\\n",
       "0                   1                       0                 1   \n",
       "1                   1                       0                 1   \n",
       "2                   1                       0                 1   \n",
       "\n",
       "   Self_Employed_Yes  Property_Area_Rural  Property_Area_Semiurban  \\\n",
       "0                  0                    0                        0   \n",
       "1                  0                    0                        0   \n",
       "2                  0                    0                        0   \n",
       "\n",
       "   Property_Area_Urban  \n",
       "0                    1  \n",
       "1                    1  \n",
       "2                    1  "
      ]
     },
     "execution_count": 74,
     "metadata": {},
     "output_type": "execute_result"
    }
   ],
   "source": [
    "Xnewt.head(3)"
   ]
  },
  {
   "cell_type": "code",
   "execution_count": 75,
   "id": "e8c03acc",
   "metadata": {},
   "outputs": [
    {
     "data": {
      "text/plain": [
       "ApplicantIncome             0\n",
       "CoapplicantIncome           0\n",
       "LoanAmount                  5\n",
       "Loan_Amount_Term            6\n",
       "Credit_History             29\n",
       "Gender_Female               0\n",
       "Gender_Male                 0\n",
       "Married_No                  0\n",
       "Married_Yes                 0\n",
       "Dependents_0                0\n",
       "Dependents_1                0\n",
       "Dependents_2                0\n",
       "Dependents_3+               0\n",
       "Education_Graduate          0\n",
       "Education_Not Graduate      0\n",
       "Self_Employed_No            0\n",
       "Self_Employed_Yes           0\n",
       "Property_Area_Rural         0\n",
       "Property_Area_Semiurban     0\n",
       "Property_Area_Urban         0\n",
       "dtype: int64"
      ]
     },
     "execution_count": 75,
     "metadata": {},
     "output_type": "execute_result"
    }
   ],
   "source": [
    "Xnewt.isna().sum()"
   ]
  },
  {
   "cell_type": "code",
   "execution_count": 76,
   "id": "a002953a",
   "metadata": {},
   "outputs": [],
   "source": [
    "replacer(Xnewt)"
   ]
  },
  {
   "cell_type": "code",
   "execution_count": 77,
   "id": "31fa376f",
   "metadata": {},
   "outputs": [
    {
     "data": {
      "text/plain": [
       "ApplicantIncome            0\n",
       "CoapplicantIncome          0\n",
       "LoanAmount                 0\n",
       "Loan_Amount_Term           0\n",
       "Credit_History             0\n",
       "Gender_Female              0\n",
       "Gender_Male                0\n",
       "Married_No                 0\n",
       "Married_Yes                0\n",
       "Dependents_0               0\n",
       "Dependents_1               0\n",
       "Dependents_2               0\n",
       "Dependents_3+              0\n",
       "Education_Graduate         0\n",
       "Education_Not Graduate     0\n",
       "Self_Employed_No           0\n",
       "Self_Employed_Yes          0\n",
       "Property_Area_Rural        0\n",
       "Property_Area_Semiurban    0\n",
       "Property_Area_Urban        0\n",
       "dtype: int64"
      ]
     },
     "execution_count": 77,
     "metadata": {},
     "output_type": "execute_result"
    }
   ],
   "source": [
    "Xnewt.isna().sum()"
   ]
  },
  {
   "cell_type": "code",
   "execution_count": 78,
   "id": "903a102f",
   "metadata": {},
   "outputs": [],
   "source": [
    "pred_test1=model.predict(Xnewt)"
   ]
  },
  {
   "cell_type": "code",
   "execution_count": 79,
   "id": "d4772ab8",
   "metadata": {},
   "outputs": [
    {
     "data": {
      "text/plain": [
       "array(['Y', 'Y', 'Y', 'Y', 'Y', 'Y', 'Y', 'N', 'Y', 'Y', 'Y', 'Y', 'Y',\n",
       "       'N', 'Y', 'Y', 'Y', 'Y', 'Y', 'Y', 'Y', 'Y', 'Y', 'Y', 'Y', 'N',\n",
       "       'Y', 'Y', 'Y', 'Y', 'Y', 'Y', 'Y', 'Y', 'Y', 'N', 'Y', 'Y', 'Y',\n",
       "       'Y', 'Y', 'Y', 'Y', 'Y', 'Y', 'Y', 'Y', 'Y', 'Y', 'Y', 'Y', 'Y',\n",
       "       'Y', 'Y', 'Y', 'N', 'Y', 'Y', 'N', 'Y', 'Y', 'Y', 'Y', 'N', 'Y',\n",
       "       'Y', 'N', 'N', 'Y', 'N', 'Y', 'Y', 'Y', 'Y', 'Y', 'Y', 'Y', 'Y',\n",
       "       'Y', 'Y', 'N', 'Y', 'N', 'Y', 'N', 'Y', 'Y', 'Y', 'Y', 'Y', 'Y',\n",
       "       'Y', 'Y', 'Y', 'N', 'Y', 'Y', 'Y', 'Y', 'Y', 'Y', 'N', 'Y', 'Y',\n",
       "       'Y', 'Y', 'N', 'Y', 'Y', 'Y', 'Y', 'Y', 'Y', 'Y', 'Y', 'Y', 'Y',\n",
       "       'N', 'N', 'N', 'Y', 'Y', 'Y', 'N', 'N', 'Y', 'N', 'Y', 'Y', 'Y',\n",
       "       'Y', 'Y', 'Y', 'Y', 'Y', 'Y', 'Y', 'Y', 'Y', 'Y', 'N', 'Y', 'N',\n",
       "       'Y', 'Y', 'Y', 'Y', 'N', 'Y', 'Y', 'Y', 'Y', 'Y', 'N', 'Y', 'Y',\n",
       "       'Y', 'Y', 'Y', 'Y', 'Y', 'N', 'Y', 'Y', 'Y', 'N', 'N', 'Y', 'N',\n",
       "       'Y', 'Y', 'Y', 'Y', 'N', 'N', 'Y', 'Y', 'Y', 'Y', 'Y', 'Y', 'Y',\n",
       "       'Y', 'Y', 'Y', 'Y', 'Y', 'Y', 'Y', 'Y', 'Y', 'Y', 'N', 'N', 'Y',\n",
       "       'Y', 'N', 'Y', 'N', 'Y', 'Y', 'Y', 'Y', 'Y', 'Y', 'Y', 'Y', 'Y',\n",
       "       'Y', 'Y', 'Y', 'N', 'Y', 'Y', 'Y', 'Y', 'Y', 'Y', 'Y', 'Y', 'Y',\n",
       "       'Y', 'Y', 'Y', 'N', 'Y', 'Y', 'Y', 'Y', 'N', 'Y', 'Y', 'Y', 'Y',\n",
       "       'Y', 'N', 'N', 'Y', 'Y', 'Y', 'Y', 'N', 'Y', 'N', 'Y', 'N', 'Y',\n",
       "       'Y', 'Y', 'Y', 'N', 'Y', 'Y', 'Y', 'Y', 'N', 'Y', 'Y', 'Y', 'Y',\n",
       "       'Y', 'Y', 'Y', 'Y', 'Y', 'Y', 'N', 'Y', 'N', 'Y', 'Y', 'Y', 'Y',\n",
       "       'N', 'N', 'Y', 'Y', 'Y', 'N', 'Y', 'Y', 'Y', 'Y', 'Y', 'Y', 'Y',\n",
       "       'Y', 'Y', 'Y', 'Y', 'Y', 'Y', 'Y', 'N', 'Y', 'Y', 'Y', 'Y', 'Y',\n",
       "       'Y', 'Y', 'N', 'Y', 'Y', 'Y', 'Y', 'Y', 'Y', 'Y', 'Y', 'Y', 'N',\n",
       "       'Y', 'Y', 'Y', 'Y', 'Y', 'N', 'Y', 'Y', 'Y', 'Y', 'Y', 'Y', 'Y',\n",
       "       'N', 'Y', 'Y', 'Y', 'Y', 'Y', 'Y', 'Y', 'Y', 'Y', 'Y', 'Y', 'Y',\n",
       "       'Y', 'N', 'Y', 'Y', 'Y', 'Y', 'Y', 'Y', 'N', 'Y', 'Y', 'Y', 'Y',\n",
       "       'Y', 'Y', 'Y', 'N', 'Y', 'Y', 'Y', 'Y', 'Y', 'Y', 'Y', 'Y', 'Y',\n",
       "       'Y', 'Y', 'Y'], dtype=object)"
      ]
     },
     "execution_count": 79,
     "metadata": {},
     "output_type": "execute_result"
    }
   ],
   "source": [
    "pred_test1"
   ]
  },
  {
   "cell_type": "code",
   "execution_count": 80,
   "id": "ed667ace",
   "metadata": {},
   "outputs": [],
   "source": [
    "Bt = TS[[\"Loan_ID\"]]\n",
    "Bt['Loan_Status']=pred_test1"
   ]
  },
  {
   "cell_type": "code",
   "execution_count": 81,
   "id": "5cbd5949",
   "metadata": {},
   "outputs": [
    {
     "data": {
      "text/html": [
       "<div>\n",
       "<style scoped>\n",
       "    .dataframe tbody tr th:only-of-type {\n",
       "        vertical-align: middle;\n",
       "    }\n",
       "\n",
       "    .dataframe tbody tr th {\n",
       "        vertical-align: top;\n",
       "    }\n",
       "\n",
       "    .dataframe thead th {\n",
       "        text-align: right;\n",
       "    }\n",
       "</style>\n",
       "<table border=\"1\" class=\"dataframe\">\n",
       "  <thead>\n",
       "    <tr style=\"text-align: right;\">\n",
       "      <th></th>\n",
       "      <th>Loan_ID</th>\n",
       "      <th>Loan_Status</th>\n",
       "    </tr>\n",
       "  </thead>\n",
       "  <tbody>\n",
       "    <tr>\n",
       "      <th>0</th>\n",
       "      <td>LP001015</td>\n",
       "      <td>Y</td>\n",
       "    </tr>\n",
       "    <tr>\n",
       "      <th>1</th>\n",
       "      <td>LP001022</td>\n",
       "      <td>Y</td>\n",
       "    </tr>\n",
       "  </tbody>\n",
       "</table>\n",
       "</div>"
      ],
      "text/plain": [
       "    Loan_ID Loan_Status\n",
       "0  LP001015           Y\n",
       "1  LP001022           Y"
      ]
     },
     "execution_count": 81,
     "metadata": {},
     "output_type": "execute_result"
    }
   ],
   "source": [
    "Bt.head(2)"
   ]
  },
  {
   "cell_type": "code",
   "execution_count": 82,
   "id": "3bd08419",
   "metadata": {},
   "outputs": [],
   "source": [
    "Bt.to_csv(\"C:/Users/admin/Downloads/Loan Project/Random_Forest_Results.csv\")"
   ]
  },
  {
   "cell_type": "markdown",
   "id": "838016c9",
   "metadata": {},
   "source": [
    "# Model 3- Create NN"
   ]
  },
  {
   "cell_type": "code",
   "execution_count": 83,
   "id": "2a67fc99",
   "metadata": {},
   "outputs": [],
   "source": [
    "Y=A[[\"Loan_Status\"]]\n",
    "X=A.drop(labels=[\"Loan_Status\"],axis=1)"
   ]
  },
  {
   "cell_type": "code",
   "execution_count": 84,
   "id": "29e910ad",
   "metadata": {},
   "outputs": [],
   "source": [
    "#A.head()"
   ]
  },
  {
   "cell_type": "code",
   "execution_count": 85,
   "id": "88a17c91",
   "metadata": {},
   "outputs": [
    {
     "data": {
      "text/html": [
       "<div>\n",
       "<style scoped>\n",
       "    .dataframe tbody tr th:only-of-type {\n",
       "        vertical-align: middle;\n",
       "    }\n",
       "\n",
       "    .dataframe tbody tr th {\n",
       "        vertical-align: top;\n",
       "    }\n",
       "\n",
       "    .dataframe thead th {\n",
       "        text-align: right;\n",
       "    }\n",
       "</style>\n",
       "<table border=\"1\" class=\"dataframe\">\n",
       "  <thead>\n",
       "    <tr style=\"text-align: right;\">\n",
       "      <th></th>\n",
       "      <th>Gender</th>\n",
       "      <th>Married</th>\n",
       "      <th>Dependents</th>\n",
       "      <th>Education</th>\n",
       "      <th>Self_Employed</th>\n",
       "      <th>ApplicantIncome</th>\n",
       "      <th>CoapplicantIncome</th>\n",
       "      <th>LoanAmount</th>\n",
       "      <th>Loan_Amount_Term</th>\n",
       "      <th>Credit_History</th>\n",
       "      <th>Property_Area</th>\n",
       "    </tr>\n",
       "  </thead>\n",
       "  <tbody>\n",
       "    <tr>\n",
       "      <th>0</th>\n",
       "      <td>Male</td>\n",
       "      <td>No</td>\n",
       "      <td>0</td>\n",
       "      <td>Graduate</td>\n",
       "      <td>No</td>\n",
       "      <td>5849.00000</td>\n",
       "      <td>0.0</td>\n",
       "      <td>146.412162</td>\n",
       "      <td>360.0</td>\n",
       "      <td>1.0</td>\n",
       "      <td>Urban</td>\n",
       "    </tr>\n",
       "    <tr>\n",
       "      <th>1</th>\n",
       "      <td>Male</td>\n",
       "      <td>Yes</td>\n",
       "      <td>1</td>\n",
       "      <td>Graduate</td>\n",
       "      <td>No</td>\n",
       "      <td>5405.54085</td>\n",
       "      <td>1508.0</td>\n",
       "      <td>128.000000</td>\n",
       "      <td>360.0</td>\n",
       "      <td>1.0</td>\n",
       "      <td>Rural</td>\n",
       "    </tr>\n",
       "    <tr>\n",
       "      <th>2</th>\n",
       "      <td>Male</td>\n",
       "      <td>Yes</td>\n",
       "      <td>0</td>\n",
       "      <td>Graduate</td>\n",
       "      <td>Yes</td>\n",
       "      <td>3000.00000</td>\n",
       "      <td>0.0</td>\n",
       "      <td>66.000000</td>\n",
       "      <td>360.0</td>\n",
       "      <td>1.0</td>\n",
       "      <td>Urban</td>\n",
       "    </tr>\n",
       "    <tr>\n",
       "      <th>3</th>\n",
       "      <td>Male</td>\n",
       "      <td>Yes</td>\n",
       "      <td>0</td>\n",
       "      <td>Not Graduate</td>\n",
       "      <td>No</td>\n",
       "      <td>2583.00000</td>\n",
       "      <td>2358.0</td>\n",
       "      <td>120.000000</td>\n",
       "      <td>360.0</td>\n",
       "      <td>1.0</td>\n",
       "      <td>Urban</td>\n",
       "    </tr>\n",
       "    <tr>\n",
       "      <th>4</th>\n",
       "      <td>Male</td>\n",
       "      <td>No</td>\n",
       "      <td>0</td>\n",
       "      <td>Graduate</td>\n",
       "      <td>No</td>\n",
       "      <td>6000.00000</td>\n",
       "      <td>0.0</td>\n",
       "      <td>141.000000</td>\n",
       "      <td>360.0</td>\n",
       "      <td>1.0</td>\n",
       "      <td>Urban</td>\n",
       "    </tr>\n",
       "  </tbody>\n",
       "</table>\n",
       "</div>"
      ],
      "text/plain": [
       "  Gender Married Dependents     Education Self_Employed  ApplicantIncome  \\\n",
       "0   Male      No          0      Graduate            No       5849.00000   \n",
       "1   Male     Yes          1      Graduate            No       5405.54085   \n",
       "2   Male     Yes          0      Graduate           Yes       3000.00000   \n",
       "3   Male     Yes          0  Not Graduate            No       2583.00000   \n",
       "4   Male      No          0      Graduate            No       6000.00000   \n",
       "\n",
       "   CoapplicantIncome  LoanAmount  Loan_Amount_Term  Credit_History  \\\n",
       "0                0.0  146.412162             360.0             1.0   \n",
       "1             1508.0  128.000000             360.0             1.0   \n",
       "2                0.0   66.000000             360.0             1.0   \n",
       "3             2358.0  120.000000             360.0             1.0   \n",
       "4                0.0  141.000000             360.0             1.0   \n",
       "\n",
       "  Property_Area  \n",
       "0         Urban  \n",
       "1         Rural  \n",
       "2         Urban  \n",
       "3         Urban  \n",
       "4         Urban  "
      ]
     },
     "execution_count": 85,
     "metadata": {},
     "output_type": "execute_result"
    }
   ],
   "source": [
    "X.head()"
   ]
  },
  {
   "cell_type": "code",
   "execution_count": 86,
   "id": "c0bb8936",
   "metadata": {},
   "outputs": [
    {
     "data": {
      "text/html": [
       "<div>\n",
       "<style scoped>\n",
       "    .dataframe tbody tr th:only-of-type {\n",
       "        vertical-align: middle;\n",
       "    }\n",
       "\n",
       "    .dataframe tbody tr th {\n",
       "        vertical-align: top;\n",
       "    }\n",
       "\n",
       "    .dataframe thead th {\n",
       "        text-align: right;\n",
       "    }\n",
       "</style>\n",
       "<table border=\"1\" class=\"dataframe\">\n",
       "  <thead>\n",
       "    <tr style=\"text-align: right;\">\n",
       "      <th></th>\n",
       "      <th>Loan_Status</th>\n",
       "    </tr>\n",
       "  </thead>\n",
       "  <tbody>\n",
       "    <tr>\n",
       "      <th>0</th>\n",
       "      <td>Y</td>\n",
       "    </tr>\n",
       "    <tr>\n",
       "      <th>1</th>\n",
       "      <td>N</td>\n",
       "    </tr>\n",
       "    <tr>\n",
       "      <th>2</th>\n",
       "      <td>Y</td>\n",
       "    </tr>\n",
       "    <tr>\n",
       "      <th>3</th>\n",
       "      <td>Y</td>\n",
       "    </tr>\n",
       "    <tr>\n",
       "      <th>4</th>\n",
       "      <td>Y</td>\n",
       "    </tr>\n",
       "  </tbody>\n",
       "</table>\n",
       "</div>"
      ],
      "text/plain": [
       "  Loan_Status\n",
       "0           Y\n",
       "1           N\n",
       "2           Y\n",
       "3           Y\n",
       "4           Y"
      ]
     },
     "execution_count": 86,
     "metadata": {},
     "output_type": "execute_result"
    }
   ],
   "source": [
    "Y.head()"
   ]
  },
  {
   "cell_type": "code",
   "execution_count": 87,
   "id": "596a46db",
   "metadata": {},
   "outputs": [],
   "source": [
    "cat,con= catconsep(X)"
   ]
  },
  {
   "cell_type": "code",
   "execution_count": 88,
   "id": "69a5dea9",
   "metadata": {},
   "outputs": [
    {
     "data": {
      "text/plain": [
       "['Gender',\n",
       " 'Married',\n",
       " 'Dependents',\n",
       " 'Education',\n",
       " 'Self_Employed',\n",
       " 'Property_Area']"
      ]
     },
     "execution_count": 88,
     "metadata": {},
     "output_type": "execute_result"
    }
   ],
   "source": [
    "cat"
   ]
  },
  {
   "cell_type": "code",
   "execution_count": 89,
   "id": "91081bd7",
   "metadata": {},
   "outputs": [
    {
     "data": {
      "text/plain": [
       "['ApplicantIncome',\n",
       " 'CoapplicantIncome',\n",
       " 'LoanAmount',\n",
       " 'Loan_Amount_Term',\n",
       " 'Credit_History']"
      ]
     },
     "execution_count": 89,
     "metadata": {},
     "output_type": "execute_result"
    }
   ],
   "source": [
    "con"
   ]
  },
  {
   "cell_type": "code",
   "execution_count": 90,
   "id": "c39f7f0e",
   "metadata": {},
   "outputs": [],
   "source": [
    "from sklearn.preprocessing import LabelEncoder\n",
    "le= LabelEncoder()\n",
    "Y.Loan_Status= le.fit_transform(Y)"
   ]
  },
  {
   "cell_type": "code",
   "execution_count": 91,
   "id": "cd4197fc",
   "metadata": {},
   "outputs": [],
   "source": [
    "from sklearn.preprocessing import StandardScaler \n",
    "ss=StandardScaler()\n",
    "X1=pd.DataFrame(ss.fit_transform(X[con]),columns=con)\n",
    "X2= pd.get_dummies(X[cat])\n",
    "Xnew= X1.join(X2)"
   ]
  },
  {
   "cell_type": "code",
   "execution_count": 92,
   "id": "0b27feef",
   "metadata": {},
   "outputs": [
    {
     "data": {
      "text/html": [
       "<div>\n",
       "<style scoped>\n",
       "    .dataframe tbody tr th:only-of-type {\n",
       "        vertical-align: middle;\n",
       "    }\n",
       "\n",
       "    .dataframe tbody tr th {\n",
       "        vertical-align: top;\n",
       "    }\n",
       "\n",
       "    .dataframe thead th {\n",
       "        text-align: right;\n",
       "    }\n",
       "</style>\n",
       "<table border=\"1\" class=\"dataframe\">\n",
       "  <thead>\n",
       "    <tr style=\"text-align: right;\">\n",
       "      <th></th>\n",
       "      <th>ApplicantIncome</th>\n",
       "      <th>CoapplicantIncome</th>\n",
       "      <th>LoanAmount</th>\n",
       "      <th>Loan_Amount_Term</th>\n",
       "      <th>Credit_History</th>\n",
       "      <th>Gender_Female</th>\n",
       "      <th>Gender_Male</th>\n",
       "      <th>Married_No</th>\n",
       "      <th>Married_Yes</th>\n",
       "      <th>Dependents_0</th>\n",
       "      <th>Dependents_1</th>\n",
       "      <th>Dependents_2</th>\n",
       "      <th>Dependents_3+</th>\n",
       "      <th>Education_Graduate</th>\n",
       "      <th>Education_Not Graduate</th>\n",
       "      <th>Self_Employed_No</th>\n",
       "      <th>Self_Employed_Yes</th>\n",
       "      <th>Property_Area_Rural</th>\n",
       "      <th>Property_Area_Semiurban</th>\n",
       "      <th>Property_Area_Urban</th>\n",
       "    </tr>\n",
       "  </thead>\n",
       "  <tbody>\n",
       "    <tr>\n",
       "      <th>0</th>\n",
       "      <td>0.072651</td>\n",
       "      <td>-0.554368</td>\n",
       "      <td>0.000000</td>\n",
       "      <td>0.279851</td>\n",
       "      <td>0.45164</td>\n",
       "      <td>0</td>\n",
       "      <td>1</td>\n",
       "      <td>1</td>\n",
       "      <td>0</td>\n",
       "      <td>1</td>\n",
       "      <td>0</td>\n",
       "      <td>0</td>\n",
       "      <td>0</td>\n",
       "      <td>1</td>\n",
       "      <td>0</td>\n",
       "      <td>1</td>\n",
       "      <td>0</td>\n",
       "      <td>0</td>\n",
       "      <td>0</td>\n",
       "      <td>1</td>\n",
       "    </tr>\n",
       "    <tr>\n",
       "      <th>1</th>\n",
       "      <td>0.000000</td>\n",
       "      <td>-0.038610</td>\n",
       "      <td>-0.219273</td>\n",
       "      <td>0.279851</td>\n",
       "      <td>0.45164</td>\n",
       "      <td>0</td>\n",
       "      <td>1</td>\n",
       "      <td>0</td>\n",
       "      <td>1</td>\n",
       "      <td>0</td>\n",
       "      <td>1</td>\n",
       "      <td>0</td>\n",
       "      <td>0</td>\n",
       "      <td>1</td>\n",
       "      <td>0</td>\n",
       "      <td>1</td>\n",
       "      <td>0</td>\n",
       "      <td>1</td>\n",
       "      <td>0</td>\n",
       "      <td>0</td>\n",
       "    </tr>\n",
       "    <tr>\n",
       "      <th>2</th>\n",
       "      <td>-0.394096</td>\n",
       "      <td>-0.554368</td>\n",
       "      <td>-0.957641</td>\n",
       "      <td>0.279851</td>\n",
       "      <td>0.45164</td>\n",
       "      <td>0</td>\n",
       "      <td>1</td>\n",
       "      <td>0</td>\n",
       "      <td>1</td>\n",
       "      <td>1</td>\n",
       "      <td>0</td>\n",
       "      <td>0</td>\n",
       "      <td>0</td>\n",
       "      <td>1</td>\n",
       "      <td>0</td>\n",
       "      <td>0</td>\n",
       "      <td>1</td>\n",
       "      <td>0</td>\n",
       "      <td>0</td>\n",
       "      <td>1</td>\n",
       "    </tr>\n",
       "    <tr>\n",
       "      <th>3</th>\n",
       "      <td>-0.462412</td>\n",
       "      <td>0.252103</td>\n",
       "      <td>-0.314547</td>\n",
       "      <td>0.279851</td>\n",
       "      <td>0.45164</td>\n",
       "      <td>0</td>\n",
       "      <td>1</td>\n",
       "      <td>0</td>\n",
       "      <td>1</td>\n",
       "      <td>1</td>\n",
       "      <td>0</td>\n",
       "      <td>0</td>\n",
       "      <td>0</td>\n",
       "      <td>0</td>\n",
       "      <td>1</td>\n",
       "      <td>1</td>\n",
       "      <td>0</td>\n",
       "      <td>0</td>\n",
       "      <td>0</td>\n",
       "      <td>1</td>\n",
       "    </tr>\n",
       "  </tbody>\n",
       "</table>\n",
       "</div>"
      ],
      "text/plain": [
       "   ApplicantIncome  CoapplicantIncome  LoanAmount  Loan_Amount_Term  \\\n",
       "0         0.072651          -0.554368    0.000000          0.279851   \n",
       "1         0.000000          -0.038610   -0.219273          0.279851   \n",
       "2        -0.394096          -0.554368   -0.957641          0.279851   \n",
       "3        -0.462412           0.252103   -0.314547          0.279851   \n",
       "\n",
       "   Credit_History  Gender_Female  Gender_Male  Married_No  Married_Yes  \\\n",
       "0         0.45164              0            1           1            0   \n",
       "1         0.45164              0            1           0            1   \n",
       "2         0.45164              0            1           0            1   \n",
       "3         0.45164              0            1           0            1   \n",
       "\n",
       "   Dependents_0  Dependents_1  Dependents_2  Dependents_3+  \\\n",
       "0             1             0             0              0   \n",
       "1             0             1             0              0   \n",
       "2             1             0             0              0   \n",
       "3             1             0             0              0   \n",
       "\n",
       "   Education_Graduate  Education_Not Graduate  Self_Employed_No  \\\n",
       "0                   1                       0                 1   \n",
       "1                   1                       0                 1   \n",
       "2                   1                       0                 0   \n",
       "3                   0                       1                 1   \n",
       "\n",
       "   Self_Employed_Yes  Property_Area_Rural  Property_Area_Semiurban  \\\n",
       "0                  0                    0                        0   \n",
       "1                  0                    1                        0   \n",
       "2                  1                    0                        0   \n",
       "3                  0                    0                        0   \n",
       "\n",
       "   Property_Area_Urban  \n",
       "0                    1  \n",
       "1                    0  \n",
       "2                    1  \n",
       "3                    1  "
      ]
     },
     "execution_count": 92,
     "metadata": {},
     "output_type": "execute_result"
    }
   ],
   "source": [
    "Xnew.head(4)"
   ]
  },
  {
   "cell_type": "code",
   "execution_count": 93,
   "id": "6b9042ca",
   "metadata": {},
   "outputs": [
    {
     "data": {
      "text/plain": [
       "Index(['ApplicantIncome', 'CoapplicantIncome', 'LoanAmount',\n",
       "       'Loan_Amount_Term', 'Credit_History', 'Gender_Female', 'Gender_Male',\n",
       "       'Married_No', 'Married_Yes', 'Dependents_0', 'Dependents_1',\n",
       "       'Dependents_2', 'Dependents_3+', 'Education_Graduate',\n",
       "       'Education_Not Graduate', 'Self_Employed_No', 'Self_Employed_Yes',\n",
       "       'Property_Area_Rural', 'Property_Area_Semiurban',\n",
       "       'Property_Area_Urban'],\n",
       "      dtype='object')"
      ]
     },
     "execution_count": 93,
     "metadata": {},
     "output_type": "execute_result"
    }
   ],
   "source": [
    "Xnew.columns"
   ]
  },
  {
   "cell_type": "code",
   "execution_count": 94,
   "id": "245abebf",
   "metadata": {},
   "outputs": [],
   "source": [
    "from sklearn.model_selection import train_test_split\n",
    "xtrain,xtest,ytrain,ytest=train_test_split(Xnew,Y,test_size=0.2,random_state=21)"
   ]
  },
  {
   "cell_type": "code",
   "execution_count": 95,
   "id": "052e562e",
   "metadata": {},
   "outputs": [
    {
     "data": {
      "text/plain": [
       "20"
      ]
     },
     "execution_count": 95,
     "metadata": {},
     "output_type": "execute_result"
    }
   ],
   "source": [
    "xtrain.shape[1]"
   ]
  },
  {
   "cell_type": "markdown",
   "id": "669b25e3",
   "metadata": {},
   "source": [
    "# Create an ANN with only 1 hidden layer(untuned)"
   ]
  },
  {
   "cell_type": "code",
   "execution_count": 96,
   "id": "733f75b4",
   "metadata": {},
   "outputs": [],
   "source": [
    "from keras.models import Sequential\n",
    "from keras.layers import Dense,Dropout\n",
    "nn= Sequential()\n",
    "nn.add(Dense(128,input_dim=xtrain.shape[1]))\n",
    "nn.add(Dense(20))\n",
    "nn.add(Dropout(0.1))\n",
    "nn.add(Dense(1,activation=\"sigmoid\"))"
   ]
  },
  {
   "cell_type": "code",
   "execution_count": 97,
   "id": "594434aa",
   "metadata": {},
   "outputs": [],
   "source": [
    "nn.compile(loss=\"binary_crossentropy\",metrics=\"accuracy\")"
   ]
  },
  {
   "cell_type": "code",
   "execution_count": 98,
   "id": "db9c9615",
   "metadata": {},
   "outputs": [
    {
     "name": "stdout",
     "output_type": "stream",
     "text": [
      "Epoch 1/50\n",
      "13/13 [==============================] - 2s 38ms/step - loss: 0.6127 - accuracy: 0.6837 - val_loss: 0.4985 - val_accuracy: 0.8182\n",
      "Epoch 2/50\n",
      "13/13 [==============================] - 0s 8ms/step - loss: 0.4938 - accuracy: 0.8036 - val_loss: 0.4817 - val_accuracy: 0.8182\n",
      "Epoch 3/50\n",
      "13/13 [==============================] - 0s 8ms/step - loss: 0.4813 - accuracy: 0.8010 - val_loss: 0.4921 - val_accuracy: 0.8182\n",
      "Epoch 4/50\n",
      "13/13 [==============================] - 0s 9ms/step - loss: 0.4625 - accuracy: 0.8087 - val_loss: 0.4814 - val_accuracy: 0.8182\n",
      "Epoch 5/50\n",
      "13/13 [==============================] - 0s 8ms/step - loss: 0.4530 - accuracy: 0.8087 - val_loss: 0.4862 - val_accuracy: 0.8182\n",
      "Epoch 6/50\n",
      "13/13 [==============================] - 0s 10ms/step - loss: 0.4607 - accuracy: 0.8061 - val_loss: 0.5057 - val_accuracy: 0.8081\n",
      "Epoch 7/50\n",
      "13/13 [==============================] - 0s 8ms/step - loss: 0.4701 - accuracy: 0.8112 - val_loss: 0.5016 - val_accuracy: 0.8182\n",
      "Epoch 8/50\n",
      "13/13 [==============================] - 0s 7ms/step - loss: 0.4547 - accuracy: 0.8010 - val_loss: 0.5027 - val_accuracy: 0.8182\n",
      "Epoch 9/50\n",
      "13/13 [==============================] - 0s 6ms/step - loss: 0.4650 - accuracy: 0.8061 - val_loss: 0.5232 - val_accuracy: 0.8081\n",
      "Epoch 10/50\n",
      "13/13 [==============================] - 0s 6ms/step - loss: 0.4619 - accuracy: 0.8061 - val_loss: 0.5014 - val_accuracy: 0.8182\n",
      "Epoch 11/50\n",
      "13/13 [==============================] - 0s 8ms/step - loss: 0.4442 - accuracy: 0.8163 - val_loss: 0.5009 - val_accuracy: 0.8182\n",
      "Epoch 12/50\n",
      "13/13 [==============================] - 0s 6ms/step - loss: 0.4494 - accuracy: 0.8036 - val_loss: 0.5043 - val_accuracy: 0.8081\n",
      "Epoch 13/50\n",
      "13/13 [==============================] - 0s 6ms/step - loss: 0.4620 - accuracy: 0.8010 - val_loss: 0.5219 - val_accuracy: 0.8081\n",
      "Epoch 14/50\n",
      "13/13 [==============================] - 0s 6ms/step - loss: 0.4629 - accuracy: 0.8036 - val_loss: 0.5125 - val_accuracy: 0.8081\n",
      "Epoch 15/50\n",
      "13/13 [==============================] - 0s 6ms/step - loss: 0.4544 - accuracy: 0.8061 - val_loss: 0.5305 - val_accuracy: 0.7980\n",
      "Epoch 16/50\n",
      "13/13 [==============================] - 0s 7ms/step - loss: 0.4508 - accuracy: 0.8087 - val_loss: 0.5216 - val_accuracy: 0.8081\n",
      "Epoch 17/50\n",
      "13/13 [==============================] - 0s 7ms/step - loss: 0.4617 - accuracy: 0.7985 - val_loss: 0.5116 - val_accuracy: 0.8081\n",
      "Epoch 18/50\n",
      "13/13 [==============================] - 0s 9ms/step - loss: 0.4609 - accuracy: 0.8010 - val_loss: 0.5183 - val_accuracy: 0.8081\n",
      "Epoch 19/50\n",
      "13/13 [==============================] - 0s 8ms/step - loss: 0.4518 - accuracy: 0.8061 - val_loss: 0.5169 - val_accuracy: 0.8081\n",
      "Epoch 20/50\n",
      "13/13 [==============================] - 0s 7ms/step - loss: 0.4606 - accuracy: 0.8112 - val_loss: 0.5250 - val_accuracy: 0.7879\n",
      "Epoch 21/50\n",
      "13/13 [==============================] - 0s 6ms/step - loss: 0.4542 - accuracy: 0.8087 - val_loss: 0.5119 - val_accuracy: 0.7980\n",
      "Epoch 22/50\n",
      "13/13 [==============================] - 0s 8ms/step - loss: 0.4627 - accuracy: 0.7934 - val_loss: 0.5268 - val_accuracy: 0.8081\n",
      "Epoch 23/50\n",
      "13/13 [==============================] - 0s 6ms/step - loss: 0.4579 - accuracy: 0.8061 - val_loss: 0.5358 - val_accuracy: 0.7778\n",
      "Epoch 24/50\n",
      "13/13 [==============================] - 0s 6ms/step - loss: 0.4516 - accuracy: 0.8087 - val_loss: 0.5251 - val_accuracy: 0.8081\n",
      "Epoch 25/50\n",
      "13/13 [==============================] - 0s 6ms/step - loss: 0.4546 - accuracy: 0.8112 - val_loss: 0.5096 - val_accuracy: 0.8081\n",
      "Epoch 26/50\n",
      "13/13 [==============================] - 0s 6ms/step - loss: 0.4568 - accuracy: 0.8036 - val_loss: 0.5091 - val_accuracy: 0.8081\n",
      "Epoch 27/50\n",
      "13/13 [==============================] - 0s 7ms/step - loss: 0.4542 - accuracy: 0.8087 - val_loss: 0.5440 - val_accuracy: 0.7879\n",
      "Epoch 28/50\n",
      "13/13 [==============================] - 0s 7ms/step - loss: 0.4615 - accuracy: 0.8036 - val_loss: 0.5267 - val_accuracy: 0.7980\n",
      "Epoch 29/50\n",
      "13/13 [==============================] - 0s 8ms/step - loss: 0.4600 - accuracy: 0.8061 - val_loss: 0.5273 - val_accuracy: 0.7980\n",
      "Epoch 30/50\n",
      "13/13 [==============================] - 0s 7ms/step - loss: 0.4516 - accuracy: 0.7959 - val_loss: 0.5031 - val_accuracy: 0.8081\n",
      "Epoch 31/50\n",
      "13/13 [==============================] - 0s 9ms/step - loss: 0.4507 - accuracy: 0.8112 - val_loss: 0.5160 - val_accuracy: 0.8081\n",
      "Epoch 32/50\n",
      "13/13 [==============================] - 0s 9ms/step - loss: 0.4531 - accuracy: 0.8112 - val_loss: 0.5096 - val_accuracy: 0.8081\n",
      "Epoch 33/50\n",
      "13/13 [==============================] - 0s 9ms/step - loss: 0.4575 - accuracy: 0.8036 - val_loss: 0.5123 - val_accuracy: 0.8081\n",
      "Epoch 34/50\n",
      "13/13 [==============================] - 0s 9ms/step - loss: 0.4555 - accuracy: 0.8189 - val_loss: 0.5108 - val_accuracy: 0.8081\n",
      "Epoch 35/50\n",
      "13/13 [==============================] - 0s 6ms/step - loss: 0.4525 - accuracy: 0.8061 - val_loss: 0.5108 - val_accuracy: 0.8081\n",
      "Epoch 36/50\n",
      "13/13 [==============================] - 0s 6ms/step - loss: 0.4498 - accuracy: 0.8112 - val_loss: 0.5116 - val_accuracy: 0.8081\n",
      "Epoch 37/50\n",
      "13/13 [==============================] - 0s 6ms/step - loss: 0.4589 - accuracy: 0.8061 - val_loss: 0.5251 - val_accuracy: 0.7778\n",
      "Epoch 38/50\n",
      "13/13 [==============================] - 0s 7ms/step - loss: 0.4511 - accuracy: 0.8036 - val_loss: 0.5132 - val_accuracy: 0.8081\n",
      "Epoch 39/50\n",
      "13/13 [==============================] - 0s 6ms/step - loss: 0.4564 - accuracy: 0.8061 - val_loss: 0.5010 - val_accuracy: 0.8081\n",
      "Epoch 40/50\n",
      "13/13 [==============================] - 0s 7ms/step - loss: 0.4629 - accuracy: 0.7959 - val_loss: 0.5066 - val_accuracy: 0.8081\n",
      "Epoch 41/50\n",
      "13/13 [==============================] - 0s 6ms/step - loss: 0.4567 - accuracy: 0.8087 - val_loss: 0.5268 - val_accuracy: 0.7980\n",
      "Epoch 42/50\n",
      "13/13 [==============================] - 0s 6ms/step - loss: 0.4577 - accuracy: 0.7985 - val_loss: 0.5130 - val_accuracy: 0.7980\n",
      "Epoch 43/50\n",
      "13/13 [==============================] - 0s 6ms/step - loss: 0.4520 - accuracy: 0.8163 - val_loss: 0.5244 - val_accuracy: 0.7980\n",
      "Epoch 44/50\n",
      "13/13 [==============================] - 0s 13ms/step - loss: 0.4530 - accuracy: 0.8087 - val_loss: 0.5177 - val_accuracy: 0.8081\n",
      "Epoch 45/50\n",
      "13/13 [==============================] - 0s 11ms/step - loss: 0.4508 - accuracy: 0.8112 - val_loss: 0.5055 - val_accuracy: 0.7980\n",
      "Epoch 46/50\n",
      "13/13 [==============================] - 0s 10ms/step - loss: 0.4599 - accuracy: 0.8061 - val_loss: 0.5071 - val_accuracy: 0.8081\n",
      "Epoch 47/50\n",
      "13/13 [==============================] - 0s 10ms/step - loss: 0.4573 - accuracy: 0.7959 - val_loss: 0.5125 - val_accuracy: 0.7980\n",
      "Epoch 48/50\n",
      "13/13 [==============================] - 0s 8ms/step - loss: 0.4432 - accuracy: 0.8087 - val_loss: 0.5229 - val_accuracy: 0.8081\n",
      "Epoch 49/50\n",
      "13/13 [==============================] - 0s 7ms/step - loss: 0.4576 - accuracy: 0.8036 - val_loss: 0.5190 - val_accuracy: 0.7980\n",
      "Epoch 50/50\n",
      "13/13 [==============================] - 0s 11ms/step - loss: 0.4606 - accuracy: 0.8036 - val_loss: 0.5242 - val_accuracy: 0.8081\n"
     ]
    }
   ],
   "source": [
    "model=nn.fit(xtrain,ytrain,validation_split=0.2,epochs=50)"
   ]
  },
  {
   "cell_type": "markdown",
   "id": "9c4fda0b",
   "metadata": {},
   "source": [
    "# Define a function to get best value for tunable parameter"
   ]
  },
  {
   "cell_type": "code",
   "execution_count": 99,
   "id": "79817aff",
   "metadata": {},
   "outputs": [],
   "source": [
    "def model_builder(hp):\n",
    "    nn = Sequential()\n",
    "    nn.add(Dense(128,input_dim=xtrain.shape[1]))\n",
    "    x = hp.Int(\"units\",min_value=32,max_value=256,step=32)\n",
    "    nn.add(Dense(units=x))\n",
    "    y = hp.Choice(\"rate\",values=[0.1,0.2,0.3,0.4,0.5,0.6,0.7])\n",
    "    nn.add(Dropout(rate=y))\n",
    "    nn.add(Dense(1,activation=\"sigmoid\"))\n",
    "    nn.compile(loss=\"binary_crossentropy\",metrics=\"accuracy\")\n",
    "    return nn"
   ]
  },
  {
   "cell_type": "code",
   "execution_count": null,
   "id": "4f458bf0",
   "metadata": {},
   "outputs": [],
   "source": [
    "import keras_tuner as kt\n",
    "tuner = kt.Hyperband(model_builder,\n",
    "            objective=\"val_accuracy\",\n",
    "            max_epochs=10,\n",
    "            directory=\"C:/Users/hp/Desktop/Python Classess/Deep Learning/Project_II_end_to_end/KT_NN5\",\n",
    "            project_name=\"Keras_TUNER\")"
   ]
  },
  {
   "cell_type": "code",
   "execution_count": 101,
   "id": "c73f5dde",
   "metadata": {},
   "outputs": [
    {
     "name": "stdout",
     "output_type": "stream",
     "text": [
      "Requirement already satisfied: keras-tuner in c:\\users\\admin\\anaconda3\\lib\\site-packages (1.1.3)\n",
      "Requirement already satisfied: packaging in c:\\users\\admin\\anaconda3\\lib\\site-packages (from keras-tuner) (21.0)\n",
      "Requirement already satisfied: kt-legacy in c:\\users\\admin\\anaconda3\\lib\\site-packages (from keras-tuner) (1.0.4)\n",
      "Requirement already satisfied: tensorboard in c:\\users\\admin\\anaconda3\\lib\\site-packages (from keras-tuner) (2.9.1)\n",
      "Requirement already satisfied: numpy in c:\\users\\admin\\anaconda3\\lib\\site-packages (from keras-tuner) (1.20.3)\n",
      "Requirement already satisfied: ipython in c:\\users\\admin\\anaconda3\\lib\\site-packages (from keras-tuner) (7.29.0)\n",
      "Requirement already satisfied: requests in c:\\users\\admin\\anaconda3\\lib\\site-packages (from keras-tuner) (2.26.0)\n",
      "Requirement already satisfied: setuptools>=18.5 in c:\\users\\admin\\anaconda3\\lib\\site-packages (from ipython->keras-tuner) (58.0.4)\n",
      "Requirement already satisfied: pygments in c:\\users\\admin\\anaconda3\\lib\\site-packages (from ipython->keras-tuner) (2.10.0)\n",
      "Requirement already satisfied: traitlets>=4.2 in c:\\users\\admin\\anaconda3\\lib\\site-packages (from ipython->keras-tuner) (5.1.0)\n",
      "Requirement already satisfied: decorator in c:\\users\\admin\\anaconda3\\lib\\site-packages (from ipython->keras-tuner) (5.1.0)\n",
      "Requirement already satisfied: matplotlib-inline in c:\\users\\admin\\anaconda3\\lib\\site-packages (from ipython->keras-tuner) (0.1.2)\n",
      "Requirement already satisfied: pickleshare in c:\\users\\admin\\anaconda3\\lib\\site-packages (from ipython->keras-tuner) (0.7.5)\n",
      "Requirement already satisfied: jedi>=0.16 in c:\\users\\admin\\anaconda3\\lib\\site-packages (from ipython->keras-tuner) (0.18.0)\n",
      "Requirement already satisfied: backcall in c:\\users\\admin\\anaconda3\\lib\\site-packages (from ipython->keras-tuner) (0.2.0)\n",
      "Requirement already satisfied: prompt-toolkit!=3.0.0,!=3.0.1,<3.1.0,>=2.0.0 in c:\\users\\admin\\anaconda3\\lib\\site-packages (from ipython->keras-tuner) (3.0.20)\n",
      "Requirement already satisfied: colorama in c:\\users\\admin\\anaconda3\\lib\\site-packages (from ipython->keras-tuner) (0.4.4)\n",
      "Requirement already satisfied: pyparsing>=2.0.2 in c:\\users\\admin\\anaconda3\\lib\\site-packages (from packaging->keras-tuner) (3.0.4)\n",
      "Requirement already satisfied: idna<4,>=2.5 in c:\\users\\admin\\anaconda3\\lib\\site-packages (from requests->keras-tuner) (3.2)\n",
      "Requirement already satisfied: urllib3<1.27,>=1.21.1 in c:\\users\\admin\\anaconda3\\lib\\site-packages (from requests->keras-tuner) (1.26.7)\n",
      "Requirement already satisfied: certifi>=2017.4.17 in c:\\users\\admin\\anaconda3\\lib\\site-packages (from requests->keras-tuner) (2021.10.8)\n",
      "Requirement already satisfied: charset-normalizer~=2.0.0 in c:\\users\\admin\\anaconda3\\lib\\site-packages (from requests->keras-tuner) (2.0.4)\n",
      "Requirement already satisfied: grpcio>=1.24.3 in c:\\users\\admin\\anaconda3\\lib\\site-packages (from tensorboard->keras-tuner) (1.47.0)\n",
      "Requirement already satisfied: markdown>=2.6.8 in c:\\users\\admin\\anaconda3\\lib\\site-packages (from tensorboard->keras-tuner) (3.3.7)\n",
      "Requirement already satisfied: tensorboard-plugin-wit>=1.6.0 in c:\\users\\admin\\anaconda3\\lib\\site-packages (from tensorboard->keras-tuner) (1.8.1)\n",
      "Requirement already satisfied: tensorboard-data-server<0.7.0,>=0.6.0 in c:\\users\\admin\\anaconda3\\lib\\site-packages (from tensorboard->keras-tuner) (0.6.1)\n",
      "Requirement already satisfied: google-auth<3,>=1.6.3 in c:\\users\\admin\\anaconda3\\lib\\site-packages (from tensorboard->keras-tuner) (2.8.0)\n",
      "Requirement already satisfied: google-auth-oauthlib<0.5,>=0.4.1 in c:\\users\\admin\\anaconda3\\lib\\site-packages (from tensorboard->keras-tuner) (0.4.6)\n",
      "Requirement already satisfied: wheel>=0.26 in c:\\users\\admin\\anaconda3\\lib\\site-packages (from tensorboard->keras-tuner) (0.37.0)\n",
      "Requirement already satisfied: absl-py>=0.4 in c:\\users\\admin\\anaconda3\\lib\\site-packages (from tensorboard->keras-tuner) (1.1.0)\n",
      "Requirement already satisfied: protobuf<3.20,>=3.9.2 in c:\\users\\admin\\anaconda3\\lib\\site-packages (from tensorboard->keras-tuner) (3.19.4)\n",
      "Requirement already satisfied: werkzeug>=1.0.1 in c:\\users\\admin\\anaconda3\\lib\\site-packages (from tensorboard->keras-tuner) (2.0.2)\n",
      "Requirement already satisfied: rsa<5,>=3.1.4 in c:\\users\\admin\\anaconda3\\lib\\site-packages (from google-auth<3,>=1.6.3->tensorboard->keras-tuner) (4.8)\n",
      "Requirement already satisfied: pyasn1-modules>=0.2.1 in c:\\users\\admin\\anaconda3\\lib\\site-packages (from google-auth<3,>=1.6.3->tensorboard->keras-tuner) (0.2.8)\n",
      "Requirement already satisfied: six>=1.9.0 in c:\\users\\admin\\anaconda3\\lib\\site-packages (from google-auth<3,>=1.6.3->tensorboard->keras-tuner) (1.16.0)\n",
      "Requirement already satisfied: cachetools<6.0,>=2.0.0 in c:\\users\\admin\\anaconda3\\lib\\site-packages (from google-auth<3,>=1.6.3->tensorboard->keras-tuner) (5.2.0)\n",
      "Requirement already satisfied: requests-oauthlib>=0.7.0 in c:\\users\\admin\\anaconda3\\lib\\site-packages (from google-auth-oauthlib<0.5,>=0.4.1->tensorboard->keras-tuner) (1.3.1)\n",
      "Requirement already satisfied: parso<0.9.0,>=0.8.0 in c:\\users\\admin\\anaconda3\\lib\\site-packages (from jedi>=0.16->ipython->keras-tuner) (0.8.2)\n",
      "Requirement already satisfied: importlib-metadata>=4.4 in c:\\users\\admin\\anaconda3\\lib\\site-packages (from markdown>=2.6.8->tensorboard->keras-tuner) (4.8.1)\n",
      "Requirement already satisfied: wcwidth in c:\\users\\admin\\anaconda3\\lib\\site-packages (from prompt-toolkit!=3.0.0,!=3.0.1,<3.1.0,>=2.0.0->ipython->keras-tuner) (0.2.5)\n",
      "Requirement already satisfied: zipp>=0.5 in c:\\users\\admin\\anaconda3\\lib\\site-packages (from importlib-metadata>=4.4->markdown>=2.6.8->tensorboard->keras-tuner) (3.6.0)\n",
      "Requirement already satisfied: pyasn1<0.5.0,>=0.4.6 in c:\\users\\admin\\anaconda3\\lib\\site-packages (from pyasn1-modules>=0.2.1->google-auth<3,>=1.6.3->tensorboard->keras-tuner) (0.4.8)\n",
      "Requirement already satisfied: oauthlib>=3.0.0 in c:\\users\\admin\\anaconda3\\lib\\site-packages (from requests-oauthlib>=0.7.0->google-auth-oauthlib<0.5,>=0.4.1->tensorboard->keras-tuner) (3.2.0)\n",
      "\n",
      "[notice] A new release of pip available: 22.1.2 -> 22.3.1\n",
      "[notice] To update, run: python.exe -m pip install --upgrade pip\n",
      "Note: you may need to restart the kernel to use updated packages.\n"
     ]
    }
   ],
   "source": [
    "pip install keras-tuner --upgrade"
   ]
  },
  {
   "cell_type": "code",
   "execution_count": 102,
   "id": "a568ae2e",
   "metadata": {},
   "outputs": [
    {
     "name": "stdout",
     "output_type": "stream",
     "text": [
      "INFO:tensorflow:Reloading Oracle from existing project Desktop/KT_NN5\\Keras_TUNER\\oracle.json\n",
      "INFO:tensorflow:Reloading Tuner from Desktop/KT_NN5\\Keras_TUNER\\tuner0.json\n"
     ]
    }
   ],
   "source": [
    "import keras_tuner as kt\n",
    "tuner = kt.Hyperband(model_builder,\n",
    "            objective=\"val_accuracy\",\n",
    "            max_epochs=10,\n",
    "            directory=\"Desktop/KT_NN5\",\n",
    "            project_name=\"Keras_TUNER\")"
   ]
  },
  {
   "cell_type": "code",
   "execution_count": 103,
   "id": "57b93bce",
   "metadata": {},
   "outputs": [],
   "source": [
    "from keras.callbacks import EarlyStopping\n",
    "es = EarlyStopping(monitor=\"val_loss\",patience=25)"
   ]
  },
  {
   "cell_type": "code",
   "execution_count": 104,
   "id": "02d462f7",
   "metadata": {},
   "outputs": [
    {
     "name": "stdout",
     "output_type": "stream",
     "text": [
      "INFO:tensorflow:Oracle triggered exit\n"
     ]
    }
   ],
   "source": [
    "tuner.search(xtrain,ytrain,epochs=500,validation_split=0.2,callbacks=[es])"
   ]
  },
  {
   "cell_type": "code",
   "execution_count": 105,
   "id": "395b0099",
   "metadata": {},
   "outputs": [
    {
     "data": {
      "text/plain": [
       "32"
      ]
     },
     "execution_count": 105,
     "metadata": {},
     "output_type": "execute_result"
    }
   ],
   "source": [
    "tuner.get_best_hyperparameters()[0].get(\"units\")"
   ]
  },
  {
   "cell_type": "code",
   "execution_count": 106,
   "id": "c69ff0f6",
   "metadata": {},
   "outputs": [
    {
     "data": {
      "text/plain": [
       "0.7"
      ]
     },
     "execution_count": 106,
     "metadata": {},
     "output_type": "execute_result"
    }
   ],
   "source": [
    "tuner.get_best_hyperparameters()[0].get(\"rate\")"
   ]
  },
  {
   "cell_type": "markdown",
   "id": "1c3c6d0f",
   "metadata": {},
   "source": [
    "# Create a NN with new value of tuned parameter"
   ]
  },
  {
   "cell_type": "code",
   "execution_count": 108,
   "id": "c1522bb2",
   "metadata": {},
   "outputs": [
    {
     "name": "stdout",
     "output_type": "stream",
     "text": [
      "Epoch 1/100\n",
      "13/13 [==============================] - 1s 29ms/step - loss: 0.5669 - accuracy: 0.7449 - val_loss: 0.4994 - val_accuracy: 0.8182\n",
      "Epoch 2/100\n",
      "13/13 [==============================] - 0s 9ms/step - loss: 0.4832 - accuracy: 0.7883 - val_loss: 0.5135 - val_accuracy: 0.7980\n",
      "Epoch 3/100\n",
      "13/13 [==============================] - 0s 9ms/step - loss: 0.4787 - accuracy: 0.8036 - val_loss: 0.5109 - val_accuracy: 0.8081\n",
      "Epoch 4/100\n",
      "13/13 [==============================] - 0s 10ms/step - loss: 0.4619 - accuracy: 0.8010 - val_loss: 0.5011 - val_accuracy: 0.8081\n",
      "Epoch 5/100\n",
      "13/13 [==============================] - 0s 9ms/step - loss: 0.4637 - accuracy: 0.8112 - val_loss: 0.5052 - val_accuracy: 0.7980\n",
      "Epoch 6/100\n",
      "13/13 [==============================] - 0s 11ms/step - loss: 0.4557 - accuracy: 0.8036 - val_loss: 0.4967 - val_accuracy: 0.8081\n",
      "Epoch 7/100\n",
      "13/13 [==============================] - 0s 12ms/step - loss: 0.4616 - accuracy: 0.8087 - val_loss: 0.5104 - val_accuracy: 0.8081\n",
      "Epoch 8/100\n",
      "13/13 [==============================] - 0s 10ms/step - loss: 0.4767 - accuracy: 0.7959 - val_loss: 0.5391 - val_accuracy: 0.7980\n",
      "Epoch 9/100\n",
      "13/13 [==============================] - 0s 9ms/step - loss: 0.4615 - accuracy: 0.8112 - val_loss: 0.5448 - val_accuracy: 0.7980\n",
      "Epoch 10/100\n",
      "13/13 [==============================] - 0s 10ms/step - loss: 0.4680 - accuracy: 0.7985 - val_loss: 0.5231 - val_accuracy: 0.7980\n",
      "Epoch 11/100\n",
      "13/13 [==============================] - 0s 11ms/step - loss: 0.4610 - accuracy: 0.8112 - val_loss: 0.5312 - val_accuracy: 0.8081\n",
      "Epoch 12/100\n",
      "13/13 [==============================] - 0s 10ms/step - loss: 0.4727 - accuracy: 0.8010 - val_loss: 0.5312 - val_accuracy: 0.8081\n",
      "Epoch 13/100\n",
      "13/13 [==============================] - 0s 16ms/step - loss: 0.4712 - accuracy: 0.8061 - val_loss: 0.5378 - val_accuracy: 0.8081\n",
      "Epoch 14/100\n",
      "13/13 [==============================] - 0s 11ms/step - loss: 0.4724 - accuracy: 0.7985 - val_loss: 0.5371 - val_accuracy: 0.8081\n",
      "Epoch 15/100\n",
      "13/13 [==============================] - 0s 10ms/step - loss: 0.4605 - accuracy: 0.8061 - val_loss: 0.5066 - val_accuracy: 0.8081\n",
      "Epoch 16/100\n",
      "13/13 [==============================] - 0s 13ms/step - loss: 0.4685 - accuracy: 0.8036 - val_loss: 0.5207 - val_accuracy: 0.8081\n",
      "Epoch 17/100\n",
      "13/13 [==============================] - 0s 8ms/step - loss: 0.4471 - accuracy: 0.8112 - val_loss: 0.5054 - val_accuracy: 0.8081\n",
      "Epoch 18/100\n",
      "13/13 [==============================] - 0s 9ms/step - loss: 0.4653 - accuracy: 0.8036 - val_loss: 0.5348 - val_accuracy: 0.8081\n",
      "Epoch 19/100\n",
      "13/13 [==============================] - 0s 11ms/step - loss: 0.4686 - accuracy: 0.8061 - val_loss: 0.5335 - val_accuracy: 0.8081\n",
      "Epoch 20/100\n",
      "13/13 [==============================] - 0s 9ms/step - loss: 0.4470 - accuracy: 0.8138 - val_loss: 0.5395 - val_accuracy: 0.7879\n",
      "Epoch 21/100\n",
      "13/13 [==============================] - 0s 13ms/step - loss: 0.4624 - accuracy: 0.8112 - val_loss: 0.5262 - val_accuracy: 0.7879\n",
      "Epoch 22/100\n",
      "13/13 [==============================] - 0s 9ms/step - loss: 0.4595 - accuracy: 0.8061 - val_loss: 0.5386 - val_accuracy: 0.8081\n",
      "Epoch 23/100\n",
      "13/13 [==============================] - 0s 10ms/step - loss: 0.4601 - accuracy: 0.8036 - val_loss: 0.5368 - val_accuracy: 0.7980\n",
      "Epoch 24/100\n",
      "13/13 [==============================] - 0s 9ms/step - loss: 0.4584 - accuracy: 0.7985 - val_loss: 0.5480 - val_accuracy: 0.7980\n",
      "Epoch 25/100\n",
      "13/13 [==============================] - 0s 10ms/step - loss: 0.4609 - accuracy: 0.8036 - val_loss: 0.5527 - val_accuracy: 0.7980\n",
      "Epoch 26/100\n",
      "13/13 [==============================] - 0s 8ms/step - loss: 0.4523 - accuracy: 0.8010 - val_loss: 0.5430 - val_accuracy: 0.8081\n",
      "Epoch 27/100\n",
      "13/13 [==============================] - 0s 9ms/step - loss: 0.4595 - accuracy: 0.8036 - val_loss: 0.5387 - val_accuracy: 0.8081\n",
      "Epoch 28/100\n",
      "13/13 [==============================] - 0s 9ms/step - loss: 0.4617 - accuracy: 0.8138 - val_loss: 0.5405 - val_accuracy: 0.7980\n",
      "Epoch 29/100\n",
      "13/13 [==============================] - 0s 9ms/step - loss: 0.4653 - accuracy: 0.7985 - val_loss: 0.5373 - val_accuracy: 0.7980\n",
      "Epoch 30/100\n",
      "13/13 [==============================] - 0s 8ms/step - loss: 0.4378 - accuracy: 0.8138 - val_loss: 0.5310 - val_accuracy: 0.8081\n",
      "Epoch 31/100\n",
      "13/13 [==============================] - 0s 10ms/step - loss: 0.4526 - accuracy: 0.7959 - val_loss: 0.5279 - val_accuracy: 0.8081\n",
      "Epoch 32/100\n",
      "13/13 [==============================] - 0s 8ms/step - loss: 0.4684 - accuracy: 0.8061 - val_loss: 0.5073 - val_accuracy: 0.7980\n",
      "Epoch 33/100\n",
      "13/13 [==============================] - 0s 7ms/step - loss: 0.4682 - accuracy: 0.7985 - val_loss: 0.5125 - val_accuracy: 0.8081\n",
      "Epoch 34/100\n",
      "13/13 [==============================] - 0s 9ms/step - loss: 0.4476 - accuracy: 0.8087 - val_loss: 0.5011 - val_accuracy: 0.7980\n",
      "Epoch 35/100\n",
      "13/13 [==============================] - 0s 9ms/step - loss: 0.4582 - accuracy: 0.7959 - val_loss: 0.5200 - val_accuracy: 0.7980\n",
      "Epoch 36/100\n",
      "13/13 [==============================] - 0s 8ms/step - loss: 0.4703 - accuracy: 0.8087 - val_loss: 0.5240 - val_accuracy: 0.7980\n",
      "Epoch 37/100\n",
      "13/13 [==============================] - 0s 7ms/step - loss: 0.4701 - accuracy: 0.7985 - val_loss: 0.5291 - val_accuracy: 0.8081\n",
      "Epoch 38/100\n",
      "13/13 [==============================] - 0s 7ms/step - loss: 0.4663 - accuracy: 0.8036 - val_loss: 0.5295 - val_accuracy: 0.7980\n",
      "Epoch 39/100\n",
      "13/13 [==============================] - 0s 9ms/step - loss: 0.4491 - accuracy: 0.8112 - val_loss: 0.5681 - val_accuracy: 0.7879\n",
      "Epoch 40/100\n",
      "13/13 [==============================] - 0s 8ms/step - loss: 0.4712 - accuracy: 0.8087 - val_loss: 0.5560 - val_accuracy: 0.7879\n",
      "Epoch 41/100\n",
      "13/13 [==============================] - 0s 8ms/step - loss: 0.4692 - accuracy: 0.7985 - val_loss: 0.5444 - val_accuracy: 0.7879\n",
      "Epoch 42/100\n",
      "13/13 [==============================] - 0s 7ms/step - loss: 0.4484 - accuracy: 0.8010 - val_loss: 0.5135 - val_accuracy: 0.8081\n",
      "Epoch 43/100\n",
      "13/13 [==============================] - 0s 7ms/step - loss: 0.4564 - accuracy: 0.8112 - val_loss: 0.5242 - val_accuracy: 0.8081\n",
      "Epoch 44/100\n",
      "13/13 [==============================] - 0s 12ms/step - loss: 0.4645 - accuracy: 0.7985 - val_loss: 0.5238 - val_accuracy: 0.8081\n",
      "Epoch 45/100\n",
      "13/13 [==============================] - 0s 11ms/step - loss: 0.4572 - accuracy: 0.8138 - val_loss: 0.5234 - val_accuracy: 0.8081\n",
      "Epoch 46/100\n",
      "13/13 [==============================] - 0s 9ms/step - loss: 0.4517 - accuracy: 0.8138 - val_loss: 0.5243 - val_accuracy: 0.8081\n",
      "Epoch 47/100\n",
      "13/13 [==============================] - 0s 10ms/step - loss: 0.4490 - accuracy: 0.8163 - val_loss: 0.5423 - val_accuracy: 0.8081\n",
      "Epoch 48/100\n",
      "13/13 [==============================] - 0s 9ms/step - loss: 0.4578 - accuracy: 0.8163 - val_loss: 0.5608 - val_accuracy: 0.8081\n",
      "Epoch 49/100\n",
      "13/13 [==============================] - 0s 9ms/step - loss: 0.4698 - accuracy: 0.8010 - val_loss: 0.5575 - val_accuracy: 0.8081\n",
      "Epoch 50/100\n",
      "13/13 [==============================] - 0s 8ms/step - loss: 0.4461 - accuracy: 0.8087 - val_loss: 0.5445 - val_accuracy: 0.7980\n",
      "Epoch 51/100\n",
      "13/13 [==============================] - 0s 9ms/step - loss: 0.4700 - accuracy: 0.8112 - val_loss: 0.5305 - val_accuracy: 0.7879\n",
      "Epoch 52/100\n",
      "13/13 [==============================] - 0s 7ms/step - loss: 0.4647 - accuracy: 0.7985 - val_loss: 0.5244 - val_accuracy: 0.7879\n",
      "Epoch 53/100\n",
      "13/13 [==============================] - 0s 13ms/step - loss: 0.4489 - accuracy: 0.8010 - val_loss: 0.5297 - val_accuracy: 0.7980\n",
      "Epoch 54/100\n",
      "13/13 [==============================] - 0s 13ms/step - loss: 0.4496 - accuracy: 0.8036 - val_loss: 0.5270 - val_accuracy: 0.8182\n",
      "Epoch 55/100\n",
      "13/13 [==============================] - 0s 10ms/step - loss: 0.4487 - accuracy: 0.8061 - val_loss: 0.5209 - val_accuracy: 0.8081\n",
      "Epoch 56/100\n",
      "13/13 [==============================] - 0s 9ms/step - loss: 0.4457 - accuracy: 0.8163 - val_loss: 0.5264 - val_accuracy: 0.8081\n",
      "Epoch 57/100\n",
      "13/13 [==============================] - 0s 13ms/step - loss: 0.4634 - accuracy: 0.8163 - val_loss: 0.5200 - val_accuracy: 0.8081\n",
      "Epoch 58/100\n"
     ]
    },
    {
     "name": "stdout",
     "output_type": "stream",
     "text": [
      "13/13 [==============================] - 0s 14ms/step - loss: 0.4599 - accuracy: 0.8061 - val_loss: 0.5234 - val_accuracy: 0.7879\n",
      "Epoch 59/100\n",
      "13/13 [==============================] - 0s 12ms/step - loss: 0.4548 - accuracy: 0.8010 - val_loss: 0.5129 - val_accuracy: 0.8081\n",
      "Epoch 60/100\n",
      "13/13 [==============================] - 0s 10ms/step - loss: 0.4627 - accuracy: 0.8061 - val_loss: 0.5056 - val_accuracy: 0.8081\n",
      "Epoch 61/100\n",
      "13/13 [==============================] - 0s 9ms/step - loss: 0.4476 - accuracy: 0.8061 - val_loss: 0.5016 - val_accuracy: 0.8081\n",
      "Epoch 62/100\n",
      "13/13 [==============================] - 0s 9ms/step - loss: 0.4490 - accuracy: 0.8061 - val_loss: 0.5015 - val_accuracy: 0.8081\n",
      "Epoch 63/100\n",
      "13/13 [==============================] - 0s 10ms/step - loss: 0.4442 - accuracy: 0.8087 - val_loss: 0.5078 - val_accuracy: 0.8081\n",
      "Epoch 64/100\n",
      "13/13 [==============================] - 0s 10ms/step - loss: 0.4557 - accuracy: 0.8163 - val_loss: 0.5090 - val_accuracy: 0.8081\n",
      "Epoch 65/100\n",
      "13/13 [==============================] - 0s 10ms/step - loss: 0.4595 - accuracy: 0.8036 - val_loss: 0.5119 - val_accuracy: 0.8081\n",
      "Epoch 66/100\n",
      "13/13 [==============================] - 0s 9ms/step - loss: 0.4500 - accuracy: 0.8138 - val_loss: 0.5137 - val_accuracy: 0.7980\n",
      "Epoch 67/100\n",
      "13/13 [==============================] - 0s 11ms/step - loss: 0.4553 - accuracy: 0.8138 - val_loss: 0.5180 - val_accuracy: 0.8081\n",
      "Epoch 68/100\n",
      "13/13 [==============================] - 0s 17ms/step - loss: 0.4471 - accuracy: 0.8163 - val_loss: 0.5280 - val_accuracy: 0.8081\n",
      "Epoch 69/100\n",
      "13/13 [==============================] - 0s 9ms/step - loss: 0.4617 - accuracy: 0.7857 - val_loss: 0.5311 - val_accuracy: 0.7980\n",
      "Epoch 70/100\n",
      "13/13 [==============================] - 0s 11ms/step - loss: 0.4669 - accuracy: 0.8036 - val_loss: 0.5229 - val_accuracy: 0.7980\n",
      "Epoch 71/100\n",
      "13/13 [==============================] - 0s 10ms/step - loss: 0.4554 - accuracy: 0.8036 - val_loss: 0.5208 - val_accuracy: 0.8081\n",
      "Epoch 72/100\n",
      "13/13 [==============================] - 0s 16ms/step - loss: 0.4585 - accuracy: 0.8036 - val_loss: 0.5140 - val_accuracy: 0.8081\n",
      "Epoch 73/100\n",
      "13/13 [==============================] - 0s 12ms/step - loss: 0.4609 - accuracy: 0.8036 - val_loss: 0.5250 - val_accuracy: 0.8081\n",
      "Epoch 74/100\n",
      "13/13 [==============================] - 0s 11ms/step - loss: 0.4626 - accuracy: 0.8163 - val_loss: 0.5238 - val_accuracy: 0.8081\n",
      "Epoch 75/100\n",
      "13/13 [==============================] - 0s 12ms/step - loss: 0.4625 - accuracy: 0.8163 - val_loss: 0.5324 - val_accuracy: 0.8081\n",
      "Epoch 76/100\n",
      "13/13 [==============================] - 0s 17ms/step - loss: 0.4503 - accuracy: 0.8138 - val_loss: 0.5417 - val_accuracy: 0.7980\n",
      "Epoch 77/100\n",
      "13/13 [==============================] - 0s 9ms/step - loss: 0.4543 - accuracy: 0.8189 - val_loss: 0.5230 - val_accuracy: 0.8081\n",
      "Epoch 78/100\n",
      "13/13 [==============================] - 0s 12ms/step - loss: 0.4432 - accuracy: 0.8189 - val_loss: 0.5209 - val_accuracy: 0.7980\n",
      "Epoch 79/100\n",
      "13/13 [==============================] - 0s 11ms/step - loss: 0.4571 - accuracy: 0.7959 - val_loss: 0.5184 - val_accuracy: 0.8081\n",
      "Epoch 80/100\n",
      "13/13 [==============================] - 0s 12ms/step - loss: 0.4528 - accuracy: 0.8112 - val_loss: 0.5288 - val_accuracy: 0.8081\n",
      "Epoch 81/100\n",
      "13/13 [==============================] - 0s 11ms/step - loss: 0.4532 - accuracy: 0.8061 - val_loss: 0.5410 - val_accuracy: 0.7980\n",
      "Epoch 82/100\n",
      "13/13 [==============================] - 0s 9ms/step - loss: 0.4635 - accuracy: 0.8036 - val_loss: 0.5211 - val_accuracy: 0.7980\n",
      "Epoch 83/100\n",
      "13/13 [==============================] - 0s 8ms/step - loss: 0.4487 - accuracy: 0.8214 - val_loss: 0.5142 - val_accuracy: 0.8081\n",
      "Epoch 84/100\n",
      "13/13 [==============================] - 0s 8ms/step - loss: 0.4573 - accuracy: 0.8138 - val_loss: 0.5105 - val_accuracy: 0.8081\n",
      "Epoch 85/100\n",
      "13/13 [==============================] - 0s 11ms/step - loss: 0.4498 - accuracy: 0.8036 - val_loss: 0.5247 - val_accuracy: 0.7879\n",
      "Epoch 86/100\n",
      "13/13 [==============================] - 0s 10ms/step - loss: 0.4459 - accuracy: 0.8138 - val_loss: 0.5176 - val_accuracy: 0.8081\n",
      "Epoch 87/100\n",
      "13/13 [==============================] - 0s 11ms/step - loss: 0.4559 - accuracy: 0.8163 - val_loss: 0.5152 - val_accuracy: 0.8081\n",
      "Epoch 88/100\n",
      "13/13 [==============================] - 0s 21ms/step - loss: 0.4499 - accuracy: 0.8061 - val_loss: 0.5128 - val_accuracy: 0.8081\n",
      "Epoch 89/100\n",
      "13/13 [==============================] - 0s 12ms/step - loss: 0.4486 - accuracy: 0.8138 - val_loss: 0.5165 - val_accuracy: 0.8081\n",
      "Epoch 90/100\n",
      "13/13 [==============================] - 0s 11ms/step - loss: 0.4444 - accuracy: 0.8087 - val_loss: 0.5263 - val_accuracy: 0.7980\n",
      "Epoch 91/100\n",
      "13/13 [==============================] - 0s 15ms/step - loss: 0.4458 - accuracy: 0.8138 - val_loss: 0.5183 - val_accuracy: 0.8081\n",
      "Epoch 92/100\n",
      "13/13 [==============================] - 0s 11ms/step - loss: 0.4486 - accuracy: 0.7985 - val_loss: 0.5157 - val_accuracy: 0.8081\n",
      "Epoch 93/100\n",
      "13/13 [==============================] - 0s 13ms/step - loss: 0.4488 - accuracy: 0.8112 - val_loss: 0.5095 - val_accuracy: 0.8081\n",
      "Epoch 94/100\n",
      "13/13 [==============================] - 0s 10ms/step - loss: 0.4391 - accuracy: 0.8189 - val_loss: 0.5196 - val_accuracy: 0.8081\n",
      "Epoch 95/100\n",
      "13/13 [==============================] - 0s 9ms/step - loss: 0.4622 - accuracy: 0.8112 - val_loss: 0.5270 - val_accuracy: 0.8081\n",
      "Epoch 96/100\n",
      "13/13 [==============================] - 0s 8ms/step - loss: 0.4644 - accuracy: 0.8087 - val_loss: 0.5214 - val_accuracy: 0.8081\n",
      "Epoch 97/100\n",
      "13/13 [==============================] - 0s 9ms/step - loss: 0.4481 - accuracy: 0.8138 - val_loss: 0.5206 - val_accuracy: 0.8081\n",
      "Epoch 98/100\n",
      "13/13 [==============================] - 0s 10ms/step - loss: 0.4491 - accuracy: 0.8112 - val_loss: 0.5187 - val_accuracy: 0.8081\n",
      "Epoch 99/100\n",
      "13/13 [==============================] - 0s 9ms/step - loss: 0.4440 - accuracy: 0.8087 - val_loss: 0.5233 - val_accuracy: 0.7980\n",
      "Epoch 100/100\n",
      "13/13 [==============================] - 0s 7ms/step - loss: 0.4560 - accuracy: 0.8087 - val_loss: 0.5212 - val_accuracy: 0.8081\n"
     ]
    },
    {
     "data": {
      "text/plain": [
       "<keras.callbacks.History at 0x219f53847f0>"
      ]
     },
     "execution_count": 108,
     "metadata": {},
     "output_type": "execute_result"
    }
   ],
   "source": [
    "nn = Sequential()\n",
    "nn.add(Dense(128,input_dim=xtrain.shape[1]))\n",
    "nn.add(Dense(224))\n",
    "nn.add(Dropout(0.6))\n",
    "nn.add(Dense(1,activation=\"sigmoid\"))\n",
    "nn.compile(loss=\"binary_crossentropy\",metrics=\"accuracy\",optimizer=\"adam\")\n",
    "nn.fit(xtrain,ytrain,epochs=100,validation_split=0.2)"
   ]
  },
  {
   "cell_type": "code",
   "execution_count": 109,
   "id": "be5b219d",
   "metadata": {},
   "outputs": [],
   "source": [
    "tr=model.history[\"accuracy\"]"
   ]
  },
  {
   "cell_type": "code",
   "execution_count": 110,
   "id": "28e9b651",
   "metadata": {},
   "outputs": [],
   "source": [
    "ts=model.history[\"val_accuracy\"]"
   ]
  },
  {
   "cell_type": "code",
   "execution_count": 111,
   "id": "a6e9c6cd",
   "metadata": {},
   "outputs": [
    {
     "data": {
      "text/plain": [
       "[<matplotlib.lines.Line2D at 0x219f66eeb20>]"
      ]
     },
     "execution_count": 111,
     "metadata": {},
     "output_type": "execute_result"
    },
    {
     "data": {
      "image/png": "[encoded data removed]",
      "text/plain": [
       "<Figure size 432x288 with 1 Axes>"
      ]
     },
     "metadata": {
      "needs_background": "light"
     },
     "output_type": "display_data"
    }
   ],
   "source": [
    "import matplotlib.pyplot as plt\n",
    "plt.plot(tr, c= \"red\")\n",
    "plt.plot(ts, c=\"blue\")"
   ]
  },
  {
   "cell_type": "code",
   "execution_count": 112,
   "id": "e8a2be09",
   "metadata": {},
   "outputs": [
    {
     "name": "stdout",
     "output_type": "stream",
     "text": [
      "4/4 [==============================] - 0s 4ms/step\n"
     ]
    }
   ],
   "source": [
    "pred=nn.predict(xtest)"
   ]
  },
  {
   "cell_type": "code",
   "execution_count": 113,
   "id": "b5cfb801",
   "metadata": {},
   "outputs": [],
   "source": [
    "Q=[]\n",
    "for i in pred:\n",
    "    if(i[0]<0.5):\n",
    "        Q.append(0)\n",
    "    else:\n",
    "        Q.append(1)"
   ]
  },
  {
   "cell_type": "code",
   "execution_count": 115,
   "id": "55b05a9d",
   "metadata": {},
   "outputs": [],
   "source": [
    "#Q"
   ]
  },
  {
   "cell_type": "code",
   "execution_count": 116,
   "id": "738e7d56",
   "metadata": {},
   "outputs": [
    {
     "data": {
      "text/plain": [
       "array(['N', 'Y', 'Y', 'Y', 'N', 'Y', 'Y', 'Y', 'N', 'N', 'Y', 'N', 'Y',\n",
       "       'Y', 'N', 'Y', 'Y', 'Y', 'N', 'Y', 'N', 'Y', 'Y', 'Y', 'N', 'N',\n",
       "       'Y', 'Y', 'Y', 'Y', 'Y', 'Y', 'Y', 'Y', 'Y', 'N', 'Y', 'Y', 'Y',\n",
       "       'N', 'Y', 'Y', 'Y', 'Y', 'Y', 'Y', 'N', 'Y', 'Y', 'Y', 'N', 'Y',\n",
       "       'N', 'Y', 'Y', 'Y', 'Y', 'Y', 'Y', 'Y', 'Y', 'Y', 'Y', 'Y', 'Y',\n",
       "       'Y', 'N', 'Y', 'Y', 'Y', 'Y', 'Y', 'Y', 'Y', 'Y', 'Y', 'Y', 'Y',\n",
       "       'Y', 'Y', 'Y', 'Y', 'Y', 'Y', 'Y', 'N', 'N', 'N', 'Y', 'N', 'Y',\n",
       "       'Y', 'Y', 'Y', 'Y', 'Y', 'Y', 'Y', 'Y', 'Y', 'N', 'Y', 'Y', 'N',\n",
       "       'N', 'Y', 'Y', 'Y', 'Y', 'Y', 'Y', 'Y', 'Y', 'N', 'Y', 'N', 'N',\n",
       "       'Y', 'Y', 'Y', 'N', 'Y', 'Y'], dtype=object)"
      ]
     },
     "execution_count": 116,
     "metadata": {},
     "output_type": "execute_result"
    }
   ],
   "source": [
    "pred1= le.inverse_transform(Q)\n",
    "pred1"
   ]
  },
  {
   "cell_type": "code",
   "execution_count": 117,
   "id": "4b366886",
   "metadata": {},
   "outputs": [
    {
     "data": {
      "text/plain": [
       "array(['N', 'Y', 'Y', 'Y', 'N', 'Y', 'N', 'Y', 'N', 'Y', 'Y', 'N', 'Y',\n",
       "       'Y', 'N', 'N', 'Y', 'Y', 'N', 'Y', 'N', 'Y', 'Y', 'N', 'N', 'N',\n",
       "       'Y', 'Y', 'N', 'Y', 'Y', 'Y', 'Y', 'Y', 'Y', 'Y', 'Y', 'Y', 'N',\n",
       "       'Y', 'Y', 'N', 'Y', 'N', 'Y', 'Y', 'N', 'Y', 'N', 'Y', 'N', 'Y',\n",
       "       'N', 'N', 'Y', 'Y', 'Y', 'Y', 'Y', 'N', 'Y', 'Y', 'Y', 'Y', 'Y',\n",
       "       'N', 'N', 'Y', 'Y', 'N', 'Y', 'Y', 'Y', 'N', 'Y', 'Y', 'Y', 'N',\n",
       "       'Y', 'Y', 'N', 'Y', 'Y', 'Y', 'Y', 'N', 'Y', 'N', 'N', 'N', 'Y',\n",
       "       'Y', 'Y', 'Y', 'Y', 'Y', 'Y', 'Y', 'Y', 'Y', 'N', 'Y', 'Y', 'N',\n",
       "       'N', 'Y', 'N', 'Y', 'Y', 'Y', 'Y', 'Y', 'Y', 'Y', 'Y', 'Y', 'N',\n",
       "       'Y', 'Y', 'Y', 'Y', 'Y', 'N'], dtype=object)"
      ]
     },
     "execution_count": 117,
     "metadata": {},
     "output_type": "execute_result"
    }
   ],
   "source": [
    "ytest1= le.inverse_transform(ytest)\n",
    "ytest1"
   ]
  },
  {
   "cell_type": "code",
   "execution_count": 118,
   "id": "cbf7e4c8",
   "metadata": {},
   "outputs": [],
   "source": [
    "W=pd.DataFrame([ytest1,pred1]).T"
   ]
  },
  {
   "cell_type": "code",
   "execution_count": 119,
   "id": "239d4095",
   "metadata": {},
   "outputs": [],
   "source": [
    "W.columns=[\"Actual_Loan_Status\",\"Predicted_Loan_Status\"]"
   ]
  },
  {
   "cell_type": "code",
   "execution_count": 120,
   "id": "daac8a89",
   "metadata": {},
   "outputs": [
    {
     "data": {
      "text/html": [
       "<div>\n",
       "<style scoped>\n",
       "    .dataframe tbody tr th:only-of-type {\n",
       "        vertical-align: middle;\n",
       "    }\n",
       "\n",
       "    .dataframe tbody tr th {\n",
       "        vertical-align: top;\n",
       "    }\n",
       "\n",
       "    .dataframe thead th {\n",
       "        text-align: right;\n",
       "    }\n",
       "</style>\n",
       "<table border=\"1\" class=\"dataframe\">\n",
       "  <thead>\n",
       "    <tr style=\"text-align: right;\">\n",
       "      <th></th>\n",
       "      <th>Actual_Loan_Status</th>\n",
       "      <th>Predicted_Loan_Status</th>\n",
       "    </tr>\n",
       "  </thead>\n",
       "  <tbody>\n",
       "    <tr>\n",
       "      <th>0</th>\n",
       "      <td>N</td>\n",
       "      <td>N</td>\n",
       "    </tr>\n",
       "    <tr>\n",
       "      <th>1</th>\n",
       "      <td>Y</td>\n",
       "      <td>Y</td>\n",
       "    </tr>\n",
       "    <tr>\n",
       "      <th>2</th>\n",
       "      <td>Y</td>\n",
       "      <td>Y</td>\n",
       "    </tr>\n",
       "    <tr>\n",
       "      <th>3</th>\n",
       "      <td>Y</td>\n",
       "      <td>Y</td>\n",
       "    </tr>\n",
       "    <tr>\n",
       "      <th>4</th>\n",
       "      <td>N</td>\n",
       "      <td>N</td>\n",
       "    </tr>\n",
       "    <tr>\n",
       "      <th>5</th>\n",
       "      <td>Y</td>\n",
       "      <td>Y</td>\n",
       "    </tr>\n",
       "    <tr>\n",
       "      <th>6</th>\n",
       "      <td>N</td>\n",
       "      <td>Y</td>\n",
       "    </tr>\n",
       "    <tr>\n",
       "      <th>7</th>\n",
       "      <td>Y</td>\n",
       "      <td>Y</td>\n",
       "    </tr>\n",
       "    <tr>\n",
       "      <th>8</th>\n",
       "      <td>N</td>\n",
       "      <td>N</td>\n",
       "    </tr>\n",
       "    <tr>\n",
       "      <th>9</th>\n",
       "      <td>Y</td>\n",
       "      <td>N</td>\n",
       "    </tr>\n",
       "  </tbody>\n",
       "</table>\n",
       "</div>"
      ],
      "text/plain": [
       "  Actual_Loan_Status Predicted_Loan_Status\n",
       "0                  N                     N\n",
       "1                  Y                     Y\n",
       "2                  Y                     Y\n",
       "3                  Y                     Y\n",
       "4                  N                     N\n",
       "5                  Y                     Y\n",
       "6                  N                     Y\n",
       "7                  Y                     Y\n",
       "8                  N                     N\n",
       "9                  Y                     N"
      ]
     },
     "execution_count": 120,
     "metadata": {},
     "output_type": "execute_result"
    }
   ],
   "source": [
    "W.head(10)"
   ]
  },
  {
   "cell_type": "code",
   "execution_count": 121,
   "id": "5428b5c5",
   "metadata": {},
   "outputs": [
    {
     "data": {
      "text/plain": [
       "0.7967479674796748"
      ]
     },
     "execution_count": 121,
     "metadata": {},
     "output_type": "execute_result"
    }
   ],
   "source": [
    "from sklearn.metrics import accuracy_score\n",
    "accuracy_score(ytest1,pred1)"
   ]
  },
  {
   "cell_type": "markdown",
   "id": "5e28f084",
   "metadata": {},
   "source": [
    "# Prepare Test Data for Prediction"
   ]
  },
  {
   "cell_type": "code",
   "execution_count": 122,
   "id": "6e359487",
   "metadata": {},
   "outputs": [
    {
     "data": {
      "text/html": [
       "<div>\n",
       "<style scoped>\n",
       "    .dataframe tbody tr th:only-of-type {\n",
       "        vertical-align: middle;\n",
       "    }\n",
       "\n",
       "    .dataframe tbody tr th {\n",
       "        vertical-align: top;\n",
       "    }\n",
       "\n",
       "    .dataframe thead th {\n",
       "        text-align: right;\n",
       "    }\n",
       "</style>\n",
       "<table border=\"1\" class=\"dataframe\">\n",
       "  <thead>\n",
       "    <tr style=\"text-align: right;\">\n",
       "      <th></th>\n",
       "      <th>Gender</th>\n",
       "      <th>Married</th>\n",
       "      <th>Dependents</th>\n",
       "      <th>Education</th>\n",
       "      <th>Self_Employed</th>\n",
       "      <th>ApplicantIncome</th>\n",
       "      <th>CoapplicantIncome</th>\n",
       "      <th>LoanAmount</th>\n",
       "      <th>Loan_Amount_Term</th>\n",
       "      <th>Credit_History</th>\n",
       "      <th>Property_Area</th>\n",
       "    </tr>\n",
       "  </thead>\n",
       "  <tbody>\n",
       "    <tr>\n",
       "      <th>0</th>\n",
       "      <td>Male</td>\n",
       "      <td>Yes</td>\n",
       "      <td>0</td>\n",
       "      <td>Graduate</td>\n",
       "      <td>No</td>\n",
       "      <td>5720</td>\n",
       "      <td>0</td>\n",
       "      <td>110.0</td>\n",
       "      <td>360.0</td>\n",
       "      <td>1.0</td>\n",
       "      <td>Urban</td>\n",
       "    </tr>\n",
       "    <tr>\n",
       "      <th>1</th>\n",
       "      <td>Male</td>\n",
       "      <td>Yes</td>\n",
       "      <td>1</td>\n",
       "      <td>Graduate</td>\n",
       "      <td>No</td>\n",
       "      <td>3076</td>\n",
       "      <td>1500</td>\n",
       "      <td>126.0</td>\n",
       "      <td>360.0</td>\n",
       "      <td>1.0</td>\n",
       "      <td>Urban</td>\n",
       "    </tr>\n",
       "    <tr>\n",
       "      <th>2</th>\n",
       "      <td>Male</td>\n",
       "      <td>Yes</td>\n",
       "      <td>2</td>\n",
       "      <td>Graduate</td>\n",
       "      <td>No</td>\n",
       "      <td>5000</td>\n",
       "      <td>1800</td>\n",
       "      <td>208.0</td>\n",
       "      <td>360.0</td>\n",
       "      <td>1.0</td>\n",
       "      <td>Urban</td>\n",
       "    </tr>\n",
       "  </tbody>\n",
       "</table>\n",
       "</div>"
      ],
      "text/plain": [
       "  Gender Married Dependents Education Self_Employed  ApplicantIncome  \\\n",
       "0   Male     Yes          0  Graduate            No             5720   \n",
       "1   Male     Yes          1  Graduate            No             3076   \n",
       "2   Male     Yes          2  Graduate            No             5000   \n",
       "\n",
       "   CoapplicantIncome  LoanAmount  Loan_Amount_Term  Credit_History  \\\n",
       "0                  0       110.0             360.0             1.0   \n",
       "1               1500       126.0             360.0             1.0   \n",
       "2               1800       208.0             360.0             1.0   \n",
       "\n",
       "  Property_Area  \n",
       "0         Urban  \n",
       "1         Urban  \n",
       "2         Urban  "
      ]
     },
     "execution_count": 122,
     "metadata": {},
     "output_type": "execute_result"
    }
   ],
   "source": [
    "Tnew.head(3)"
   ]
  },
  {
   "cell_type": "code",
   "execution_count": 124,
   "id": "deb46206",
   "metadata": {},
   "outputs": [],
   "source": [
    "X1n=pd.DataFrame(ss.transform(Tnew[con]),columns=con)\n",
    "X2n= pd.get_dummies(Tnew[cat])\n",
    "Xnewn= X1n.join(X2n)"
   ]
  },
  {
   "cell_type": "code",
   "execution_count": 125,
   "id": "15211263",
   "metadata": {},
   "outputs": [
    {
     "data": {
      "text/plain": [
       "Index(['ApplicantIncome', 'CoapplicantIncome', 'LoanAmount',\n",
       "       'Loan_Amount_Term', 'Credit_History', 'Gender_Female', 'Gender_Male',\n",
       "       'Married_No', 'Married_Yes', 'Dependents_0', 'Dependents_1',\n",
       "       'Dependents_2', 'Dependents_3+', 'Education_Graduate',\n",
       "       'Education_Not Graduate', 'Self_Employed_No', 'Self_Employed_Yes',\n",
       "       'Property_Area_Rural', 'Property_Area_Semiurban',\n",
       "       'Property_Area_Urban'],\n",
       "      dtype='object')"
      ]
     },
     "execution_count": 125,
     "metadata": {},
     "output_type": "execute_result"
    }
   ],
   "source": [
    "Xnewn.columns"
   ]
  },
  {
   "cell_type": "code",
   "execution_count": 126,
   "id": "6ebbf367",
   "metadata": {},
   "outputs": [
    {
     "data": {
      "text/html": [
       "<div>\n",
       "<style scoped>\n",
       "    .dataframe tbody tr th:only-of-type {\n",
       "        vertical-align: middle;\n",
       "    }\n",
       "\n",
       "    .dataframe tbody tr th {\n",
       "        vertical-align: top;\n",
       "    }\n",
       "\n",
       "    .dataframe thead th {\n",
       "        text-align: right;\n",
       "    }\n",
       "</style>\n",
       "<table border=\"1\" class=\"dataframe\">\n",
       "  <thead>\n",
       "    <tr style=\"text-align: right;\">\n",
       "      <th></th>\n",
       "      <th>ApplicantIncome</th>\n",
       "      <th>CoapplicantIncome</th>\n",
       "      <th>LoanAmount</th>\n",
       "      <th>Loan_Amount_Term</th>\n",
       "      <th>Credit_History</th>\n",
       "      <th>Gender_Female</th>\n",
       "      <th>Gender_Male</th>\n",
       "      <th>Married_No</th>\n",
       "      <th>Married_Yes</th>\n",
       "      <th>Dependents_0</th>\n",
       "      <th>Dependents_1</th>\n",
       "      <th>Dependents_2</th>\n",
       "      <th>Dependents_3+</th>\n",
       "      <th>Education_Graduate</th>\n",
       "      <th>Education_Not Graduate</th>\n",
       "      <th>Self_Employed_No</th>\n",
       "      <th>Self_Employed_Yes</th>\n",
       "      <th>Property_Area_Rural</th>\n",
       "      <th>Property_Area_Semiurban</th>\n",
       "      <th>Property_Area_Urban</th>\n",
       "    </tr>\n",
       "  </thead>\n",
       "  <tbody>\n",
       "    <tr>\n",
       "      <th>0</th>\n",
       "      <td>0.051517</td>\n",
       "      <td>-0.554368</td>\n",
       "      <td>-0.433638</td>\n",
       "      <td>0.279851</td>\n",
       "      <td>0.451640</td>\n",
       "      <td>0</td>\n",
       "      <td>1</td>\n",
       "      <td>0</td>\n",
       "      <td>1</td>\n",
       "      <td>1</td>\n",
       "      <td>0</td>\n",
       "      <td>0</td>\n",
       "      <td>0</td>\n",
       "      <td>1</td>\n",
       "      <td>0</td>\n",
       "      <td>1</td>\n",
       "      <td>0</td>\n",
       "      <td>0</td>\n",
       "      <td>0</td>\n",
       "      <td>1</td>\n",
       "    </tr>\n",
       "    <tr>\n",
       "      <th>1</th>\n",
       "      <td>-0.381645</td>\n",
       "      <td>-0.041346</td>\n",
       "      <td>-0.243092</td>\n",
       "      <td>0.279851</td>\n",
       "      <td>0.451640</td>\n",
       "      <td>0</td>\n",
       "      <td>1</td>\n",
       "      <td>0</td>\n",
       "      <td>1</td>\n",
       "      <td>0</td>\n",
       "      <td>1</td>\n",
       "      <td>0</td>\n",
       "      <td>0</td>\n",
       "      <td>1</td>\n",
       "      <td>0</td>\n",
       "      <td>1</td>\n",
       "      <td>0</td>\n",
       "      <td>0</td>\n",
       "      <td>0</td>\n",
       "      <td>1</td>\n",
       "    </tr>\n",
       "    <tr>\n",
       "      <th>2</th>\n",
       "      <td>-0.066439</td>\n",
       "      <td>0.061259</td>\n",
       "      <td>0.733459</td>\n",
       "      <td>0.279851</td>\n",
       "      <td>0.451640</td>\n",
       "      <td>0</td>\n",
       "      <td>1</td>\n",
       "      <td>0</td>\n",
       "      <td>1</td>\n",
       "      <td>0</td>\n",
       "      <td>0</td>\n",
       "      <td>1</td>\n",
       "      <td>0</td>\n",
       "      <td>1</td>\n",
       "      <td>0</td>\n",
       "      <td>1</td>\n",
       "      <td>0</td>\n",
       "      <td>0</td>\n",
       "      <td>0</td>\n",
       "      <td>1</td>\n",
       "    </tr>\n",
       "    <tr>\n",
       "      <th>3</th>\n",
       "      <td>-0.502223</td>\n",
       "      <td>0.316402</td>\n",
       "      <td>-0.552730</td>\n",
       "      <td>0.279851</td>\n",
       "      <td>-0.047954</td>\n",
       "      <td>0</td>\n",
       "      <td>1</td>\n",
       "      <td>0</td>\n",
       "      <td>1</td>\n",
       "      <td>0</td>\n",
       "      <td>0</td>\n",
       "      <td>1</td>\n",
       "      <td>0</td>\n",
       "      <td>1</td>\n",
       "      <td>0</td>\n",
       "      <td>1</td>\n",
       "      <td>0</td>\n",
       "      <td>0</td>\n",
       "      <td>0</td>\n",
       "      <td>1</td>\n",
       "    </tr>\n",
       "  </tbody>\n",
       "</table>\n",
       "</div>"
      ],
      "text/plain": [
       "   ApplicantIncome  CoapplicantIncome  LoanAmount  Loan_Amount_Term  \\\n",
       "0         0.051517          -0.554368   -0.433638          0.279851   \n",
       "1        -0.381645          -0.041346   -0.243092          0.279851   \n",
       "2        -0.066439           0.061259    0.733459          0.279851   \n",
       "3        -0.502223           0.316402   -0.552730          0.279851   \n",
       "\n",
       "   Credit_History  Gender_Female  Gender_Male  Married_No  Married_Yes  \\\n",
       "0        0.451640              0            1           0            1   \n",
       "1        0.451640              0            1           0            1   \n",
       "2        0.451640              0            1           0            1   \n",
       "3       -0.047954              0            1           0            1   \n",
       "\n",
       "   Dependents_0  Dependents_1  Dependents_2  Dependents_3+  \\\n",
       "0             1             0             0              0   \n",
       "1             0             1             0              0   \n",
       "2             0             0             1              0   \n",
       "3             0             0             1              0   \n",
       "\n",
       "   Education_Graduate  Education_Not Graduate  Self_Employed_No  \\\n",
       "0                   1                       0                 1   \n",
       "1                   1                       0                 1   \n",
       "2                   1                       0                 1   \n",
       "3                   1                       0                 1   \n",
       "\n",
       "   Self_Employed_Yes  Property_Area_Rural  Property_Area_Semiurban  \\\n",
       "0                  0                    0                        0   \n",
       "1                  0                    0                        0   \n",
       "2                  0                    0                        0   \n",
       "3                  0                    0                        0   \n",
       "\n",
       "   Property_Area_Urban  \n",
       "0                    1  \n",
       "1                    1  \n",
       "2                    1  \n",
       "3                    1  "
      ]
     },
     "execution_count": 126,
     "metadata": {},
     "output_type": "execute_result"
    }
   ],
   "source": [
    "Xnewn.head(4)"
   ]
  },
  {
   "cell_type": "code",
   "execution_count": 127,
   "id": "1aa8247d",
   "metadata": {},
   "outputs": [
    {
     "data": {
      "text/plain": [
       "(367, 20)"
      ]
     },
     "execution_count": 127,
     "metadata": {},
     "output_type": "execute_result"
    }
   ],
   "source": [
    "Xnewn.shape"
   ]
  },
  {
   "cell_type": "code",
   "execution_count": 128,
   "id": "df31c98d",
   "metadata": {},
   "outputs": [
    {
     "data": {
      "text/plain": [
       "(614, 20)"
      ]
     },
     "execution_count": 128,
     "metadata": {},
     "output_type": "execute_result"
    }
   ],
   "source": [
    "Xnew.shape"
   ]
  },
  {
   "cell_type": "code",
   "execution_count": 129,
   "id": "a2da2e1e",
   "metadata": {},
   "outputs": [
    {
     "data": {
      "text/plain": [
       "Index(['ApplicantIncome', 'CoapplicantIncome', 'LoanAmount',\n",
       "       'Loan_Amount_Term', 'Credit_History', 'Gender_Female', 'Gender_Male',\n",
       "       'Married_No', 'Married_Yes', 'Dependents_0', 'Dependents_1',\n",
       "       'Dependents_2', 'Dependents_3+', 'Education_Graduate',\n",
       "       'Education_Not Graduate', 'Self_Employed_No', 'Self_Employed_Yes',\n",
       "       'Property_Area_Rural', 'Property_Area_Semiurban',\n",
       "       'Property_Area_Urban'],\n",
       "      dtype='object')"
      ]
     },
     "execution_count": 129,
     "metadata": {},
     "output_type": "execute_result"
    }
   ],
   "source": [
    "Xnew.columns"
   ]
  },
  {
   "cell_type": "code",
   "execution_count": 130,
   "id": "676be5c4",
   "metadata": {},
   "outputs": [
    {
     "name": "stdout",
     "output_type": "stream",
     "text": [
      "12/12 [==============================] - 0s 3ms/step\n"
     ]
    }
   ],
   "source": [
    "pred_test3=nn.predict(Xnewn)"
   ]
  },
  {
   "cell_type": "code",
   "execution_count": 132,
   "id": "a235f397",
   "metadata": {},
   "outputs": [],
   "source": [
    "#pred_test3"
   ]
  },
  {
   "cell_type": "code",
   "execution_count": 133,
   "id": "a16cd61a",
   "metadata": {},
   "outputs": [],
   "source": [
    "Bn = TS[[\"Loan_ID\"]]\n",
    "Bn['Loan_Status']=pred_test3"
   ]
  },
  {
   "cell_type": "code",
   "execution_count": 134,
   "id": "cc4f3a05",
   "metadata": {},
   "outputs": [
    {
     "data": {
      "text/html": [
       "<div>\n",
       "<style scoped>\n",
       "    .dataframe tbody tr th:only-of-type {\n",
       "        vertical-align: middle;\n",
       "    }\n",
       "\n",
       "    .dataframe tbody tr th {\n",
       "        vertical-align: top;\n",
       "    }\n",
       "\n",
       "    .dataframe thead th {\n",
       "        text-align: right;\n",
       "    }\n",
       "</style>\n",
       "<table border=\"1\" class=\"dataframe\">\n",
       "  <thead>\n",
       "    <tr style=\"text-align: right;\">\n",
       "      <th></th>\n",
       "      <th>Loan_ID</th>\n",
       "      <th>Loan_Status</th>\n",
       "    </tr>\n",
       "  </thead>\n",
       "  <tbody>\n",
       "    <tr>\n",
       "      <th>0</th>\n",
       "      <td>LP001015</td>\n",
       "      <td>0.886357</td>\n",
       "    </tr>\n",
       "    <tr>\n",
       "      <th>1</th>\n",
       "      <td>LP001022</td>\n",
       "      <td>0.758571</td>\n",
       "    </tr>\n",
       "    <tr>\n",
       "      <th>2</th>\n",
       "      <td>LP001031</td>\n",
       "      <td>0.850836</td>\n",
       "    </tr>\n",
       "  </tbody>\n",
       "</table>\n",
       "</div>"
      ],
      "text/plain": [
       "    Loan_ID  Loan_Status\n",
       "0  LP001015     0.886357\n",
       "1  LP001022     0.758571\n",
       "2  LP001031     0.850836"
      ]
     },
     "execution_count": 134,
     "metadata": {},
     "output_type": "execute_result"
    }
   ],
   "source": [
    "Bn.head(3)"
   ]
  },
  {
   "cell_type": "code",
   "execution_count": 135,
   "id": "b5fab94a",
   "metadata": {},
   "outputs": [],
   "source": [
    "Bn.to_csv(\"C:/Users/admin/Downloads/Loan Project/NN_Results.csv\")"
   ]
  },
  {
   "cell_type": "markdown",
   "id": "33097021",
   "metadata": {},
   "source": [
    "# Create Cluster"
   ]
  },
  {
   "cell_type": "code",
   "execution_count": 137,
   "id": "4c5deaff",
   "metadata": {},
   "outputs": [],
   "source": [
    "A=pd.read_csv(\"C:/Users/admin/Downloads/training_set (3).csv\")"
   ]
  },
  {
   "cell_type": "code",
   "execution_count": 138,
   "id": "c896515b",
   "metadata": {},
   "outputs": [
    {
     "data": {
      "text/html": [
       "<div>\n",
       "<style scoped>\n",
       "    .dataframe tbody tr th:only-of-type {\n",
       "        vertical-align: middle;\n",
       "    }\n",
       "\n",
       "    .dataframe tbody tr th {\n",
       "        vertical-align: top;\n",
       "    }\n",
       "\n",
       "    .dataframe thead th {\n",
       "        text-align: right;\n",
       "    }\n",
       "</style>\n",
       "<table border=\"1\" class=\"dataframe\">\n",
       "  <thead>\n",
       "    <tr style=\"text-align: right;\">\n",
       "      <th></th>\n",
       "      <th>Loan_ID</th>\n",
       "      <th>Gender</th>\n",
       "      <th>Married</th>\n",
       "      <th>Dependents</th>\n",
       "      <th>Education</th>\n",
       "      <th>Self_Employed</th>\n",
       "      <th>ApplicantIncome</th>\n",
       "      <th>CoapplicantIncome</th>\n",
       "      <th>LoanAmount</th>\n",
       "      <th>Loan_Amount_Term</th>\n",
       "      <th>Credit_History</th>\n",
       "      <th>Property_Area</th>\n",
       "      <th>Loan_Status</th>\n",
       "    </tr>\n",
       "  </thead>\n",
       "  <tbody>\n",
       "    <tr>\n",
       "      <th>0</th>\n",
       "      <td>LP001002</td>\n",
       "      <td>Male</td>\n",
       "      <td>No</td>\n",
       "      <td>0</td>\n",
       "      <td>Graduate</td>\n",
       "      <td>No</td>\n",
       "      <td>5849.0</td>\n",
       "      <td>0.0</td>\n",
       "      <td>NaN</td>\n",
       "      <td>360.0</td>\n",
       "      <td>1.0</td>\n",
       "      <td>Urban</td>\n",
       "      <td>Y</td>\n",
       "    </tr>\n",
       "    <tr>\n",
       "      <th>1</th>\n",
       "      <td>LP001003</td>\n",
       "      <td>Male</td>\n",
       "      <td>Yes</td>\n",
       "      <td>1</td>\n",
       "      <td>Graduate</td>\n",
       "      <td>No</td>\n",
       "      <td>NaN</td>\n",
       "      <td>1508.0</td>\n",
       "      <td>128.0</td>\n",
       "      <td>360.0</td>\n",
       "      <td>1.0</td>\n",
       "      <td>Rural</td>\n",
       "      <td>N</td>\n",
       "    </tr>\n",
       "    <tr>\n",
       "      <th>2</th>\n",
       "      <td>LP001005</td>\n",
       "      <td>Male</td>\n",
       "      <td>Yes</td>\n",
       "      <td>0</td>\n",
       "      <td>Graduate</td>\n",
       "      <td>Yes</td>\n",
       "      <td>3000.0</td>\n",
       "      <td>0.0</td>\n",
       "      <td>66.0</td>\n",
       "      <td>360.0</td>\n",
       "      <td>1.0</td>\n",
       "      <td>Urban</td>\n",
       "      <td>Y</td>\n",
       "    </tr>\n",
       "  </tbody>\n",
       "</table>\n",
       "</div>"
      ],
      "text/plain": [
       "    Loan_ID Gender Married Dependents Education Self_Employed  \\\n",
       "0  LP001002   Male      No          0  Graduate            No   \n",
       "1  LP001003   Male     Yes          1  Graduate            No   \n",
       "2  LP001005   Male     Yes          0  Graduate           Yes   \n",
       "\n",
       "   ApplicantIncome  CoapplicantIncome  LoanAmount  Loan_Amount_Term  \\\n",
       "0           5849.0                0.0         NaN             360.0   \n",
       "1              NaN             1508.0       128.0             360.0   \n",
       "2           3000.0                0.0        66.0             360.0   \n",
       "\n",
       "   Credit_History Property_Area Loan_Status  \n",
       "0             1.0         Urban           Y  \n",
       "1             1.0         Rural           N  \n",
       "2             1.0         Urban           Y  "
      ]
     },
     "execution_count": 138,
     "metadata": {},
     "output_type": "execute_result"
    }
   ],
   "source": [
    "A.head(3)"
   ]
  },
  {
   "cell_type": "code",
   "execution_count": 139,
   "id": "166debab",
   "metadata": {},
   "outputs": [],
   "source": [
    "replacer(A)"
   ]
  },
  {
   "cell_type": "code",
   "execution_count": 140,
   "id": "959018e8",
   "metadata": {},
   "outputs": [],
   "source": [
    "cat =[]\n",
    "con =[]\n",
    "\n",
    "for i in A.columns:\n",
    "    if(A[i].dtypes == \"object\"):\n",
    "        cat.append(i)\n",
    "        x = A[i].mode()[0]\n",
    "        A[i]=A[i].fillna(x)\n",
    "    else:\n",
    "        con.append(i)\n",
    "        x = A[i].mean()\n",
    "        A[i]=A[i].fillna(x)"
   ]
  },
  {
   "cell_type": "code",
   "execution_count": 141,
   "id": "51584279",
   "metadata": {},
   "outputs": [
    {
     "data": {
      "text/html": [
       "<div>\n",
       "<style scoped>\n",
       "    .dataframe tbody tr th:only-of-type {\n",
       "        vertical-align: middle;\n",
       "    }\n",
       "\n",
       "    .dataframe tbody tr th {\n",
       "        vertical-align: top;\n",
       "    }\n",
       "\n",
       "    .dataframe thead th {\n",
       "        text-align: right;\n",
       "    }\n",
       "</style>\n",
       "<table border=\"1\" class=\"dataframe\">\n",
       "  <thead>\n",
       "    <tr style=\"text-align: right;\">\n",
       "      <th></th>\n",
       "      <th>Loan_ID</th>\n",
       "      <th>Gender</th>\n",
       "      <th>Married</th>\n",
       "      <th>Dependents</th>\n",
       "      <th>Education</th>\n",
       "      <th>Self_Employed</th>\n",
       "      <th>ApplicantIncome</th>\n",
       "      <th>CoapplicantIncome</th>\n",
       "      <th>LoanAmount</th>\n",
       "      <th>Loan_Amount_Term</th>\n",
       "      <th>Credit_History</th>\n",
       "      <th>Property_Area</th>\n",
       "      <th>Loan_Status</th>\n",
       "    </tr>\n",
       "  </thead>\n",
       "  <tbody>\n",
       "    <tr>\n",
       "      <th>0</th>\n",
       "      <td>LP001002</td>\n",
       "      <td>Male</td>\n",
       "      <td>No</td>\n",
       "      <td>0</td>\n",
       "      <td>Graduate</td>\n",
       "      <td>No</td>\n",
       "      <td>5849.00000</td>\n",
       "      <td>0.0</td>\n",
       "      <td>146.412162</td>\n",
       "      <td>360.0</td>\n",
       "      <td>1.0</td>\n",
       "      <td>Urban</td>\n",
       "      <td>Y</td>\n",
       "    </tr>\n",
       "    <tr>\n",
       "      <th>1</th>\n",
       "      <td>LP001003</td>\n",
       "      <td>Male</td>\n",
       "      <td>Yes</td>\n",
       "      <td>1</td>\n",
       "      <td>Graduate</td>\n",
       "      <td>No</td>\n",
       "      <td>5405.54085</td>\n",
       "      <td>1508.0</td>\n",
       "      <td>128.000000</td>\n",
       "      <td>360.0</td>\n",
       "      <td>1.0</td>\n",
       "      <td>Rural</td>\n",
       "      <td>N</td>\n",
       "    </tr>\n",
       "    <tr>\n",
       "      <th>2</th>\n",
       "      <td>LP001005</td>\n",
       "      <td>Male</td>\n",
       "      <td>Yes</td>\n",
       "      <td>0</td>\n",
       "      <td>Graduate</td>\n",
       "      <td>Yes</td>\n",
       "      <td>3000.00000</td>\n",
       "      <td>0.0</td>\n",
       "      <td>66.000000</td>\n",
       "      <td>360.0</td>\n",
       "      <td>1.0</td>\n",
       "      <td>Urban</td>\n",
       "      <td>Y</td>\n",
       "    </tr>\n",
       "    <tr>\n",
       "      <th>3</th>\n",
       "      <td>LP001006</td>\n",
       "      <td>Male</td>\n",
       "      <td>Yes</td>\n",
       "      <td>0</td>\n",
       "      <td>Not Graduate</td>\n",
       "      <td>No</td>\n",
       "      <td>2583.00000</td>\n",
       "      <td>2358.0</td>\n",
       "      <td>120.000000</td>\n",
       "      <td>360.0</td>\n",
       "      <td>1.0</td>\n",
       "      <td>Urban</td>\n",
       "      <td>Y</td>\n",
       "    </tr>\n",
       "    <tr>\n",
       "      <th>4</th>\n",
       "      <td>LP001008</td>\n",
       "      <td>Male</td>\n",
       "      <td>No</td>\n",
       "      <td>0</td>\n",
       "      <td>Graduate</td>\n",
       "      <td>No</td>\n",
       "      <td>6000.00000</td>\n",
       "      <td>0.0</td>\n",
       "      <td>141.000000</td>\n",
       "      <td>360.0</td>\n",
       "      <td>1.0</td>\n",
       "      <td>Urban</td>\n",
       "      <td>Y</td>\n",
       "    </tr>\n",
       "  </tbody>\n",
       "</table>\n",
       "</div>"
      ],
      "text/plain": [
       "    Loan_ID Gender Married Dependents     Education Self_Employed  \\\n",
       "0  LP001002   Male      No          0      Graduate            No   \n",
       "1  LP001003   Male     Yes          1      Graduate            No   \n",
       "2  LP001005   Male     Yes          0      Graduate           Yes   \n",
       "3  LP001006   Male     Yes          0  Not Graduate            No   \n",
       "4  LP001008   Male      No          0      Graduate            No   \n",
       "\n",
       "   ApplicantIncome  CoapplicantIncome  LoanAmount  Loan_Amount_Term  \\\n",
       "0       5849.00000                0.0  146.412162             360.0   \n",
       "1       5405.54085             1508.0  128.000000             360.0   \n",
       "2       3000.00000                0.0   66.000000             360.0   \n",
       "3       2583.00000             2358.0  120.000000             360.0   \n",
       "4       6000.00000                0.0  141.000000             360.0   \n",
       "\n",
       "   Credit_History Property_Area Loan_Status  \n",
       "0             1.0         Urban           Y  \n",
       "1             1.0         Rural           N  \n",
       "2             1.0         Urban           Y  \n",
       "3             1.0         Urban           Y  \n",
       "4             1.0         Urban           Y  "
      ]
     },
     "execution_count": 141,
     "metadata": {},
     "output_type": "execute_result"
    }
   ],
   "source": [
    "A.head()"
   ]
  },
  {
   "cell_type": "code",
   "execution_count": 142,
   "id": "f9a6fe71",
   "metadata": {},
   "outputs": [],
   "source": [
    "B = A.drop(labels=[\"Loan_ID\"],axis=1)"
   ]
  },
  {
   "cell_type": "code",
   "execution_count": 143,
   "id": "fb1bc307",
   "metadata": {},
   "outputs": [],
   "source": [
    "# Columns which I chose for creating the Cluster- Applicant Income,Co-ApplicantIncome,Credit History,Property_Area,Loan_Amount"
   ]
  },
  {
   "cell_type": "code",
   "execution_count": 144,
   "id": "a9b48bb1",
   "metadata": {},
   "outputs": [],
   "source": [
    "B = B[[\"ApplicantIncome\",\"CoapplicantIncome\",\"Credit_History\",\"LoanAmount\"]]"
   ]
  },
  {
   "cell_type": "code",
   "execution_count": 145,
   "id": "ebffcaed",
   "metadata": {},
   "outputs": [
    {
     "data": {
      "text/html": [
       "<div>\n",
       "<style scoped>\n",
       "    .dataframe tbody tr th:only-of-type {\n",
       "        vertical-align: middle;\n",
       "    }\n",
       "\n",
       "    .dataframe tbody tr th {\n",
       "        vertical-align: top;\n",
       "    }\n",
       "\n",
       "    .dataframe thead th {\n",
       "        text-align: right;\n",
       "    }\n",
       "</style>\n",
       "<table border=\"1\" class=\"dataframe\">\n",
       "  <thead>\n",
       "    <tr style=\"text-align: right;\">\n",
       "      <th></th>\n",
       "      <th>ApplicantIncome</th>\n",
       "      <th>CoapplicantIncome</th>\n",
       "      <th>Credit_History</th>\n",
       "      <th>LoanAmount</th>\n",
       "    </tr>\n",
       "  </thead>\n",
       "  <tbody>\n",
       "    <tr>\n",
       "      <th>0</th>\n",
       "      <td>5849.00000</td>\n",
       "      <td>0.0</td>\n",
       "      <td>1.0</td>\n",
       "      <td>146.412162</td>\n",
       "    </tr>\n",
       "    <tr>\n",
       "      <th>1</th>\n",
       "      <td>5405.54085</td>\n",
       "      <td>1508.0</td>\n",
       "      <td>1.0</td>\n",
       "      <td>128.000000</td>\n",
       "    </tr>\n",
       "    <tr>\n",
       "      <th>2</th>\n",
       "      <td>3000.00000</td>\n",
       "      <td>0.0</td>\n",
       "      <td>1.0</td>\n",
       "      <td>66.000000</td>\n",
       "    </tr>\n",
       "  </tbody>\n",
       "</table>\n",
       "</div>"
      ],
      "text/plain": [
       "   ApplicantIncome  CoapplicantIncome  Credit_History  LoanAmount\n",
       "0       5849.00000                0.0             1.0  146.412162\n",
       "1       5405.54085             1508.0             1.0  128.000000\n",
       "2       3000.00000                0.0             1.0   66.000000"
      ]
     },
     "execution_count": 145,
     "metadata": {},
     "output_type": "execute_result"
    }
   ],
   "source": [
    "B.head(3)"
   ]
  },
  {
   "cell_type": "code",
   "execution_count": 146,
   "id": "a0f80afc",
   "metadata": {},
   "outputs": [],
   "source": [
    "from sklearn.preprocessing import StandardScaler\n",
    "ss = StandardScaler()\n",
    "X1=pd.DataFrame(ss.fit_transform(B),columns=[\"ApplicantIncome\",\"CoapplicantIncome\",\"Credit_History\",\"LoanAmount\"])"
   ]
  },
  {
   "cell_type": "code",
   "execution_count": 147,
   "id": "368da96f",
   "metadata": {},
   "outputs": [
    {
     "data": {
      "text/plain": [
       "Index(['ApplicantIncome', 'CoapplicantIncome', 'Credit_History', 'LoanAmount'], dtype='object')"
      ]
     },
     "execution_count": 147,
     "metadata": {},
     "output_type": "execute_result"
    }
   ],
   "source": [
    "B.columns"
   ]
  },
  {
   "cell_type": "markdown",
   "id": "f019e0fb",
   "metadata": {},
   "source": [
    "# Create Clusters"
   ]
  },
  {
   "cell_type": "code",
   "execution_count": 148,
   "id": "2ea84209",
   "metadata": {},
   "outputs": [],
   "source": [
    "k = range(1,15,1)\n",
    "WCSS = []\n",
    "for i in k:\n",
    "    from sklearn.cluster import KMeans\n",
    "    km = KMeans(n_clusters=i)\n",
    "    model = km.fit(B)\n",
    "    WCSS.append(model.inertia_)"
   ]
  },
  {
   "cell_type": "code",
   "execution_count": 149,
   "id": "85481ad1",
   "metadata": {},
   "outputs": [
    {
     "data": {
      "text/plain": [
       "Text(0.5, 1.0, 'Elbow curve')"
      ]
     },
     "execution_count": 149,
     "metadata": {},
     "output_type": "execute_result"
    },
    {
     "data": {
      "image/png": "[encoded data removed]",
      "text/plain": [
       "<Figure size 432x288 with 1 Axes>"
      ]
     },
     "metadata": {
      "needs_background": "light"
     },
     "output_type": "display_data"
    }
   ],
   "source": [
    "import matplotlib.pyplot as plt\n",
    "plt.scatter(k,WCSS,c=\"red\")\n",
    "plt.plot(k,WCSS,c=\"blue\")\n",
    "plt.xticks(range(1,15,1))\n",
    "plt.xlabel(\"no of clusters\")\n",
    "plt.ylabel(\"WCSS\")\n",
    "plt.title(\"Elbow curve\")"
   ]
  },
  {
   "cell_type": "markdown",
   "id": "ca1ba5ee",
   "metadata": {},
   "source": [
    "# No of Clusters =4"
   ]
  },
  {
   "cell_type": "code",
   "execution_count": 150,
   "id": "31b9ed8f",
   "metadata": {},
   "outputs": [],
   "source": [
    "from sklearn.cluster import KMeans\n",
    "km = KMeans(n_clusters=4)\n",
    "model = km.fit(B)"
   ]
  },
  {
   "cell_type": "code",
   "execution_count": 151,
   "id": "caed998e",
   "metadata": {},
   "outputs": [
    {
     "data": {
      "text/plain": [
       "array([0, 0, 0, 0, 0, 0, 0, 0, 0, 2, 0, 0, 0, 0, 0, 0, 0, 0, 0, 0, 0, 0,\n",
       "       0, 0, 0, 2, 0, 0, 0, 0, 0, 0, 0, 0, 2, 0, 0, 0, 0, 0, 0, 0, 0, 0,\n",
       "       0, 0, 0, 0, 0, 0, 0, 0, 0, 0, 2, 0, 0, 0, 0, 0, 0, 0, 0, 0, 0, 0,\n",
       "       0, 2, 0, 0, 0, 0, 0, 0, 0, 0, 0, 0, 0, 0, 0, 0, 0, 0, 0, 0, 0, 0,\n",
       "       2, 0, 0, 0, 0, 0, 0, 0, 0, 0, 0, 0, 0, 0, 2, 0, 0, 0, 2, 0, 0, 0,\n",
       "       0, 0, 0, 0, 0, 2, 0, 0, 0, 2, 0, 0, 0, 0, 0, 0, 2, 0, 2, 0, 2, 0,\n",
       "       0, 0, 0, 0, 0, 0, 2, 0, 0, 0, 0, 0, 2, 0, 2, 0, 2, 0, 0, 0, 2, 0,\n",
       "       0, 1, 0, 2, 0, 0, 0, 0, 0, 0, 2, 0, 0, 0, 0, 0, 0, 1, 0, 0, 0, 0,\n",
       "       0, 0, 0, 0, 0, 0, 0, 1, 0, 1, 0, 0, 0, 2, 0, 2, 0, 0, 0, 0, 0, 0,\n",
       "       0, 2, 0, 0, 0, 0, 0, 0, 0, 0, 0, 0, 2, 0, 0, 0, 0, 0, 0, 0, 0, 0,\n",
       "       0, 0, 0, 0, 0, 0, 0, 0, 0, 0, 0, 0, 0, 2, 0, 0, 0, 0, 0, 0, 0, 0,\n",
       "       0, 0, 0, 0, 2, 0, 0, 0, 0, 0, 0, 0, 2, 0, 0, 0, 2, 0, 0, 0, 0, 0,\n",
       "       0, 0, 0, 0, 0, 0, 0, 2, 0, 0, 0, 0, 0, 0, 2, 0, 0, 0, 0, 0, 2, 0,\n",
       "       0, 0, 0, 2, 0, 0, 0, 0, 0, 0, 0, 0, 0, 0, 0, 0, 0, 0, 0, 0, 0, 0,\n",
       "       2, 0, 0, 0, 0, 0, 0, 0, 0, 0, 0, 2, 0, 0, 0, 0, 2, 2, 0, 0, 0, 0,\n",
       "       0, 0, 0, 1, 2, 0, 0, 0, 0, 0, 0, 0, 0, 0, 0, 0, 0, 0, 0, 0, 2, 2,\n",
       "       0, 0, 0, 0, 0, 0, 0, 0, 0, 0, 0, 0, 0, 0, 0, 0, 0, 2, 2, 0, 2, 0,\n",
       "       0, 0, 2, 0, 0, 0, 0, 0, 0, 0, 0, 0, 0, 0, 0, 0, 2, 2, 0, 0, 0, 0,\n",
       "       0, 0, 0, 0, 0, 0, 3, 0, 0, 0, 0, 0, 2, 1, 0, 0, 0, 0, 0, 0, 0, 3,\n",
       "       0, 0, 0, 0, 0, 0, 2, 0, 0, 0, 0, 0, 2, 0, 2, 0, 0, 2, 0, 0, 2, 0,\n",
       "       0, 0, 0, 1, 0, 0, 0, 0, 0, 0, 0, 0, 0, 0, 0, 0, 0, 0, 0, 2, 0, 0,\n",
       "       0, 0, 0, 0, 0, 2, 0, 0, 0, 0, 0, 0, 0, 2, 0, 0, 2, 0, 0, 0, 0, 2,\n",
       "       2, 0, 0, 2, 0, 0, 0, 0, 0, 2, 0, 0, 0, 0, 0, 0, 0, 0, 0, 0, 0, 0,\n",
       "       2, 0, 0, 2, 0, 0, 0, 0, 0, 0, 0, 0, 0, 0, 0, 0, 0, 0, 0, 2, 0, 0,\n",
       "       0, 0, 0, 0, 0, 2, 2, 0, 0, 0, 0, 0, 0, 0, 0, 0, 0, 0, 0, 0, 0, 0,\n",
       "       0, 0, 0, 0, 0, 0, 0, 2, 0, 0, 0, 2, 0, 0, 2, 0, 0, 0, 0, 0, 0, 0,\n",
       "       2, 0, 0, 0, 0, 0, 0, 0, 0, 3, 0, 0, 0, 0, 0, 0, 0, 0, 0, 0, 2, 0,\n",
       "       2, 0, 0, 0, 2, 0, 3, 0, 0, 0, 2, 0, 0, 0, 0, 0, 0, 0, 0, 0])"
      ]
     },
     "execution_count": 151,
     "metadata": {},
     "output_type": "execute_result"
    }
   ],
   "source": [
    "model.labels_"
   ]
  },
  {
   "cell_type": "code",
   "execution_count": 152,
   "id": "e6fb594c",
   "metadata": {},
   "outputs": [],
   "source": [
    "B['Cluster_no']= model.labels_"
   ]
  },
  {
   "cell_type": "code",
   "execution_count": 153,
   "id": "87860242",
   "metadata": {},
   "outputs": [
    {
     "data": {
      "text/html": [
       "<div>\n",
       "<style scoped>\n",
       "    .dataframe tbody tr th:only-of-type {\n",
       "        vertical-align: middle;\n",
       "    }\n",
       "\n",
       "    .dataframe tbody tr th {\n",
       "        vertical-align: top;\n",
       "    }\n",
       "\n",
       "    .dataframe thead th {\n",
       "        text-align: right;\n",
       "    }\n",
       "</style>\n",
       "<table border=\"1\" class=\"dataframe\">\n",
       "  <thead>\n",
       "    <tr style=\"text-align: right;\">\n",
       "      <th></th>\n",
       "      <th>ApplicantIncome</th>\n",
       "      <th>CoapplicantIncome</th>\n",
       "      <th>Credit_History</th>\n",
       "      <th>LoanAmount</th>\n",
       "      <th>Cluster_no</th>\n",
       "    </tr>\n",
       "  </thead>\n",
       "  <tbody>\n",
       "    <tr>\n",
       "      <th>0</th>\n",
       "      <td>5849.00000</td>\n",
       "      <td>0.0</td>\n",
       "      <td>1.0</td>\n",
       "      <td>146.412162</td>\n",
       "      <td>0</td>\n",
       "    </tr>\n",
       "    <tr>\n",
       "      <th>1</th>\n",
       "      <td>5405.54085</td>\n",
       "      <td>1508.0</td>\n",
       "      <td>1.0</td>\n",
       "      <td>128.000000</td>\n",
       "      <td>0</td>\n",
       "    </tr>\n",
       "  </tbody>\n",
       "</table>\n",
       "</div>"
      ],
      "text/plain": [
       "   ApplicantIncome  CoapplicantIncome  Credit_History  LoanAmount  Cluster_no\n",
       "0       5849.00000                0.0             1.0  146.412162           0\n",
       "1       5405.54085             1508.0             1.0  128.000000           0"
      ]
     },
     "execution_count": 153,
     "metadata": {},
     "output_type": "execute_result"
    }
   ],
   "source": [
    "B.head(2)"
   ]
  },
  {
   "cell_type": "code",
   "execution_count": 154,
   "id": "8dcb4ba2",
   "metadata": {},
   "outputs": [],
   "source": [
    "B['Loan_ID']=A.Loan_ID"
   ]
  },
  {
   "cell_type": "code",
   "execution_count": 155,
   "id": "a038eb4e",
   "metadata": {},
   "outputs": [
    {
     "data": {
      "text/html": [
       "<div>\n",
       "<style scoped>\n",
       "    .dataframe tbody tr th:only-of-type {\n",
       "        vertical-align: middle;\n",
       "    }\n",
       "\n",
       "    .dataframe tbody tr th {\n",
       "        vertical-align: top;\n",
       "    }\n",
       "\n",
       "    .dataframe thead th {\n",
       "        text-align: right;\n",
       "    }\n",
       "</style>\n",
       "<table border=\"1\" class=\"dataframe\">\n",
       "  <thead>\n",
       "    <tr style=\"text-align: right;\">\n",
       "      <th></th>\n",
       "      <th>ApplicantIncome</th>\n",
       "      <th>CoapplicantIncome</th>\n",
       "      <th>Credit_History</th>\n",
       "      <th>LoanAmount</th>\n",
       "      <th>Cluster_no</th>\n",
       "      <th>Loan_ID</th>\n",
       "    </tr>\n",
       "  </thead>\n",
       "  <tbody>\n",
       "    <tr>\n",
       "      <th>0</th>\n",
       "      <td>5849.00000</td>\n",
       "      <td>0.0</td>\n",
       "      <td>1.0</td>\n",
       "      <td>146.412162</td>\n",
       "      <td>0</td>\n",
       "      <td>LP001002</td>\n",
       "    </tr>\n",
       "    <tr>\n",
       "      <th>1</th>\n",
       "      <td>5405.54085</td>\n",
       "      <td>1508.0</td>\n",
       "      <td>1.0</td>\n",
       "      <td>128.000000</td>\n",
       "      <td>0</td>\n",
       "      <td>LP001003</td>\n",
       "    </tr>\n",
       "    <tr>\n",
       "      <th>2</th>\n",
       "      <td>3000.00000</td>\n",
       "      <td>0.0</td>\n",
       "      <td>1.0</td>\n",
       "      <td>66.000000</td>\n",
       "      <td>0</td>\n",
       "      <td>LP001005</td>\n",
       "    </tr>\n",
       "  </tbody>\n",
       "</table>\n",
       "</div>"
      ],
      "text/plain": [
       "   ApplicantIncome  CoapplicantIncome  Credit_History  LoanAmount  Cluster_no  \\\n",
       "0       5849.00000                0.0             1.0  146.412162           0   \n",
       "1       5405.54085             1508.0             1.0  128.000000           0   \n",
       "2       3000.00000                0.0             1.0   66.000000           0   \n",
       "\n",
       "    Loan_ID  \n",
       "0  LP001002  \n",
       "1  LP001003  \n",
       "2  LP001005  "
      ]
     },
     "execution_count": 155,
     "metadata": {},
     "output_type": "execute_result"
    }
   ],
   "source": [
    "B.head(3)"
   ]
  },
  {
   "cell_type": "code",
   "execution_count": 156,
   "id": "a62bb211",
   "metadata": {},
   "outputs": [],
   "source": [
    "Bnew = B.sort_values(by=\"Cluster_no\")"
   ]
  },
  {
   "cell_type": "code",
   "execution_count": 157,
   "id": "10568ea3",
   "metadata": {},
   "outputs": [
    {
     "data": {
      "text/html": [
       "<div>\n",
       "<style scoped>\n",
       "    .dataframe tbody tr th:only-of-type {\n",
       "        vertical-align: middle;\n",
       "    }\n",
       "\n",
       "    .dataframe tbody tr th {\n",
       "        vertical-align: top;\n",
       "    }\n",
       "\n",
       "    .dataframe thead th {\n",
       "        text-align: right;\n",
       "    }\n",
       "</style>\n",
       "<table border=\"1\" class=\"dataframe\">\n",
       "  <thead>\n",
       "    <tr style=\"text-align: right;\">\n",
       "      <th></th>\n",
       "      <th>ApplicantIncome</th>\n",
       "      <th>CoapplicantIncome</th>\n",
       "      <th>Credit_History</th>\n",
       "      <th>LoanAmount</th>\n",
       "      <th>Cluster_no</th>\n",
       "      <th>Loan_ID</th>\n",
       "    </tr>\n",
       "  </thead>\n",
       "  <tbody>\n",
       "    <tr>\n",
       "      <th>0</th>\n",
       "      <td>5849.0</td>\n",
       "      <td>0.0</td>\n",
       "      <td>1.0</td>\n",
       "      <td>146.412162</td>\n",
       "      <td>0</td>\n",
       "      <td>LP001002</td>\n",
       "    </tr>\n",
       "    <tr>\n",
       "      <th>401</th>\n",
       "      <td>2755.0</td>\n",
       "      <td>0.0</td>\n",
       "      <td>1.0</td>\n",
       "      <td>65.000000</td>\n",
       "      <td>0</td>\n",
       "      <td>LP002296</td>\n",
       "    </tr>\n",
       "    <tr>\n",
       "      <th>400</th>\n",
       "      <td>2889.0</td>\n",
       "      <td>0.0</td>\n",
       "      <td>0.0</td>\n",
       "      <td>45.000000</td>\n",
       "      <td>0</td>\n",
       "      <td>LP002288</td>\n",
       "    </tr>\n",
       "    <tr>\n",
       "      <th>399</th>\n",
       "      <td>1500.0</td>\n",
       "      <td>1800.0</td>\n",
       "      <td>0.0</td>\n",
       "      <td>103.000000</td>\n",
       "      <td>0</td>\n",
       "      <td>LP002287</td>\n",
       "    </tr>\n",
       "    <tr>\n",
       "      <th>398</th>\n",
       "      <td>3902.0</td>\n",
       "      <td>1666.0</td>\n",
       "      <td>1.0</td>\n",
       "      <td>109.000000</td>\n",
       "      <td>0</td>\n",
       "      <td>LP002284</td>\n",
       "    </tr>\n",
       "  </tbody>\n",
       "</table>\n",
       "</div>"
      ],
      "text/plain": [
       "     ApplicantIncome  CoapplicantIncome  Credit_History  LoanAmount  \\\n",
       "0             5849.0                0.0             1.0  146.412162   \n",
       "401           2755.0                0.0             1.0   65.000000   \n",
       "400           2889.0                0.0             0.0   45.000000   \n",
       "399           1500.0             1800.0             0.0  103.000000   \n",
       "398           3902.0             1666.0             1.0  109.000000   \n",
       "\n",
       "     Cluster_no   Loan_ID  \n",
       "0             0  LP001002  \n",
       "401           0  LP002296  \n",
       "400           0  LP002288  \n",
       "399           0  LP002287  \n",
       "398           0  LP002284  "
      ]
     },
     "execution_count": 157,
     "metadata": {},
     "output_type": "execute_result"
    }
   ],
   "source": [
    "Bnew.head()"
   ]
  },
  {
   "cell_type": "markdown",
   "id": "965e54cb",
   "metadata": {},
   "source": [
    "# Find Similar Loan_ID for a given input"
   ]
  },
  {
   "cell_type": "code",
   "execution_count": 158,
   "id": "5e387ce7",
   "metadata": {},
   "outputs": [
    {
     "name": "stdout",
     "output_type": "stream",
     "text": [
      "Enter the loan_ID: LP001002\n"
     ]
    }
   ],
   "source": [
    "w = input(\"Enter the loan_ID: \")\n",
    "cluster_no_of_input_loan_ID=Bnew[Bnew.Loan_ID == w].Cluster_no.values[0]\n",
    "similar_loan_ID_applicable_for_loan  = list(Bnew[(Bnew['Cluster_no'] == cluster_no_of_input_loan_ID) & (Bnew.Loan_ID != w)].Loan_ID.values)"
   ]
  },
  {
   "cell_type": "code",
   "execution_count": 159,
   "id": "e7fd2da7",
   "metadata": {},
   "outputs": [
    {
     "data": {
      "text/plain": [
       "['LP002296',\n",
       " 'LP002288',\n",
       " 'LP002287',\n",
       " 'LP002284',\n",
       " 'LP002281',\n",
       " 'LP002277',\n",
       " 'LP002272',\n",
       " 'LP002266',\n",
       " 'LP002265',\n",
       " 'LP002263',\n",
       " 'LP002250',\n",
       " 'LP002244',\n",
       " 'LP002243',\n",
       " 'LP002239',\n",
       " 'LP002237',\n",
       " 'LP002236',\n",
       " 'LP002234',\n",
       " 'LP002181',\n",
       " 'LP002187',\n",
       " 'LP002188',\n",
       " 'LP002190',\n",
       " 'LP002197',\n",
       " 'LP002205',\n",
       " 'LP002300',\n",
       " 'LP002209',\n",
       " 'LP002223',\n",
       " 'LP002224',\n",
       " 'LP002225',\n",
       " 'LP002226',\n",
       " 'LP002229',\n",
       " 'LP002231',\n",
       " 'LP002211',\n",
       " 'LP002180',\n",
       " 'LP002301',\n",
       " 'LP002308',\n",
       " 'LP002434',\n",
       " 'LP002429',\n",
       " 'LP002424',\n",
       " 'LP002418',\n",
       " 'LP002409',\n",
       " 'LP002408',\n",
       " 'LP002407',\n",
       " 'LP002401',\n",
       " 'LP002398',\n",
       " 'LP002390',\n",
       " 'LP002387',\n",
       " 'LP002379',\n",
       " 'LP002370',\n",
       " 'LP002369',\n",
       " 'LP002368',\n",
       " 'LP002367',\n",
       " 'LP002366',\n",
       " 'LP002314',\n",
       " 'LP002318',\n",
       " 'LP002319',\n",
       " 'LP002328',\n",
       " 'LP002332',\n",
       " 'LP002335',\n",
       " 'LP002305',\n",
       " 'LP002337',\n",
       " 'LP002345',\n",
       " 'LP002347',\n",
       " 'LP002348',\n",
       " 'LP002357',\n",
       " 'LP002361',\n",
       " 'LP002362',\n",
       " 'LP002341',\n",
       " 'LP002178',\n",
       " 'LP002175',\n",
       " 'LP002170',\n",
       " 'LP002036',\n",
       " 'LP002035',\n",
       " 'LP002031',\n",
       " 'LP002024',\n",
       " 'LP002008',\n",
       " 'LP002006',\n",
       " 'LP002004',\n",
       " 'LP002002',\n",
       " 'LP001998',\n",
       " 'LP001994',\n",
       " 'LP002984',\n",
       " 'LP001990',\n",
       " 'LP001978',\n",
       " 'LP001977',\n",
       " 'LP001974',\n",
       " 'LP001972',\n",
       " 'LP001964',\n",
       " 'LP001924',\n",
       " 'LP001925',\n",
       " 'LP001926',\n",
       " 'LP001931',\n",
       " 'LP001936',\n",
       " 'LP001938',\n",
       " 'LP002043',\n",
       " 'LP001940',\n",
       " 'LP001947',\n",
       " 'LP001949',\n",
       " 'LP001953',\n",
       " 'LP001954',\n",
       " 'LP001955',\n",
       " 'LP001963',\n",
       " 'LP001945',\n",
       " 'LP002051',\n",
       " 'LP002053',\n",
       " 'LP002054',\n",
       " 'LP002129',\n",
       " 'LP002130',\n",
       " 'LP002131',\n",
       " 'LP002137',\n",
       " 'LP002138',\n",
       " 'LP002141',\n",
       " 'LP002128',\n",
       " 'LP002142',\n",
       " 'LP002144',\n",
       " 'LP002149',\n",
       " 'LP002151',\n",
       " 'LP002158',\n",
       " 'LP002160',\n",
       " 'LP002161',\n",
       " 'LP002143',\n",
       " 'LP002435',\n",
       " 'LP002126',\n",
       " 'LP002116',\n",
       " 'LP002055',\n",
       " 'LP002068',\n",
       " 'LP002082',\n",
       " 'LP002086',\n",
       " 'LP002087',\n",
       " 'LP002097',\n",
       " 'LP002119',\n",
       " 'LP002098',\n",
       " 'LP002106',\n",
       " 'LP002110',\n",
       " 'LP002112',\n",
       " 'LP002113',\n",
       " 'LP002114',\n",
       " 'LP002115',\n",
       " 'LP002100',\n",
       " 'LP002443',\n",
       " 'LP002444',\n",
       " 'LP002446',\n",
       " 'LP002840',\n",
       " 'LP002837',\n",
       " 'LP002836',\n",
       " 'LP002833',\n",
       " 'LP002821',\n",
       " 'LP002820',\n",
       " 'LP002807',\n",
       " 'LP002804',\n",
       " 'LP002798',\n",
       " 'LP002794',\n",
       " 'LP002792',\n",
       " 'LP002789',\n",
       " 'LP002788',\n",
       " 'LP002785',\n",
       " 'LP002784',\n",
       " 'LP002778',\n",
       " 'LP002777',\n",
       " 'LP002732',\n",
       " 'LP002734',\n",
       " 'LP002738',\n",
       " 'LP002739',\n",
       " 'LP002740',\n",
       " 'LP002741',\n",
       " 'LP002841',\n",
       " 'LP002743',\n",
       " 'LP002755',\n",
       " 'LP002757',\n",
       " 'LP002767',\n",
       " 'LP002768',\n",
       " 'LP002772',\n",
       " 'LP002776',\n",
       " 'LP002753',\n",
       " 'LP002842',\n",
       " 'LP002847',\n",
       " 'LP002862',\n",
       " 'LP002940',\n",
       " 'LP002941',\n",
       " 'LP002943',\n",
       " 'LP002948',\n",
       " 'LP002950',\n",
       " 'LP002953',\n",
       " 'LP002936',\n",
       " 'LP002958',\n",
       " 'LP002961',\n",
       " 'LP002964',\n",
       " 'LP002974',\n",
       " 'LP002978',\n",
       " 'LP002979',\n",
       " 'LP002983',\n",
       " 'LP002960',\n",
       " 'LP002723',\n",
       " 'LP002931',\n",
       " 'LP002926',\n",
       " 'LP002863',\n",
       " 'LP002868',\n",
       " 'LP002872',\n",
       " 'LP002874',\n",
       " 'LP002877',\n",
       " 'LP002888',\n",
       " 'LP002928',\n",
       " 'LP002892',\n",
       " 'LP002898',\n",
       " 'LP002911',\n",
       " 'LP002912',\n",
       " 'LP002916',\n",
       " 'LP002917',\n",
       " 'LP002925',\n",
       " 'LP002894',\n",
       " 'LP001917',\n",
       " 'LP002720',\n",
       " 'LP002716',\n",
       " 'LP002555',\n",
       " 'LP002545',\n",
       " 'LP002544',\n",
       " 'LP002537',\n",
       " 'LP002536',\n",
       " 'LP002534',\n",
       " 'LP002533',\n",
       " 'LP002530',\n",
       " 'LP002529',\n",
       " 'LP002524',\n",
       " 'LP002522',\n",
       " 'LP002519',\n",
       " 'LP002517',\n",
       " 'LP002515',\n",
       " 'LP002505',\n",
       " 'LP002502',\n",
       " 'LP002500',\n",
       " 'LP002447',\n",
       " 'LP002448',\n",
       " 'LP002449',\n",
       " 'LP002453',\n",
       " 'LP002455',\n",
       " 'LP002459',\n",
       " 'LP002556',\n",
       " 'LP002467',\n",
       " 'LP002478',\n",
       " 'LP002484',\n",
       " 'LP002487',\n",
       " 'LP002489',\n",
       " 'LP002493',\n",
       " 'LP002494',\n",
       " 'LP002472',\n",
       " 'LP002560',\n",
       " 'LP002562',\n",
       " 'LP002571',\n",
       " 'LP002652',\n",
       " 'LP002659',\n",
       " 'LP002670',\n",
       " 'LP002682',\n",
       " 'LP002683',\n",
       " 'LP002684',\n",
       " 'LP002648',\n",
       " 'LP002689',\n",
       " 'LP002692',\n",
       " 'LP002693',\n",
       " 'LP002697',\n",
       " 'LP002705',\n",
       " 'LP002706',\n",
       " 'LP002714',\n",
       " 'LP002690',\n",
       " 'LP002717',\n",
       " 'LP002643',\n",
       " 'LP002637',\n",
       " 'LP002585',\n",
       " 'LP002586',\n",
       " 'LP002587',\n",
       " 'LP002588',\n",
       " 'LP002600',\n",
       " 'LP002602',\n",
       " 'LP002640',\n",
       " 'LP002603',\n",
       " 'LP002615',\n",
       " 'LP002618',\n",
       " 'LP002619',\n",
       " 'LP002622',\n",
       " 'LP002625',\n",
       " 'LP002626',\n",
       " 'LP002606',\n",
       " 'LP001915',\n",
       " 'LP001993',\n",
       " 'LP001910',\n",
       " 'LP001385',\n",
       " 'LP001384',\n",
       " 'LP001379',\n",
       " 'LP001370',\n",
       " 'LP001367',\n",
       " 'LP001357',\n",
       " 'LP001356',\n",
       " 'LP001349',\n",
       " 'LP001345',\n",
       " 'LP001343',\n",
       " 'LP001334',\n",
       " 'LP001333',\n",
       " 'LP001327',\n",
       " 'LP001326',\n",
       " 'LP001325',\n",
       " 'LP001322',\n",
       " 'LP001319',\n",
       " 'LP001259',\n",
       " 'LP001263',\n",
       " 'LP001264',\n",
       " 'LP001265',\n",
       " 'LP001266',\n",
       " 'LP001267',\n",
       " 'LP001387',\n",
       " 'LP001273',\n",
       " 'LP001279',\n",
       " 'LP001280',\n",
       " 'LP001282',\n",
       " 'LP001310',\n",
       " 'LP001316',\n",
       " 'LP001318',\n",
       " 'LP001275',\n",
       " 'LP001256',\n",
       " 'LP001391',\n",
       " 'LP001398',\n",
       " 'LP001541',\n",
       " 'LP001535',\n",
       " 'LP001532',\n",
       " 'LP001529',\n",
       " 'LP001528',\n",
       " 'LP001520',\n",
       " 'LP001518',\n",
       " 'LP001514',\n",
       " 'LP001507',\n",
       " 'LP001504',\n",
       " 'LP001914',\n",
       " 'LP001497',\n",
       " 'LP001493',\n",
       " 'LP001491',\n",
       " 'LP001489',\n",
       " 'LP001488',\n",
       " 'LP001487',\n",
       " 'LP001404',\n",
       " 'LP001405',\n",
       " 'LP001421',\n",
       " 'LP001426',\n",
       " 'LP001430',\n",
       " 'LP001431',\n",
       " 'LP001392',\n",
       " 'LP001432',\n",
       " 'LP001443',\n",
       " 'LP001449',\n",
       " 'LP001465',\n",
       " 'LP001473',\n",
       " 'LP001478',\n",
       " 'LP001482',\n",
       " 'LP001439',\n",
       " 'LP001255',\n",
       " 'LP001253',\n",
       " 'LP001250',\n",
       " 'LP001098',\n",
       " 'LP001097',\n",
       " 'LP001095',\n",
       " 'LP001091',\n",
       " 'LP001087',\n",
       " 'LP001086',\n",
       " 'LP001073',\n",
       " 'LP001068',\n",
       " 'LP001052',\n",
       " 'LP001050',\n",
       " 'LP001047',\n",
       " 'LP001046',\n",
       " 'LP001043',\n",
       " 'LP001041',\n",
       " 'LP001038',\n",
       " 'LP001036',\n",
       " 'LP001034',\n",
       " 'LP001003',\n",
       " 'LP001005',\n",
       " 'LP001006',\n",
       " 'LP001008',\n",
       " 'LP001011',\n",
       " 'LP001013',\n",
       " 'LP001106',\n",
       " 'LP001014',\n",
       " 'LP001024',\n",
       " 'LP001027',\n",
       " 'LP001028',\n",
       " 'LP001029',\n",
       " 'LP001030',\n",
       " 'LP001032',\n",
       " 'LP001018',\n",
       " 'LP001109',\n",
       " 'LP001112',\n",
       " 'LP001114',\n",
       " 'LP001198',\n",
       " 'LP001199',\n",
       " 'LP001205',\n",
       " 'LP001206',\n",
       " 'LP001207',\n",
       " 'LP001213',\n",
       " 'LP001197',\n",
       " 'LP001222',\n",
       " 'LP001228',\n",
       " 'LP001238',\n",
       " 'LP001241',\n",
       " 'LP001243',\n",
       " 'LP001245',\n",
       " 'LP001248',\n",
       " 'LP001225',\n",
       " 'LP001546',\n",
       " 'LP001195',\n",
       " 'LP001179',\n",
       " 'LP001116',\n",
       " 'LP001119',\n",
       " 'LP001120',\n",
       " 'LP001123',\n",
       " 'LP001131',\n",
       " 'LP001136',\n",
       " 'LP001194',\n",
       " 'LP001137',\n",
       " 'LP001144',\n",
       " 'LP001146',\n",
       " 'LP001151',\n",
       " 'LP001155',\n",
       " 'LP001157',\n",
       " 'LP001164',\n",
       " 'LP001138',\n",
       " 'LP001552',\n",
       " 'LP001498',\n",
       " 'LP001716',\n",
       " 'LP001749',\n",
       " 'LP001750',\n",
       " 'LP001751',\n",
       " 'LP001754',\n",
       " 'LP001758',\n",
       " 'LP001760',\n",
       " 'LP001744',\n",
       " 'LP001761',\n",
       " 'LP001768',\n",
       " 'LP001770',\n",
       " 'LP001778',\n",
       " 'LP001784',\n",
       " 'LP001786',\n",
       " 'LP001788',\n",
       " 'LP001765',\n",
       " 'LP001743',\n",
       " 'LP001736',\n",
       " 'LP001734',\n",
       " 'LP001688',\n",
       " 'LP001691',\n",
       " 'LP001692',\n",
       " 'LP001693',\n",
       " 'LP001698',\n",
       " 'LP001699',\n",
       " 'LP001702',\n",
       " 'LP001711',\n",
       " 'LP001713',\n",
       " 'LP001715',\n",
       " 'LP001560',\n",
       " 'LP001720',\n",
       " 'LP001722',\n",
       " 'LP001726',\n",
       " 'LP001732',\n",
       " 'LP001790',\n",
       " 'LP001682',\n",
       " 'LP001792',\n",
       " 'LP001800',\n",
       " 'LP001872',\n",
       " 'LP001875',\n",
       " 'LP001877',\n",
       " 'LP001882',\n",
       " 'LP001883',\n",
       " 'LP001884',\n",
       " 'LP001871',\n",
       " 'LP001888',\n",
       " 'LP001894',\n",
       " 'LP001896',\n",
       " 'LP001900',\n",
       " 'LP001903',\n",
       " 'LP001904',\n",
       " 'LP001908',\n",
       " 'LP001892',\n",
       " 'LP001870',\n",
       " 'LP001868',\n",
       " 'LP001865',\n",
       " 'LP001806',\n",
       " 'LP001807',\n",
       " 'LP001811',\n",
       " 'LP001813',\n",
       " 'LP001819',\n",
       " 'LP001824',\n",
       " 'LP001825',\n",
       " 'LP001835',\n",
       " 'LP001836',\n",
       " 'LP001841',\n",
       " 'LP001843',\n",
       " 'LP001846',\n",
       " 'LP001849',\n",
       " 'LP001854',\n",
       " 'LP001864',\n",
       " 'LP001798',\n",
       " 'LP001677',\n",
       " 'LP002990',\n",
       " 'LP001603',\n",
       " 'LP001616',\n",
       " 'LP001636',\n",
       " 'LP001653',\n",
       " 'LP001574',\n",
       " 'LP001644',\n",
       " 'LP001630',\n",
       " 'LP001577',\n",
       " 'LP001674',\n",
       " 'LP001581',\n",
       " 'LP001594',\n",
       " 'LP001643',\n",
       " 'LP001579',\n",
       " 'LP001633',\n",
       " 'LP001641',\n",
       " 'LP001639',\n",
       " 'LP001580',\n",
       " 'LP001578',\n",
       " 'LP001657',\n",
       " 'LP001586',\n",
       " 'LP001610',\n",
       " 'LP001562',\n",
       " 'LP001671',\n",
       " 'LP001606',\n",
       " 'LP001565',\n",
       " 'LP001608',\n",
       " 'LP001658',\n",
       " 'LP001669',\n",
       " 'LP001666',\n",
       " 'LP001570',\n",
       " 'LP001665',\n",
       " 'LP001664',\n",
       " 'LP001634']"
      ]
     },
     "execution_count": 159,
     "metadata": {},
     "output_type": "execute_result"
    }
   ],
   "source": [
    "similar_loan_ID_applicable_for_loan"
   ]
  },
  {
   "cell_type": "code",
   "execution_count": 163,
   "id": "7dd7fc73",
   "metadata": {},
   "outputs": [],
   "source": [
    "Cluster=Bnew[[\"Loan_ID\",\"Cluster_no\"]]"
   ]
  },
  {
   "cell_type": "code",
   "execution_count": 164,
   "id": "b2670e76",
   "metadata": {},
   "outputs": [
    {
     "data": {
      "text/html": [
       "<div>\n",
       "<style scoped>\n",
       "    .dataframe tbody tr th:only-of-type {\n",
       "        vertical-align: middle;\n",
       "    }\n",
       "\n",
       "    .dataframe tbody tr th {\n",
       "        vertical-align: top;\n",
       "    }\n",
       "\n",
       "    .dataframe thead th {\n",
       "        text-align: right;\n",
       "    }\n",
       "</style>\n",
       "<table border=\"1\" class=\"dataframe\">\n",
       "  <thead>\n",
       "    <tr style=\"text-align: right;\">\n",
       "      <th></th>\n",
       "      <th>Loan_ID</th>\n",
       "      <th>Cluster_no</th>\n",
       "    </tr>\n",
       "  </thead>\n",
       "  <tbody>\n",
       "    <tr>\n",
       "      <th>0</th>\n",
       "      <td>LP001002</td>\n",
       "      <td>0</td>\n",
       "    </tr>\n",
       "    <tr>\n",
       "      <th>401</th>\n",
       "      <td>LP002296</td>\n",
       "      <td>0</td>\n",
       "    </tr>\n",
       "    <tr>\n",
       "      <th>400</th>\n",
       "      <td>LP002288</td>\n",
       "      <td>0</td>\n",
       "    </tr>\n",
       "    <tr>\n",
       "      <th>399</th>\n",
       "      <td>LP002287</td>\n",
       "      <td>0</td>\n",
       "    </tr>\n",
       "    <tr>\n",
       "      <th>398</th>\n",
       "      <td>LP002284</td>\n",
       "      <td>0</td>\n",
       "    </tr>\n",
       "    <tr>\n",
       "      <th>...</th>\n",
       "      <td>...</td>\n",
       "      <td>...</td>\n",
       "    </tr>\n",
       "    <tr>\n",
       "      <th>372</th>\n",
       "      <td>LP002201</td>\n",
       "      <td>2</td>\n",
       "    </tr>\n",
       "    <tr>\n",
       "      <th>417</th>\n",
       "      <td>LP002342</td>\n",
       "      <td>3</td>\n",
       "    </tr>\n",
       "    <tr>\n",
       "      <th>581</th>\n",
       "      <td>LP002893</td>\n",
       "      <td>3</td>\n",
       "    </tr>\n",
       "    <tr>\n",
       "      <th>600</th>\n",
       "      <td>LP002949</td>\n",
       "      <td>3</td>\n",
       "    </tr>\n",
       "    <tr>\n",
       "      <th>402</th>\n",
       "      <td>LP002297</td>\n",
       "      <td>3</td>\n",
       "    </tr>\n",
       "  </tbody>\n",
       "</table>\n",
       "<p>614 rows × 2 columns</p>\n",
       "</div>"
      ],
      "text/plain": [
       "      Loan_ID  Cluster_no\n",
       "0    LP001002           0\n",
       "401  LP002296           0\n",
       "400  LP002288           0\n",
       "399  LP002287           0\n",
       "398  LP002284           0\n",
       "..        ...         ...\n",
       "372  LP002201           2\n",
       "417  LP002342           3\n",
       "581  LP002893           3\n",
       "600  LP002949           3\n",
       "402  LP002297           3\n",
       "\n",
       "[614 rows x 2 columns]"
      ]
     },
     "execution_count": 164,
     "metadata": {},
     "output_type": "execute_result"
    }
   ],
   "source": [
    "Cluster"
   ]
  },
  {
   "cell_type": "code",
   "execution_count": 165,
   "id": "9abc36b9",
   "metadata": {},
   "outputs": [],
   "source": [
    "Cluster.to_csv(\"C:/Users/admin/Downloads/Loan Project/Cluster_Results.csv\")"
   ]
  },
  {
   "cell_type": "markdown",
   "id": "703a77e5",
   "metadata": {},
   "source": [
    "# Regression Problem-3(a)"
   ]
  },
  {
   "cell_type": "code",
   "execution_count": 166,
   "id": "eaffb911",
   "metadata": {},
   "outputs": [],
   "source": [
    "A=pd.read_csv(\"C:/Users/admin/Downloads/training_set (3).csv\")\n",
    "T=pd.read_csv(\"C:/Users/admin/Downloads/testing_set (2).csv\")"
   ]
  },
  {
   "cell_type": "code",
   "execution_count": 167,
   "id": "d82a92f5",
   "metadata": {},
   "outputs": [
    {
     "data": {
      "text/html": [
       "<div>\n",
       "<style scoped>\n",
       "    .dataframe tbody tr th:only-of-type {\n",
       "        vertical-align: middle;\n",
       "    }\n",
       "\n",
       "    .dataframe tbody tr th {\n",
       "        vertical-align: top;\n",
       "    }\n",
       "\n",
       "    .dataframe thead th {\n",
       "        text-align: right;\n",
       "    }\n",
       "</style>\n",
       "<table border=\"1\" class=\"dataframe\">\n",
       "  <thead>\n",
       "    <tr style=\"text-align: right;\">\n",
       "      <th></th>\n",
       "      <th>Loan_ID</th>\n",
       "      <th>Gender</th>\n",
       "      <th>Married</th>\n",
       "      <th>Dependents</th>\n",
       "      <th>Education</th>\n",
       "      <th>Self_Employed</th>\n",
       "      <th>ApplicantIncome</th>\n",
       "      <th>CoapplicantIncome</th>\n",
       "      <th>LoanAmount</th>\n",
       "      <th>Loan_Amount_Term</th>\n",
       "      <th>Credit_History</th>\n",
       "      <th>Property_Area</th>\n",
       "      <th>Loan_Status</th>\n",
       "    </tr>\n",
       "  </thead>\n",
       "  <tbody>\n",
       "    <tr>\n",
       "      <th>0</th>\n",
       "      <td>LP001002</td>\n",
       "      <td>Male</td>\n",
       "      <td>No</td>\n",
       "      <td>0</td>\n",
       "      <td>Graduate</td>\n",
       "      <td>No</td>\n",
       "      <td>5849.0</td>\n",
       "      <td>0.0</td>\n",
       "      <td>NaN</td>\n",
       "      <td>360.0</td>\n",
       "      <td>1.0</td>\n",
       "      <td>Urban</td>\n",
       "      <td>Y</td>\n",
       "    </tr>\n",
       "    <tr>\n",
       "      <th>1</th>\n",
       "      <td>LP001003</td>\n",
       "      <td>Male</td>\n",
       "      <td>Yes</td>\n",
       "      <td>1</td>\n",
       "      <td>Graduate</td>\n",
       "      <td>No</td>\n",
       "      <td>NaN</td>\n",
       "      <td>1508.0</td>\n",
       "      <td>128.0</td>\n",
       "      <td>360.0</td>\n",
       "      <td>1.0</td>\n",
       "      <td>Rural</td>\n",
       "      <td>N</td>\n",
       "    </tr>\n",
       "    <tr>\n",
       "      <th>2</th>\n",
       "      <td>LP001005</td>\n",
       "      <td>Male</td>\n",
       "      <td>Yes</td>\n",
       "      <td>0</td>\n",
       "      <td>Graduate</td>\n",
       "      <td>Yes</td>\n",
       "      <td>3000.0</td>\n",
       "      <td>0.0</td>\n",
       "      <td>66.0</td>\n",
       "      <td>360.0</td>\n",
       "      <td>1.0</td>\n",
       "      <td>Urban</td>\n",
       "      <td>Y</td>\n",
       "    </tr>\n",
       "  </tbody>\n",
       "</table>\n",
       "</div>"
      ],
      "text/plain": [
       "    Loan_ID Gender Married Dependents Education Self_Employed  \\\n",
       "0  LP001002   Male      No          0  Graduate            No   \n",
       "1  LP001003   Male     Yes          1  Graduate            No   \n",
       "2  LP001005   Male     Yes          0  Graduate           Yes   \n",
       "\n",
       "   ApplicantIncome  CoapplicantIncome  LoanAmount  Loan_Amount_Term  \\\n",
       "0           5849.0                0.0         NaN             360.0   \n",
       "1              NaN             1508.0       128.0             360.0   \n",
       "2           3000.0                0.0        66.0             360.0   \n",
       "\n",
       "   Credit_History Property_Area Loan_Status  \n",
       "0             1.0         Urban           Y  \n",
       "1             1.0         Rural           N  \n",
       "2             1.0         Urban           Y  "
      ]
     },
     "execution_count": 167,
     "metadata": {},
     "output_type": "execute_result"
    }
   ],
   "source": [
    "A.head(3)"
   ]
  },
  {
   "cell_type": "code",
   "execution_count": 168,
   "id": "b2da1bc6",
   "metadata": {},
   "outputs": [],
   "source": [
    "A=A.drop(labels=[\"Loan_ID\"],axis=1)"
   ]
  },
  {
   "cell_type": "code",
   "execution_count": 169,
   "id": "1cf75758",
   "metadata": {},
   "outputs": [],
   "source": [
    "Tnew=T.drop(labels=[\"Loan_ID\"],axis=1)"
   ]
  },
  {
   "cell_type": "code",
   "execution_count": 170,
   "id": "5176e9e9",
   "metadata": {},
   "outputs": [],
   "source": [
    "replacer(A)"
   ]
  },
  {
   "cell_type": "code",
   "execution_count": 171,
   "id": "06107e9d",
   "metadata": {},
   "outputs": [],
   "source": [
    "replacer(Tnew)"
   ]
  },
  {
   "cell_type": "code",
   "execution_count": 172,
   "id": "dd4723b9",
   "metadata": {},
   "outputs": [
    {
     "data": {
      "text/plain": [
       "Gender               0\n",
       "Married              0\n",
       "Dependents           0\n",
       "Education            0\n",
       "Self_Employed        0\n",
       "ApplicantIncome      0\n",
       "CoapplicantIncome    0\n",
       "LoanAmount           0\n",
       "Loan_Amount_Term     0\n",
       "Credit_History       0\n",
       "Property_Area        0\n",
       "Loan_Status          0\n",
       "dtype: int64"
      ]
     },
     "execution_count": 172,
     "metadata": {},
     "output_type": "execute_result"
    }
   ],
   "source": [
    "A.isna().sum()"
   ]
  },
  {
   "cell_type": "code",
   "execution_count": 173,
   "id": "29466e12",
   "metadata": {},
   "outputs": [
    {
     "data": {
      "text/plain": [
       "Gender               0\n",
       "Married              0\n",
       "Dependents           0\n",
       "Education            0\n",
       "Self_Employed        0\n",
       "ApplicantIncome      0\n",
       "CoapplicantIncome    0\n",
       "LoanAmount           0\n",
       "Loan_Amount_Term     0\n",
       "Credit_History       0\n",
       "Property_Area        0\n",
       "dtype: int64"
      ]
     },
     "execution_count": 173,
     "metadata": {},
     "output_type": "execute_result"
    }
   ],
   "source": [
    "Tnew.isna().sum()"
   ]
  },
  {
   "cell_type": "markdown",
   "id": "a082336b",
   "metadata": {},
   "source": [
    "# Initial X and Y"
   ]
  },
  {
   "cell_type": "code",
   "execution_count": 174,
   "id": "822c8699",
   "metadata": {},
   "outputs": [],
   "source": [
    "Y=A[[\"LoanAmount\"]]"
   ]
  },
  {
   "cell_type": "code",
   "execution_count": 175,
   "id": "1d771a90",
   "metadata": {},
   "outputs": [],
   "source": [
    "X=A.drop(labels=[\"LoanAmount\"],axis=1)"
   ]
  },
  {
   "cell_type": "code",
   "execution_count": 176,
   "id": "5ca085f7",
   "metadata": {},
   "outputs": [
    {
     "data": {
      "text/html": [
       "<div>\n",
       "<style scoped>\n",
       "    .dataframe tbody tr th:only-of-type {\n",
       "        vertical-align: middle;\n",
       "    }\n",
       "\n",
       "    .dataframe tbody tr th {\n",
       "        vertical-align: top;\n",
       "    }\n",
       "\n",
       "    .dataframe thead th {\n",
       "        text-align: right;\n",
       "    }\n",
       "</style>\n",
       "<table border=\"1\" class=\"dataframe\">\n",
       "  <thead>\n",
       "    <tr style=\"text-align: right;\">\n",
       "      <th></th>\n",
       "      <th>Gender</th>\n",
       "      <th>Married</th>\n",
       "      <th>Dependents</th>\n",
       "      <th>Education</th>\n",
       "      <th>Self_Employed</th>\n",
       "      <th>ApplicantIncome</th>\n",
       "      <th>CoapplicantIncome</th>\n",
       "      <th>Loan_Amount_Term</th>\n",
       "      <th>Credit_History</th>\n",
       "      <th>Property_Area</th>\n",
       "      <th>Loan_Status</th>\n",
       "    </tr>\n",
       "  </thead>\n",
       "  <tbody>\n",
       "    <tr>\n",
       "      <th>0</th>\n",
       "      <td>Male</td>\n",
       "      <td>No</td>\n",
       "      <td>0</td>\n",
       "      <td>Graduate</td>\n",
       "      <td>No</td>\n",
       "      <td>5849.00000</td>\n",
       "      <td>0.0</td>\n",
       "      <td>360.0</td>\n",
       "      <td>1.0</td>\n",
       "      <td>Urban</td>\n",
       "      <td>Y</td>\n",
       "    </tr>\n",
       "    <tr>\n",
       "      <th>1</th>\n",
       "      <td>Male</td>\n",
       "      <td>Yes</td>\n",
       "      <td>1</td>\n",
       "      <td>Graduate</td>\n",
       "      <td>No</td>\n",
       "      <td>5405.54085</td>\n",
       "      <td>1508.0</td>\n",
       "      <td>360.0</td>\n",
       "      <td>1.0</td>\n",
       "      <td>Rural</td>\n",
       "      <td>N</td>\n",
       "    </tr>\n",
       "    <tr>\n",
       "      <th>2</th>\n",
       "      <td>Male</td>\n",
       "      <td>Yes</td>\n",
       "      <td>0</td>\n",
       "      <td>Graduate</td>\n",
       "      <td>Yes</td>\n",
       "      <td>3000.00000</td>\n",
       "      <td>0.0</td>\n",
       "      <td>360.0</td>\n",
       "      <td>1.0</td>\n",
       "      <td>Urban</td>\n",
       "      <td>Y</td>\n",
       "    </tr>\n",
       "  </tbody>\n",
       "</table>\n",
       "</div>"
      ],
      "text/plain": [
       "  Gender Married Dependents Education Self_Employed  ApplicantIncome  \\\n",
       "0   Male      No          0  Graduate            No       5849.00000   \n",
       "1   Male     Yes          1  Graduate            No       5405.54085   \n",
       "2   Male     Yes          0  Graduate           Yes       3000.00000   \n",
       "\n",
       "   CoapplicantIncome  Loan_Amount_Term  Credit_History Property_Area  \\\n",
       "0                0.0             360.0             1.0         Urban   \n",
       "1             1508.0             360.0             1.0         Rural   \n",
       "2                0.0             360.0             1.0         Urban   \n",
       "\n",
       "  Loan_Status  \n",
       "0           Y  \n",
       "1           N  \n",
       "2           Y  "
      ]
     },
     "execution_count": 176,
     "metadata": {},
     "output_type": "execute_result"
    }
   ],
   "source": [
    "X.head(3)"
   ]
  },
  {
   "cell_type": "code",
   "execution_count": 177,
   "id": "24ebec7e",
   "metadata": {},
   "outputs": [],
   "source": [
    "cat,con=catconsep(X)"
   ]
  },
  {
   "cell_type": "code",
   "execution_count": 178,
   "id": "5ea7134f",
   "metadata": {},
   "outputs": [
    {
     "data": {
      "text/plain": [
       "['Gender',\n",
       " 'Married',\n",
       " 'Dependents',\n",
       " 'Education',\n",
       " 'Self_Employed',\n",
       " 'Property_Area',\n",
       " 'Loan_Status']"
      ]
     },
     "execution_count": 178,
     "metadata": {},
     "output_type": "execute_result"
    }
   ],
   "source": [
    "cat"
   ]
  },
  {
   "cell_type": "code",
   "execution_count": 179,
   "id": "b0397a15",
   "metadata": {},
   "outputs": [
    {
     "data": {
      "text/plain": [
       "['ApplicantIncome', 'CoapplicantIncome', 'Loan_Amount_Term', 'Credit_History']"
      ]
     },
     "execution_count": 179,
     "metadata": {},
     "output_type": "execute_result"
    }
   ],
   "source": [
    "con"
   ]
  },
  {
   "cell_type": "markdown",
   "id": "23d19aeb",
   "metadata": {},
   "source": [
    "# Standardize the data"
   ]
  },
  {
   "cell_type": "code",
   "execution_count": 180,
   "id": "0ab9c57f",
   "metadata": {},
   "outputs": [],
   "source": [
    "from sklearn.preprocessing import StandardScaler\n",
    "ss = StandardScaler()\n",
    "X1 = pd.DataFrame(ss.fit_transform(X[con]),columns=con)"
   ]
  },
  {
   "cell_type": "code",
   "execution_count": 181,
   "id": "5ac6b9ca",
   "metadata": {},
   "outputs": [],
   "source": [
    "out=outliers(X1)"
   ]
  },
  {
   "cell_type": "code",
   "execution_count": 182,
   "id": "3922a40e",
   "metadata": {},
   "outputs": [
    {
     "data": {
      "text/plain": [
       "[9,\n",
       " 14,\n",
       " 68,\n",
       " 94,\n",
       " 126,\n",
       " 133,\n",
       " 155,\n",
       " 171,\n",
       " 177,\n",
       " 183,\n",
       " 185,\n",
       " 242,\n",
       " 262,\n",
       " 313,\n",
       " 333,\n",
       " 402,\n",
       " 409,\n",
       " 417,\n",
       " 443,\n",
       " 495,\n",
       " 497,\n",
       " 546,\n",
       " 575,\n",
       " 581,\n",
       " 585,\n",
       " 600]"
      ]
     },
     "execution_count": 182,
     "metadata": {},
     "output_type": "execute_result"
    }
   ],
   "source": [
    "out"
   ]
  },
  {
   "cell_type": "code",
   "execution_count": 183,
   "id": "eff93824",
   "metadata": {},
   "outputs": [],
   "source": [
    "X = X.drop(index=out,axis=0)\n",
    "Y = Y.drop(index=out,axis=0)"
   ]
  },
  {
   "cell_type": "code",
   "execution_count": 184,
   "id": "ab704e57",
   "metadata": {},
   "outputs": [
    {
     "data": {
      "text/plain": [
       "(588, 11)"
      ]
     },
     "execution_count": 184,
     "metadata": {},
     "output_type": "execute_result"
    }
   ],
   "source": [
    "X.shape"
   ]
  },
  {
   "cell_type": "code",
   "execution_count": 185,
   "id": "8192c253",
   "metadata": {},
   "outputs": [
    {
     "data": {
      "text/plain": [
       "(588, 1)"
      ]
     },
     "execution_count": 185,
     "metadata": {},
     "output_type": "execute_result"
    }
   ],
   "source": [
    "Y.shape"
   ]
  },
  {
   "cell_type": "code",
   "execution_count": 186,
   "id": "6c887eb1",
   "metadata": {},
   "outputs": [
    {
     "data": {
      "text/html": [
       "<div>\n",
       "<style scoped>\n",
       "    .dataframe tbody tr th:only-of-type {\n",
       "        vertical-align: middle;\n",
       "    }\n",
       "\n",
       "    .dataframe tbody tr th {\n",
       "        vertical-align: top;\n",
       "    }\n",
       "\n",
       "    .dataframe thead th {\n",
       "        text-align: right;\n",
       "    }\n",
       "</style>\n",
       "<table border=\"1\" class=\"dataframe\">\n",
       "  <thead>\n",
       "    <tr style=\"text-align: right;\">\n",
       "      <th></th>\n",
       "      <th>Gender</th>\n",
       "      <th>Married</th>\n",
       "      <th>Dependents</th>\n",
       "      <th>Education</th>\n",
       "      <th>Self_Employed</th>\n",
       "      <th>ApplicantIncome</th>\n",
       "      <th>CoapplicantIncome</th>\n",
       "      <th>Loan_Amount_Term</th>\n",
       "      <th>Credit_History</th>\n",
       "      <th>Property_Area</th>\n",
       "      <th>Loan_Status</th>\n",
       "    </tr>\n",
       "  </thead>\n",
       "  <tbody>\n",
       "    <tr>\n",
       "      <th>0</th>\n",
       "      <td>Male</td>\n",
       "      <td>No</td>\n",
       "      <td>0</td>\n",
       "      <td>Graduate</td>\n",
       "      <td>No</td>\n",
       "      <td>5849.00000</td>\n",
       "      <td>0.0</td>\n",
       "      <td>360.0</td>\n",
       "      <td>1.0</td>\n",
       "      <td>Urban</td>\n",
       "      <td>Y</td>\n",
       "    </tr>\n",
       "    <tr>\n",
       "      <th>1</th>\n",
       "      <td>Male</td>\n",
       "      <td>Yes</td>\n",
       "      <td>1</td>\n",
       "      <td>Graduate</td>\n",
       "      <td>No</td>\n",
       "      <td>5405.54085</td>\n",
       "      <td>1508.0</td>\n",
       "      <td>360.0</td>\n",
       "      <td>1.0</td>\n",
       "      <td>Rural</td>\n",
       "      <td>N</td>\n",
       "    </tr>\n",
       "    <tr>\n",
       "      <th>2</th>\n",
       "      <td>Male</td>\n",
       "      <td>Yes</td>\n",
       "      <td>0</td>\n",
       "      <td>Graduate</td>\n",
       "      <td>Yes</td>\n",
       "      <td>3000.00000</td>\n",
       "      <td>0.0</td>\n",
       "      <td>360.0</td>\n",
       "      <td>1.0</td>\n",
       "      <td>Urban</td>\n",
       "      <td>Y</td>\n",
       "    </tr>\n",
       "    <tr>\n",
       "      <th>3</th>\n",
       "      <td>Male</td>\n",
       "      <td>Yes</td>\n",
       "      <td>0</td>\n",
       "      <td>Not Graduate</td>\n",
       "      <td>No</td>\n",
       "      <td>2583.00000</td>\n",
       "      <td>2358.0</td>\n",
       "      <td>360.0</td>\n",
       "      <td>1.0</td>\n",
       "      <td>Urban</td>\n",
       "      <td>Y</td>\n",
       "    </tr>\n",
       "    <tr>\n",
       "      <th>4</th>\n",
       "      <td>Male</td>\n",
       "      <td>No</td>\n",
       "      <td>0</td>\n",
       "      <td>Graduate</td>\n",
       "      <td>No</td>\n",
       "      <td>6000.00000</td>\n",
       "      <td>0.0</td>\n",
       "      <td>360.0</td>\n",
       "      <td>1.0</td>\n",
       "      <td>Urban</td>\n",
       "      <td>Y</td>\n",
       "    </tr>\n",
       "    <tr>\n",
       "      <th>5</th>\n",
       "      <td>Male</td>\n",
       "      <td>Yes</td>\n",
       "      <td>2</td>\n",
       "      <td>Graduate</td>\n",
       "      <td>Yes</td>\n",
       "      <td>5417.00000</td>\n",
       "      <td>4196.0</td>\n",
       "      <td>360.0</td>\n",
       "      <td>1.0</td>\n",
       "      <td>Urban</td>\n",
       "      <td>Y</td>\n",
       "    </tr>\n",
       "    <tr>\n",
       "      <th>6</th>\n",
       "      <td>Male</td>\n",
       "      <td>Yes</td>\n",
       "      <td>0</td>\n",
       "      <td>Not Graduate</td>\n",
       "      <td>No</td>\n",
       "      <td>2333.00000</td>\n",
       "      <td>1516.0</td>\n",
       "      <td>360.0</td>\n",
       "      <td>1.0</td>\n",
       "      <td>Urban</td>\n",
       "      <td>Y</td>\n",
       "    </tr>\n",
       "    <tr>\n",
       "      <th>7</th>\n",
       "      <td>Male</td>\n",
       "      <td>Yes</td>\n",
       "      <td>3+</td>\n",
       "      <td>Graduate</td>\n",
       "      <td>No</td>\n",
       "      <td>3036.00000</td>\n",
       "      <td>2504.0</td>\n",
       "      <td>360.0</td>\n",
       "      <td>0.0</td>\n",
       "      <td>Semiurban</td>\n",
       "      <td>N</td>\n",
       "    </tr>\n",
       "    <tr>\n",
       "      <th>8</th>\n",
       "      <td>Male</td>\n",
       "      <td>Yes</td>\n",
       "      <td>2</td>\n",
       "      <td>Graduate</td>\n",
       "      <td>No</td>\n",
       "      <td>4006.00000</td>\n",
       "      <td>1526.0</td>\n",
       "      <td>360.0</td>\n",
       "      <td>1.0</td>\n",
       "      <td>Urban</td>\n",
       "      <td>Y</td>\n",
       "    </tr>\n",
       "    <tr>\n",
       "      <th>10</th>\n",
       "      <td>Male</td>\n",
       "      <td>Yes</td>\n",
       "      <td>2</td>\n",
       "      <td>Graduate</td>\n",
       "      <td>No</td>\n",
       "      <td>3200.00000</td>\n",
       "      <td>700.0</td>\n",
       "      <td>360.0</td>\n",
       "      <td>1.0</td>\n",
       "      <td>Urban</td>\n",
       "      <td>Y</td>\n",
       "    </tr>\n",
       "  </tbody>\n",
       "</table>\n",
       "</div>"
      ],
      "text/plain": [
       "   Gender Married Dependents     Education Self_Employed  ApplicantIncome  \\\n",
       "0    Male      No          0      Graduate            No       5849.00000   \n",
       "1    Male     Yes          1      Graduate            No       5405.54085   \n",
       "2    Male     Yes          0      Graduate           Yes       3000.00000   \n",
       "3    Male     Yes          0  Not Graduate            No       2583.00000   \n",
       "4    Male      No          0      Graduate            No       6000.00000   \n",
       "5    Male     Yes          2      Graduate           Yes       5417.00000   \n",
       "6    Male     Yes          0  Not Graduate            No       2333.00000   \n",
       "7    Male     Yes         3+      Graduate            No       3036.00000   \n",
       "8    Male     Yes          2      Graduate            No       4006.00000   \n",
       "10   Male     Yes          2      Graduate            No       3200.00000   \n",
       "\n",
       "    CoapplicantIncome  Loan_Amount_Term  Credit_History Property_Area  \\\n",
       "0                 0.0             360.0             1.0         Urban   \n",
       "1              1508.0             360.0             1.0         Rural   \n",
       "2                 0.0             360.0             1.0         Urban   \n",
       "3              2358.0             360.0             1.0         Urban   \n",
       "4                 0.0             360.0             1.0         Urban   \n",
       "5              4196.0             360.0             1.0         Urban   \n",
       "6              1516.0             360.0             1.0         Urban   \n",
       "7              2504.0             360.0             0.0     Semiurban   \n",
       "8              1526.0             360.0             1.0         Urban   \n",
       "10              700.0             360.0             1.0         Urban   \n",
       "\n",
       "   Loan_Status  \n",
       "0            Y  \n",
       "1            N  \n",
       "2            Y  \n",
       "3            Y  \n",
       "4            Y  \n",
       "5            Y  \n",
       "6            Y  \n",
       "7            N  \n",
       "8            Y  \n",
       "10           Y  "
      ]
     },
     "execution_count": 186,
     "metadata": {},
     "output_type": "execute_result"
    }
   ],
   "source": [
    "X.head(10)"
   ]
  },
  {
   "cell_type": "code",
   "execution_count": 187,
   "id": "06b07c03",
   "metadata": {},
   "outputs": [],
   "source": [
    "X.index = range(0,588,1)"
   ]
  },
  {
   "cell_type": "code",
   "execution_count": 188,
   "id": "3cda8b52",
   "metadata": {},
   "outputs": [],
   "source": [
    "Y.index = range(0,588,1)"
   ]
  },
  {
   "cell_type": "markdown",
   "id": "2516fed1",
   "metadata": {},
   "source": [
    "# EDA"
   ]
  },
  {
   "cell_type": "code",
   "execution_count": 190,
   "id": "d8d3fafc",
   "metadata": {},
   "outputs": [
    {
     "name": "stdout",
     "output_type": "stream",
     "text": [
      "LoanAmount ~ Gender --->   0.0074\n",
      "LoanAmount ~ Married --->   0.0003\n",
      "LoanAmount ~ Dependents --->   0.0001\n",
      "LoanAmount ~ Education --->   0.0\n",
      "LoanAmount ~ Self_Employed --->   0.0042\n",
      "LoanAmount ~ Property_Area --->   0.5255\n",
      "LoanAmount ~ Loan_Status --->   0.3677\n"
     ]
    }
   ],
   "source": [
    "for i in cat:\n",
    "    import pandas as pd\n",
    "    from statsmodels.formula.api import ols\n",
    "    rel = \"LoanAmount ~ \" + str(i)\n",
    "    from statsmodels.stats.anova import anova_lm\n",
    "    from statsmodels.formula.api import ols\n",
    "    model = ols(rel,A).fit()\n",
    "    W= anova_lm(model)\n",
    "    round(W.iloc[0,4],4)\n",
    "    print(rel,\"--->  \",round(W.iloc[0,4],4))"
   ]
  },
  {
   "cell_type": "code",
   "execution_count": 191,
   "id": "5f0847be",
   "metadata": {},
   "outputs": [],
   "source": [
    "#Removing those columns having higher pvalues>0.05\n",
    "cat.remove(\"Property_Area\")\n",
    "cat.remove(\"Loan_Status\")"
   ]
  },
  {
   "cell_type": "code",
   "execution_count": 192,
   "id": "f0a463bf",
   "metadata": {},
   "outputs": [
    {
     "data": {
      "text/plain": [
       "['Gender', 'Married', 'Dependents', 'Education', 'Self_Employed']"
      ]
     },
     "execution_count": 192,
     "metadata": {},
     "output_type": "execute_result"
    }
   ],
   "source": [
    "cat"
   ]
  },
  {
   "cell_type": "code",
   "execution_count": 193,
   "id": "d295d394",
   "metadata": {},
   "outputs": [
    {
     "data": {
      "text/plain": [
       "Credit_History      -0.007738\n",
       "Loan_Amount_Term     0.038801\n",
       "CoapplicantIncome    0.187884\n",
       "ApplicantIncome      0.565552\n",
       "LoanAmount           1.000000\n",
       "Name: LoanAmount, dtype: float64"
      ]
     },
     "execution_count": 193,
     "metadata": {},
     "output_type": "execute_result"
    }
   ],
   "source": [
    "A.corr()[\"LoanAmount\"].sort_values()"
   ]
  },
  {
   "cell_type": "code",
   "execution_count": 194,
   "id": "086511df",
   "metadata": {},
   "outputs": [],
   "source": [
    "#Dropping the column based on correlation having less than\n",
    "A= A.drop(labels=['Credit_History'],axis=1)"
   ]
  },
  {
   "cell_type": "code",
   "execution_count": 195,
   "id": "6baf7b05",
   "metadata": {},
   "outputs": [
    {
     "data": {
      "text/html": [
       "<div>\n",
       "<style scoped>\n",
       "    .dataframe tbody tr th:only-of-type {\n",
       "        vertical-align: middle;\n",
       "    }\n",
       "\n",
       "    .dataframe tbody tr th {\n",
       "        vertical-align: top;\n",
       "    }\n",
       "\n",
       "    .dataframe thead th {\n",
       "        text-align: right;\n",
       "    }\n",
       "</style>\n",
       "<table border=\"1\" class=\"dataframe\">\n",
       "  <thead>\n",
       "    <tr style=\"text-align: right;\">\n",
       "      <th></th>\n",
       "      <th>Gender</th>\n",
       "      <th>Married</th>\n",
       "      <th>Dependents</th>\n",
       "      <th>Education</th>\n",
       "      <th>Self_Employed</th>\n",
       "      <th>ApplicantIncome</th>\n",
       "      <th>CoapplicantIncome</th>\n",
       "      <th>LoanAmount</th>\n",
       "      <th>Loan_Amount_Term</th>\n",
       "      <th>Property_Area</th>\n",
       "      <th>Loan_Status</th>\n",
       "    </tr>\n",
       "  </thead>\n",
       "  <tbody>\n",
       "    <tr>\n",
       "      <th>0</th>\n",
       "      <td>Male</td>\n",
       "      <td>No</td>\n",
       "      <td>0</td>\n",
       "      <td>Graduate</td>\n",
       "      <td>No</td>\n",
       "      <td>5849.00000</td>\n",
       "      <td>0.0</td>\n",
       "      <td>146.412162</td>\n",
       "      <td>360.0</td>\n",
       "      <td>Urban</td>\n",
       "      <td>Y</td>\n",
       "    </tr>\n",
       "    <tr>\n",
       "      <th>1</th>\n",
       "      <td>Male</td>\n",
       "      <td>Yes</td>\n",
       "      <td>1</td>\n",
       "      <td>Graduate</td>\n",
       "      <td>No</td>\n",
       "      <td>5405.54085</td>\n",
       "      <td>1508.0</td>\n",
       "      <td>128.000000</td>\n",
       "      <td>360.0</td>\n",
       "      <td>Rural</td>\n",
       "      <td>N</td>\n",
       "    </tr>\n",
       "    <tr>\n",
       "      <th>2</th>\n",
       "      <td>Male</td>\n",
       "      <td>Yes</td>\n",
       "      <td>0</td>\n",
       "      <td>Graduate</td>\n",
       "      <td>Yes</td>\n",
       "      <td>3000.00000</td>\n",
       "      <td>0.0</td>\n",
       "      <td>66.000000</td>\n",
       "      <td>360.0</td>\n",
       "      <td>Urban</td>\n",
       "      <td>Y</td>\n",
       "    </tr>\n",
       "  </tbody>\n",
       "</table>\n",
       "</div>"
      ],
      "text/plain": [
       "  Gender Married Dependents Education Self_Employed  ApplicantIncome  \\\n",
       "0   Male      No          0  Graduate            No       5849.00000   \n",
       "1   Male     Yes          1  Graduate            No       5405.54085   \n",
       "2   Male     Yes          0  Graduate           Yes       3000.00000   \n",
       "\n",
       "   CoapplicantIncome  LoanAmount  Loan_Amount_Term Property_Area Loan_Status  \n",
       "0                0.0  146.412162             360.0         Urban           Y  \n",
       "1             1508.0  128.000000             360.0         Rural           N  \n",
       "2                0.0   66.000000             360.0         Urban           Y  "
      ]
     },
     "execution_count": 195,
     "metadata": {},
     "output_type": "execute_result"
    }
   ],
   "source": [
    "A.head(3)"
   ]
  },
  {
   "cell_type": "markdown",
   "id": "e19d66c6",
   "metadata": {},
   "source": [
    "# One Hot Coding of data"
   ]
  },
  {
   "cell_type": "code",
   "execution_count": 196,
   "id": "41a4776f",
   "metadata": {},
   "outputs": [],
   "source": [
    "X1 = pd.DataFrame(ss.fit_transform(X[con]),columns=con)\n",
    "X2 = pd.get_dummies(X[cat])\n",
    "Xnew = X1.join(X2)"
   ]
  },
  {
   "cell_type": "code",
   "execution_count": 197,
   "id": "8ed40c9e",
   "metadata": {},
   "outputs": [
    {
     "data": {
      "text/html": [
       "<div>\n",
       "<style scoped>\n",
       "    .dataframe tbody tr th:only-of-type {\n",
       "        vertical-align: middle;\n",
       "    }\n",
       "\n",
       "    .dataframe tbody tr th {\n",
       "        vertical-align: top;\n",
       "    }\n",
       "\n",
       "    .dataframe thead th {\n",
       "        text-align: right;\n",
       "    }\n",
       "</style>\n",
       "<table border=\"1\" class=\"dataframe\">\n",
       "  <thead>\n",
       "    <tr style=\"text-align: right;\">\n",
       "      <th></th>\n",
       "      <th>LoanAmount</th>\n",
       "    </tr>\n",
       "  </thead>\n",
       "  <tbody>\n",
       "    <tr>\n",
       "      <th>0</th>\n",
       "      <td>146.412162</td>\n",
       "    </tr>\n",
       "    <tr>\n",
       "      <th>1</th>\n",
       "      <td>128.000000</td>\n",
       "    </tr>\n",
       "    <tr>\n",
       "      <th>2</th>\n",
       "      <td>66.000000</td>\n",
       "    </tr>\n",
       "    <tr>\n",
       "      <th>3</th>\n",
       "      <td>120.000000</td>\n",
       "    </tr>\n",
       "    <tr>\n",
       "      <th>4</th>\n",
       "      <td>141.000000</td>\n",
       "    </tr>\n",
       "  </tbody>\n",
       "</table>\n",
       "</div>"
      ],
      "text/plain": [
       "   LoanAmount\n",
       "0  146.412162\n",
       "1  128.000000\n",
       "2   66.000000\n",
       "3  120.000000\n",
       "4  141.000000"
      ]
     },
     "execution_count": 197,
     "metadata": {},
     "output_type": "execute_result"
    }
   ],
   "source": [
    "Y.head()"
   ]
  },
  {
   "cell_type": "markdown",
   "id": "469c42d8",
   "metadata": {},
   "source": [
    "# Split Data"
   ]
  },
  {
   "cell_type": "code",
   "execution_count": 198,
   "id": "318f89d4",
   "metadata": {},
   "outputs": [],
   "source": [
    "from sklearn.model_selection import train_test_split\n",
    "xtrain,xtest,ytrain,ytest=train_test_split(Xnew,Y,test_size=0.2,random_state=21)"
   ]
  },
  {
   "cell_type": "markdown",
   "id": "1ff9ad1f",
   "metadata": {},
   "source": [
    "# Create Backward Elimination OLS Model"
   ]
  },
  {
   "cell_type": "code",
   "execution_count": 200,
   "id": "52c36a34",
   "metadata": {},
   "outputs": [
    {
     "data": {
      "text/html": [
       "<table class=\"simpletable\">\n",
       "<caption>OLS Regression Results</caption>\n",
       "<tr>\n",
       "  <th>Dep. Variable:</th>       <td>LoanAmount</td>    <th>  R-squared:         </th> <td>   0.530</td>\n",
       "</tr>\n",
       "<tr>\n",
       "  <th>Model:</th>                   <td>OLS</td>       <th>  Adj. R-squared:    </th> <td>   0.518</td>\n",
       "</tr>\n",
       "<tr>\n",
       "  <th>Method:</th>             <td>Least Squares</td>  <th>  F-statistic:       </th> <td>   46.88</td>\n",
       "</tr>\n",
       "<tr>\n",
       "  <th>Date:</th>             <td>Sat, 19 Nov 2022</td> <th>  Prob (F-statistic):</th> <td>4.76e-68</td>\n",
       "</tr>\n",
       "<tr>\n",
       "  <th>Time:</th>                 <td>19:45:38</td>     <th>  Log-Likelihood:    </th> <td> -2549.1</td>\n",
       "</tr>\n",
       "<tr>\n",
       "  <th>No. Observations:</th>      <td>   470</td>      <th>  AIC:               </th> <td>   5122.</td>\n",
       "</tr>\n",
       "<tr>\n",
       "  <th>Df Residuals:</th>          <td>   458</td>      <th>  BIC:               </th> <td>   5172.</td>\n",
       "</tr>\n",
       "<tr>\n",
       "  <th>Df Model:</th>              <td>    11</td>      <th>                     </th>     <td> </td>   \n",
       "</tr>\n",
       "<tr>\n",
       "  <th>Covariance Type:</th>      <td>nonrobust</td>    <th>                     </th>     <td> </td>   \n",
       "</tr>\n",
       "</table>\n",
       "<table class=\"simpletable\">\n",
       "<tr>\n",
       "             <td></td>               <th>coef</th>     <th>std err</th>      <th>t</th>      <th>P>|t|</th>  <th>[0.025</th>    <th>0.975]</th>  \n",
       "</tr>\n",
       "<tr>\n",
       "  <th>const</th>                  <td> 4.739e+13</td> <td> 8.14e+14</td> <td>    0.058</td> <td> 0.954</td> <td>-1.55e+15</td> <td> 1.65e+15</td>\n",
       "</tr>\n",
       "<tr>\n",
       "  <th>ApplicantIncome</th>        <td>   52.4161</td> <td>    2.658</td> <td>   19.722</td> <td> 0.000</td> <td>   47.193</td> <td>   57.639</td>\n",
       "</tr>\n",
       "<tr>\n",
       "  <th>CoapplicantIncome</th>      <td>   26.2039</td> <td>    2.651</td> <td>    9.883</td> <td> 0.000</td> <td>   20.993</td> <td>   31.414</td>\n",
       "</tr>\n",
       "<tr>\n",
       "  <th>Loan_Amount_Term</th>       <td>    9.1249</td> <td>    2.540</td> <td>    3.593</td> <td> 0.000</td> <td>    4.134</td> <td>   14.115</td>\n",
       "</tr>\n",
       "<tr>\n",
       "  <th>Credit_History</th>         <td>    0.1626</td> <td>    2.597</td> <td>    0.063</td> <td> 0.950</td> <td>   -4.942</td> <td>    5.267</td>\n",
       "</tr>\n",
       "<tr>\n",
       "  <th>Gender_Female</th>          <td>-4.149e+12</td> <td> 7.13e+13</td> <td>   -0.058</td> <td> 0.954</td> <td>-1.44e+14</td> <td> 1.36e+14</td>\n",
       "</tr>\n",
       "<tr>\n",
       "  <th>Gender_Male</th>            <td>-4.149e+12</td> <td> 7.13e+13</td> <td>   -0.058</td> <td> 0.954</td> <td>-1.44e+14</td> <td> 1.36e+14</td>\n",
       "</tr>\n",
       "<tr>\n",
       "  <th>Married_No</th>             <td>-9.319e+12</td> <td>  1.6e+14</td> <td>   -0.058</td> <td> 0.954</td> <td>-3.24e+14</td> <td> 3.05e+14</td>\n",
       "</tr>\n",
       "<tr>\n",
       "  <th>Married_Yes</th>            <td>-9.319e+12</td> <td>  1.6e+14</td> <td>   -0.058</td> <td> 0.954</td> <td>-3.24e+14</td> <td> 3.05e+14</td>\n",
       "</tr>\n",
       "<tr>\n",
       "  <th>Dependents_0</th>           <td> 2.721e+11</td> <td> 4.67e+12</td> <td>    0.058</td> <td> 0.954</td> <td>-8.91e+12</td> <td> 9.46e+12</td>\n",
       "</tr>\n",
       "<tr>\n",
       "  <th>Dependents_1</th>           <td> 2.721e+11</td> <td> 4.67e+12</td> <td>    0.058</td> <td> 0.954</td> <td>-8.91e+12</td> <td> 9.46e+12</td>\n",
       "</tr>\n",
       "<tr>\n",
       "  <th>Dependents_2</th>           <td> 2.721e+11</td> <td> 4.67e+12</td> <td>    0.058</td> <td> 0.954</td> <td>-8.91e+12</td> <td> 9.46e+12</td>\n",
       "</tr>\n",
       "<tr>\n",
       "  <th>Dependents_3+</th>          <td> 2.721e+11</td> <td> 4.67e+12</td> <td>    0.058</td> <td> 0.954</td> <td>-8.91e+12</td> <td> 9.46e+12</td>\n",
       "</tr>\n",
       "<tr>\n",
       "  <th>Education_Graduate</th>     <td>-1.644e+13</td> <td> 2.82e+14</td> <td>   -0.058</td> <td> 0.954</td> <td>-5.71e+14</td> <td> 5.38e+14</td>\n",
       "</tr>\n",
       "<tr>\n",
       "  <th>Education_Not Graduate</th> <td>-1.644e+13</td> <td> 2.82e+14</td> <td>   -0.058</td> <td> 0.954</td> <td>-5.71e+14</td> <td> 5.38e+14</td>\n",
       "</tr>\n",
       "<tr>\n",
       "  <th>Self_Employed_No</th>       <td>-1.776e+13</td> <td> 3.05e+14</td> <td>   -0.058</td> <td> 0.954</td> <td>-6.17e+14</td> <td> 5.82e+14</td>\n",
       "</tr>\n",
       "<tr>\n",
       "  <th>Self_Employed_Yes</th>      <td>-1.776e+13</td> <td> 3.05e+14</td> <td>   -0.058</td> <td> 0.954</td> <td>-6.17e+14</td> <td> 5.82e+14</td>\n",
       "</tr>\n",
       "</table>\n",
       "<table class=\"simpletable\">\n",
       "<tr>\n",
       "  <th>Omnibus:</th>       <td>70.477</td> <th>  Durbin-Watson:     </th> <td>   2.035</td> \n",
       "</tr>\n",
       "<tr>\n",
       "  <th>Prob(Omnibus):</th> <td> 0.000</td> <th>  Jarque-Bera (JB):  </th> <td> 758.647</td> \n",
       "</tr>\n",
       "<tr>\n",
       "  <th>Skew:</th>          <td> 0.090</td> <th>  Prob(JB):          </th> <td>1.83e-165</td>\n",
       "</tr>\n",
       "<tr>\n",
       "  <th>Kurtosis:</th>      <td> 9.221</td> <th>  Cond. No.          </th> <td>1.81e+16</td> \n",
       "</tr>\n",
       "</table><br/><br/>Notes:<br/>[1] Standard Errors assume that the covariance matrix of the errors is correctly specified.<br/>[2] The smallest eigenvalue is 5.96e-30. This might indicate that there are<br/>strong multicollinearity problems or that the design matrix is singular."
      ],
      "text/plain": [
       "<class 'statsmodels.iolib.summary.Summary'>\n",
       "\"\"\"\n",
       "                            OLS Regression Results                            \n",
       "==============================================================================\n",
       "Dep. Variable:             LoanAmount   R-squared:                       0.530\n",
       "Model:                            OLS   Adj. R-squared:                  0.518\n",
       "Method:                 Least Squares   F-statistic:                     46.88\n",
       "Date:                Sat, 19 Nov 2022   Prob (F-statistic):           4.76e-68\n",
       "Time:                        19:45:38   Log-Likelihood:                -2549.1\n",
       "No. Observations:                 470   AIC:                             5122.\n",
       "Df Residuals:                     458   BIC:                             5172.\n",
       "Df Model:                          11                                         \n",
       "Covariance Type:            nonrobust                                         \n",
       "==========================================================================================\n",
       "                             coef    std err          t      P>|t|      [0.025      0.975]\n",
       "------------------------------------------------------------------------------------------\n",
       "const                   4.739e+13   8.14e+14      0.058      0.954   -1.55e+15    1.65e+15\n",
       "ApplicantIncome           52.4161      2.658     19.722      0.000      47.193      57.639\n",
       "CoapplicantIncome         26.2039      2.651      9.883      0.000      20.993      31.414\n",
       "Loan_Amount_Term           9.1249      2.540      3.593      0.000       4.134      14.115\n",
       "Credit_History             0.1626      2.597      0.063      0.950      -4.942       5.267\n",
       "Gender_Female          -4.149e+12   7.13e+13     -0.058      0.954   -1.44e+14    1.36e+14\n",
       "Gender_Male            -4.149e+12   7.13e+13     -0.058      0.954   -1.44e+14    1.36e+14\n",
       "Married_No             -9.319e+12    1.6e+14     -0.058      0.954   -3.24e+14    3.05e+14\n",
       "Married_Yes            -9.319e+12    1.6e+14     -0.058      0.954   -3.24e+14    3.05e+14\n",
       "Dependents_0            2.721e+11   4.67e+12      0.058      0.954   -8.91e+12    9.46e+12\n",
       "Dependents_1            2.721e+11   4.67e+12      0.058      0.954   -8.91e+12    9.46e+12\n",
       "Dependents_2            2.721e+11   4.67e+12      0.058      0.954   -8.91e+12    9.46e+12\n",
       "Dependents_3+           2.721e+11   4.67e+12      0.058      0.954   -8.91e+12    9.46e+12\n",
       "Education_Graduate     -1.644e+13   2.82e+14     -0.058      0.954   -5.71e+14    5.38e+14\n",
       "Education_Not Graduate -1.644e+13   2.82e+14     -0.058      0.954   -5.71e+14    5.38e+14\n",
       "Self_Employed_No       -1.776e+13   3.05e+14     -0.058      0.954   -6.17e+14    5.82e+14\n",
       "Self_Employed_Yes      -1.776e+13   3.05e+14     -0.058      0.954   -6.17e+14    5.82e+14\n",
       "==============================================================================\n",
       "Omnibus:                       70.477   Durbin-Watson:                   2.035\n",
       "Prob(Omnibus):                  0.000   Jarque-Bera (JB):              758.647\n",
       "Skew:                           0.090   Prob(JB):                    1.83e-165\n",
       "Kurtosis:                       9.221   Cond. No.                     1.81e+16\n",
       "==============================================================================\n",
       "\n",
       "Notes:\n",
       "[1] Standard Errors assume that the covariance matrix of the errors is correctly specified.\n",
       "[2] The smallest eigenvalue is 5.96e-30. This might indicate that there are\n",
       "strong multicollinearity problems or that the design matrix is singular.\n",
       "\"\"\""
      ]
     },
     "execution_count": 200,
     "metadata": {},
     "output_type": "execute_result"
    }
   ],
   "source": [
    "from statsmodels.api import OLS,add_constant\n",
    "xconst = add_constant(xtrain,has_constant=\"add\")\n",
    "ols = OLS(ytrain,xconst)\n",
    "model = ols.fit()\n",
    "model.summary()"
   ]
  },
  {
   "cell_type": "code",
   "execution_count": 201,
   "id": "edd50a86",
   "metadata": {},
   "outputs": [
    {
     "data": {
      "text/plain": [
       "0.51833"
      ]
     },
     "execution_count": 201,
     "metadata": {},
     "output_type": "execute_result"
    }
   ],
   "source": [
    "round(model.rsquared_adj,5)"
   ]
  },
  {
   "cell_type": "code",
   "execution_count": 202,
   "id": "c7830fe4",
   "metadata": {},
   "outputs": [
    {
     "data": {
      "text/plain": [
       "Index(['ApplicantIncome', 'CoapplicantIncome', 'Loan_Amount_Term',\n",
       "       'Credit_History', 'Dependents_3+', 'Dependents_1', 'Dependents_2',\n",
       "       'Dependents_0', 'const', 'Self_Employed_Yes', 'Self_Employed_No',\n",
       "       'Education_Not Graduate', 'Education_Graduate', 'Married_No',\n",
       "       'Married_Yes', 'Gender_Female', 'Gender_Male'],\n",
       "      dtype='object')"
      ]
     },
     "execution_count": 202,
     "metadata": {},
     "output_type": "execute_result"
    }
   ],
   "source": [
    "model.pvalues.sort_values().index"
   ]
  },
  {
   "cell_type": "markdown",
   "id": "ee3734cb",
   "metadata": {},
   "source": [
    "# Model 2"
   ]
  },
  {
   "cell_type": "code",
   "execution_count": 204,
   "id": "0be34ed4",
   "metadata": {},
   "outputs": [
    {
     "data": {
      "text/plain": [
       "'Gender_Male'"
      ]
     },
     "execution_count": 204,
     "metadata": {},
     "output_type": "execute_result"
    }
   ],
   "source": [
    "model.pvalues.sort_values().index[-1]"
   ]
  },
  {
   "cell_type": "code",
   "execution_count": 205,
   "id": "f81582ca",
   "metadata": {},
   "outputs": [],
   "source": [
    "col_to_be_dropped= model.pvalues.sort_values().index[-1]"
   ]
  },
  {
   "cell_type": "code",
   "execution_count": 206,
   "id": "5d6b6682",
   "metadata": {},
   "outputs": [
    {
     "data": {
      "text/plain": [
       "0.48098"
      ]
     },
     "execution_count": 206,
     "metadata": {},
     "output_type": "execute_result"
    }
   ],
   "source": [
    "Xnew = Xnew.drop(labels=col_to_be_dropped,axis=1)\n",
    "from sklearn.model_selection import train_test_split\n",
    "xtrain,xtest,ytrain,ytest=train_test_split(Xnew,Y,test_size=0.2,random_state=31)\n",
    "from statsmodels.api import OLS,add_constant\n",
    "xconst = add_constant(xtrain,has_constant=\"add\")\n",
    "ols = OLS(ytrain,xconst)\n",
    "model = ols.fit()\n",
    "round(model.rsquared_adj,5)"
   ]
  },
  {
   "cell_type": "markdown",
   "id": "11500906",
   "metadata": {},
   "source": [
    "# Model 3"
   ]
  },
  {
   "cell_type": "code",
   "execution_count": 207,
   "id": "a4eb19ec",
   "metadata": {},
   "outputs": [
    {
     "data": {
      "text/plain": [
       "'Credit_History'"
      ]
     },
     "execution_count": 207,
     "metadata": {},
     "output_type": "execute_result"
    }
   ],
   "source": [
    "model.pvalues.sort_values().index[-1]"
   ]
  },
  {
   "cell_type": "code",
   "execution_count": 208,
   "id": "cac5e27a",
   "metadata": {},
   "outputs": [],
   "source": [
    "col_to_be_dropped= model.pvalues.sort_values().index[-1]"
   ]
  },
  {
   "cell_type": "code",
   "execution_count": 209,
   "id": "9a334a83",
   "metadata": {},
   "outputs": [
    {
     "data": {
      "text/plain": [
       "0.48209"
      ]
     },
     "execution_count": 209,
     "metadata": {},
     "output_type": "execute_result"
    }
   ],
   "source": [
    "Xnew = Xnew.drop(labels=col_to_be_dropped,axis=1)\n",
    "from sklearn.model_selection import train_test_split\n",
    "xtrain,xtest,ytrain,ytest=train_test_split(Xnew,Y,test_size=0.2,random_state=31)\n",
    "from statsmodels.api import OLS,add_constant\n",
    "xconst = add_constant(xtrain,has_constant=\"add\")\n",
    "ols = OLS(ytrain,xconst)\n",
    "model = ols.fit()\n",
    "round(model.rsquared_adj,5)"
   ]
  },
  {
   "cell_type": "markdown",
   "id": "4c797d28",
   "metadata": {},
   "source": [
    "# Model 4"
   ]
  },
  {
   "cell_type": "code",
   "execution_count": 210,
   "id": "638b2583",
   "metadata": {},
   "outputs": [
    {
     "data": {
      "text/plain": [
       "'Gender_Female'"
      ]
     },
     "execution_count": 210,
     "metadata": {},
     "output_type": "execute_result"
    }
   ],
   "source": [
    "model.pvalues.sort_values().index[-1]"
   ]
  },
  {
   "cell_type": "code",
   "execution_count": 211,
   "id": "7aa29d2a",
   "metadata": {},
   "outputs": [],
   "source": [
    "col_to_be_dropped= model.pvalues.sort_values().index[-1]"
   ]
  },
  {
   "cell_type": "code",
   "execution_count": 212,
   "id": "c8393e67",
   "metadata": {},
   "outputs": [
    {
     "data": {
      "text/plain": [
       "0.4827"
      ]
     },
     "execution_count": 212,
     "metadata": {},
     "output_type": "execute_result"
    }
   ],
   "source": [
    "Xnew = Xnew.drop(labels=col_to_be_dropped,axis=1)\n",
    "from sklearn.model_selection import train_test_split\n",
    "xtrain,xtest,ytrain,ytest=train_test_split(Xnew,Y,test_size=0.2,random_state=31)\n",
    "from statsmodels.api import OLS,add_constant\n",
    "xconst = add_constant(xtrain,has_constant=\"add\")\n",
    "ols = OLS(ytrain,xconst)\n",
    "model = ols.fit()\n",
    "round(model.rsquared_adj,5)"
   ]
  },
  {
   "cell_type": "markdown",
   "id": "20c016a7",
   "metadata": {},
   "source": [
    "# Model 5"
   ]
  },
  {
   "cell_type": "code",
   "execution_count": 213,
   "id": "1051adf0",
   "metadata": {},
   "outputs": [
    {
     "data": {
      "text/plain": [
       "'Dependents_2'"
      ]
     },
     "execution_count": 213,
     "metadata": {},
     "output_type": "execute_result"
    }
   ],
   "source": [
    "model.pvalues.sort_values().index[-1]"
   ]
  },
  {
   "cell_type": "code",
   "execution_count": 214,
   "id": "6c32c37f",
   "metadata": {},
   "outputs": [],
   "source": [
    "col_to_be_dropped= model.pvalues.sort_values().index[-1]"
   ]
  },
  {
   "cell_type": "code",
   "execution_count": 215,
   "id": "adff095e",
   "metadata": {},
   "outputs": [
    {
     "data": {
      "text/plain": [
       "0.4827"
      ]
     },
     "execution_count": 215,
     "metadata": {},
     "output_type": "execute_result"
    }
   ],
   "source": [
    "Xnew = Xnew.drop(labels=col_to_be_dropped,axis=1)\n",
    "from sklearn.model_selection import train_test_split\n",
    "xtrain,xtest,ytrain,ytest=train_test_split(Xnew,Y,test_size=0.2,random_state=31)\n",
    "from statsmodels.api import OLS,add_constant\n",
    "xconst = add_constant(xtrain,has_constant=\"add\")\n",
    "ols = OLS(ytrain,xconst)\n",
    "model = ols.fit()\n",
    "round(model.rsquared_adj,5)"
   ]
  },
  {
   "cell_type": "markdown",
   "id": "730fb6af",
   "metadata": {},
   "source": [
    "# Model 6"
   ]
  },
  {
   "cell_type": "code",
   "execution_count": 216,
   "id": "918500b6",
   "metadata": {},
   "outputs": [
    {
     "data": {
      "text/plain": [
       "'Dependents_0'"
      ]
     },
     "execution_count": 216,
     "metadata": {},
     "output_type": "execute_result"
    }
   ],
   "source": [
    "model.pvalues.sort_values().index[-1]"
   ]
  },
  {
   "cell_type": "code",
   "execution_count": 217,
   "id": "e15bc90e",
   "metadata": {},
   "outputs": [],
   "source": [
    "col_to_be_dropped= model.pvalues.sort_values().index[-1]"
   ]
  },
  {
   "cell_type": "code",
   "execution_count": 218,
   "id": "68a21b89",
   "metadata": {},
   "outputs": [
    {
     "data": {
      "text/plain": [
       "0.48379"
      ]
     },
     "execution_count": 218,
     "metadata": {},
     "output_type": "execute_result"
    }
   ],
   "source": [
    "Xnew = Xnew.drop(labels=col_to_be_dropped,axis=1)\n",
    "from sklearn.model_selection import train_test_split\n",
    "xtrain,xtest,ytrain,ytest=train_test_split(Xnew,Y,test_size=0.2,random_state=31)\n",
    "from statsmodels.api import OLS,add_constant\n",
    "xconst = add_constant(xtrain,has_constant=\"add\")\n",
    "ols = OLS(ytrain,xconst)\n",
    "model = ols.fit()\n",
    "round(model.rsquared_adj,5)"
   ]
  },
  {
   "cell_type": "markdown",
   "id": "b5f3af06",
   "metadata": {},
   "source": [
    "# Check for Overfitting"
   ]
  },
  {
   "cell_type": "code",
   "execution_count": 219,
   "id": "22fc0737",
   "metadata": {},
   "outputs": [],
   "source": [
    "from sklearn.linear_model import LinearRegression\n",
    "lm = LinearRegression()\n",
    "model = lm.fit(xtrain,ytrain)\n",
    "tr_pred = model.predict(xtrain) \n",
    "ts_pred = model.predict(xtest)\n",
    "\n",
    "from sklearn.metrics import mean_squared_error\n",
    "tr_err = round(mean_squared_error(ytrain,tr_pred),2)\n",
    "ts_err = round(mean_squared_error(ytest,ts_pred),2)"
   ]
  },
  {
   "cell_type": "code",
   "execution_count": 220,
   "id": "05fa8ec4",
   "metadata": {},
   "outputs": [
    {
     "data": {
      "text/plain": [
       "2807.4"
      ]
     },
     "execution_count": 220,
     "metadata": {},
     "output_type": "execute_result"
    }
   ],
   "source": [
    "tr_err"
   ]
  },
  {
   "cell_type": "code",
   "execution_count": 221,
   "id": "f71d785f",
   "metadata": {},
   "outputs": [
    {
     "data": {
      "text/plain": [
       "2556.34"
      ]
     },
     "execution_count": 221,
     "metadata": {},
     "output_type": "execute_result"
    }
   ],
   "source": [
    "ts_err"
   ]
  },
  {
   "cell_type": "markdown",
   "id": "b69be754",
   "metadata": {},
   "source": [
    "# Regularize the Data\n",
    "Create Tuning Grid and Lasso Model"
   ]
  },
  {
   "cell_type": "code",
   "execution_count": 222,
   "id": "49d534d1",
   "metadata": {},
   "outputs": [],
   "source": [
    "tr=[]\n",
    "ts=[]\n",
    "w=[]\n",
    "y=100\n",
    "for i in range (0,2000,1):\n",
    "    y=round(y+0.1,2)\n",
    "    from sklearn.linear_model import Ridge\n",
    "    rr = Ridge(alpha=y)\n",
    "    model1 = rr.fit(xtrain,ytrain)\n",
    "    tr_pred = model1.predict(xtrain) \n",
    "    ts_pred = model1.predict(xtest)\n",
    "    tr_err1 = round(mean_squared_error(ytrain,tr_pred),2)\n",
    "    ts_err1 = round(mean_squared_error(ytest,ts_pred),2)\n",
    "    w.append(y)\n",
    "    tr.append(tr_err1)\n",
    "    ts.append(ts_err1)\n"
   ]
  },
  {
   "cell_type": "code",
   "execution_count": 223,
   "id": "69b01654",
   "metadata": {},
   "outputs": [
    {
     "data": {
      "text/plain": [
       "3269.93"
      ]
     },
     "execution_count": 223,
     "metadata": {},
     "output_type": "execute_result"
    }
   ],
   "source": [
    "tr_err1"
   ]
  },
  {
   "cell_type": "code",
   "execution_count": 224,
   "id": "7bef1f1d",
   "metadata": {},
   "outputs": [
    {
     "data": {
      "text/plain": [
       "3509.22"
      ]
     },
     "execution_count": 224,
     "metadata": {},
     "output_type": "execute_result"
    }
   ],
   "source": [
    "ts_err1"
   ]
  },
  {
   "cell_type": "code",
   "execution_count": 225,
   "id": "3790acae",
   "metadata": {},
   "outputs": [
    {
     "data": {
      "text/plain": [
       "Text(0, 0.5, 'Loss')"
      ]
     },
     "execution_count": 225,
     "metadata": {},
     "output_type": "execute_result"
    },
    {
     "data": {
      "image/png": "[encoded data removed]",
      "text/plain": [
       "<Figure size 432x288 with 1 Axes>"
      ]
     },
     "metadata": {
      "needs_background": "light"
     },
     "output_type": "display_data"
    }
   ],
   "source": [
    "import matplotlib.pyplot as plt\n",
    "plt.plot(w,tr,c=\"red\")\n",
    "plt.plot(w,ts,c=\"green\")\n",
    "plt.xlabel(\"Lambdas tried\")\n",
    "plt.ylabel(\"Loss\")"
   ]
  },
  {
   "cell_type": "markdown",
   "id": "8271f621",
   "metadata": {},
   "source": [
    "# Using the best value of Alpha created Ridge Model"
   ]
  },
  {
   "cell_type": "code",
   "execution_count": 226,
   "id": "0bfd49d5",
   "metadata": {},
   "outputs": [
    {
     "name": "stdout",
     "output_type": "stream",
     "text": [
      "2925.17 2917.32\n"
     ]
    }
   ],
   "source": [
    "rr = Ridge(alpha=105.05)\n",
    "model = rr.fit(xtrain,ytrain)\n",
    "tr_pred = model.predict(xtrain) \n",
    "ts_pred = model.predict(xtest)\n",
    "tr_err1 = round(mean_squared_error(ytrain,tr_pred),2)\n",
    "ts_err1 = round(mean_squared_error(ytest,ts_pred),2)\n",
    "print(tr_err1,ts_err1)"
   ]
  },
  {
   "cell_type": "markdown",
   "id": "300b3406",
   "metadata": {},
   "source": [
    "# Create Tuning Grid and Lasso Model"
   ]
  },
  {
   "cell_type": "code",
   "execution_count": 227,
   "id": "fbf5cd06",
   "metadata": {},
   "outputs": [],
   "source": [
    "tr=[]\n",
    "ts=[]\n",
    "w= []\n",
    "y=0.05\n",
    "for i in range (0,2000,1):\n",
    "    y=round(y+0.1,2)\n",
    "    from sklearn.linear_model import Lasso\n",
    "    rr = Lasso(alpha=y)\n",
    "    model1 = rr.fit(xtrain,ytrain)\n",
    "    tr_pred = model1.predict(xtrain) \n",
    "    ts_pred = model1.predict(xtest)\n",
    "    tr_err2 = round(mean_squared_error(ytrain,tr_pred),2)\n",
    "    ts_err2 = round(mean_squared_error(ytest,ts_pred),2)\n",
    "    w.append(y)\n",
    "    tr.append(tr_err2)\n",
    "    ts.append(ts_err2) "
   ]
  },
  {
   "cell_type": "code",
   "execution_count": 228,
   "id": "da47ed99",
   "metadata": {},
   "outputs": [
    {
     "data": {
      "text/plain": [
       "5532.87"
      ]
     },
     "execution_count": 228,
     "metadata": {},
     "output_type": "execute_result"
    }
   ],
   "source": [
    "tr_err2"
   ]
  },
  {
   "cell_type": "code",
   "execution_count": 229,
   "id": "0109359d",
   "metadata": {},
   "outputs": [
    {
     "data": {
      "text/plain": [
       "6000.55"
      ]
     },
     "execution_count": 229,
     "metadata": {},
     "output_type": "execute_result"
    }
   ],
   "source": [
    "ts_err2"
   ]
  },
  {
   "cell_type": "code",
   "execution_count": 230,
   "id": "babcaeb3",
   "metadata": {},
   "outputs": [
    {
     "data": {
      "text/plain": [
       "Text(0, 0.5, 'Loss')"
      ]
     },
     "execution_count": 230,
     "metadata": {},
     "output_type": "execute_result"
    },
    {
     "data": {
      "image/png": "[encoded data removed]",
      "text/plain": [
       "<Figure size 432x288 with 1 Axes>"
      ]
     },
     "metadata": {
      "needs_background": "light"
     },
     "output_type": "display_data"
    }
   ],
   "source": [
    "import matplotlib.pyplot as plt\n",
    "plt.plot(w,tr,c=\"red\")\n",
    "plt.plot(w,ts,c=\"green\")\n",
    "plt.xlabel(\"Lambdas tried\")\n",
    "plt.ylabel(\"Loss\")"
   ]
  },
  {
   "cell_type": "markdown",
   "id": "60f94dcb",
   "metadata": {},
   "source": [
    "# Using the best value of Alpha created Lasso Model"
   ]
  },
  {
   "cell_type": "code",
   "execution_count": 231,
   "id": "d54cbff9",
   "metadata": {},
   "outputs": [
    {
     "name": "stdout",
     "output_type": "stream",
     "text": [
      "2925.17 2917.32\n"
     ]
    }
   ],
   "source": [
    "rr = Lasso(alpha=1.5)\n",
    "model1 = rr.fit(xtrain,ytrain)\n",
    "tr_pred = model1.predict(xtrain) \n",
    "ts_pred = model1.predict(xtest)\n",
    "tr_err2 = round(mean_squared_error(ytrain,tr_pred),2)\n",
    "ts_err2 = round(mean_squared_error(ytest,ts_pred),2)\n",
    "print(tr_err1,ts_err1)"
   ]
  },
  {
   "cell_type": "code",
   "execution_count": 232,
   "id": "32855d85",
   "metadata": {},
   "outputs": [],
   "source": [
    "cols_to_keep = Xnew.columns"
   ]
  },
  {
   "cell_type": "code",
   "execution_count": 233,
   "id": "252a04df",
   "metadata": {},
   "outputs": [
    {
     "data": {
      "text/plain": [
       "Index(['ApplicantIncome', 'CoapplicantIncome', 'Loan_Amount_Term',\n",
       "       'Married_No', 'Married_Yes', 'Dependents_1', 'Dependents_3+',\n",
       "       'Education_Graduate', 'Education_Not Graduate', 'Self_Employed_No',\n",
       "       'Self_Employed_Yes'],\n",
       "      dtype='object')"
      ]
     },
     "execution_count": 233,
     "metadata": {},
     "output_type": "execute_result"
    }
   ],
   "source": [
    "cols_to_keep"
   ]
  },
  {
   "cell_type": "code",
   "execution_count": 234,
   "id": "930eb50b",
   "metadata": {},
   "outputs": [
    {
     "data": {
      "text/html": [
       "<div>\n",
       "<style scoped>\n",
       "    .dataframe tbody tr th:only-of-type {\n",
       "        vertical-align: middle;\n",
       "    }\n",
       "\n",
       "    .dataframe tbody tr th {\n",
       "        vertical-align: top;\n",
       "    }\n",
       "\n",
       "    .dataframe thead th {\n",
       "        text-align: right;\n",
       "    }\n",
       "</style>\n",
       "<table border=\"1\" class=\"dataframe\">\n",
       "  <thead>\n",
       "    <tr style=\"text-align: right;\">\n",
       "      <th></th>\n",
       "      <th>Gender</th>\n",
       "      <th>Married</th>\n",
       "      <th>Dependents</th>\n",
       "      <th>Education</th>\n",
       "      <th>Self_Employed</th>\n",
       "      <th>ApplicantIncome</th>\n",
       "      <th>CoapplicantIncome</th>\n",
       "      <th>LoanAmount</th>\n",
       "      <th>Loan_Amount_Term</th>\n",
       "      <th>Credit_History</th>\n",
       "      <th>Property_Area</th>\n",
       "    </tr>\n",
       "  </thead>\n",
       "  <tbody>\n",
       "    <tr>\n",
       "      <th>0</th>\n",
       "      <td>Male</td>\n",
       "      <td>Yes</td>\n",
       "      <td>0</td>\n",
       "      <td>Graduate</td>\n",
       "      <td>No</td>\n",
       "      <td>5720</td>\n",
       "      <td>0</td>\n",
       "      <td>110.0</td>\n",
       "      <td>360.0</td>\n",
       "      <td>1.0</td>\n",
       "      <td>Urban</td>\n",
       "    </tr>\n",
       "    <tr>\n",
       "      <th>1</th>\n",
       "      <td>Male</td>\n",
       "      <td>Yes</td>\n",
       "      <td>1</td>\n",
       "      <td>Graduate</td>\n",
       "      <td>No</td>\n",
       "      <td>3076</td>\n",
       "      <td>1500</td>\n",
       "      <td>126.0</td>\n",
       "      <td>360.0</td>\n",
       "      <td>1.0</td>\n",
       "      <td>Urban</td>\n",
       "    </tr>\n",
       "  </tbody>\n",
       "</table>\n",
       "</div>"
      ],
      "text/plain": [
       "  Gender Married Dependents Education Self_Employed  ApplicantIncome  \\\n",
       "0   Male     Yes          0  Graduate            No             5720   \n",
       "1   Male     Yes          1  Graduate            No             3076   \n",
       "\n",
       "   CoapplicantIncome  LoanAmount  Loan_Amount_Term  Credit_History  \\\n",
       "0                  0       110.0             360.0             1.0   \n",
       "1               1500       126.0             360.0             1.0   \n",
       "\n",
       "  Property_Area  \n",
       "0         Urban  \n",
       "1         Urban  "
      ]
     },
     "execution_count": 234,
     "metadata": {},
     "output_type": "execute_result"
    }
   ],
   "source": [
    "Tnew.head(2)"
   ]
  },
  {
   "cell_type": "code",
   "execution_count": 235,
   "id": "51ac6601",
   "metadata": {},
   "outputs": [],
   "source": [
    "Xreg=Tnew.drop(labels=[\"LoanAmount\"],axis=1)"
   ]
  },
  {
   "cell_type": "code",
   "execution_count": 236,
   "id": "9658ffff",
   "metadata": {},
   "outputs": [],
   "source": [
    "catT,conT=catconsep(Xreg)"
   ]
  },
  {
   "cell_type": "code",
   "execution_count": 237,
   "id": "d685eac1",
   "metadata": {},
   "outputs": [
    {
     "data": {
      "text/plain": [
       "['Gender',\n",
       " 'Married',\n",
       " 'Dependents',\n",
       " 'Education',\n",
       " 'Self_Employed',\n",
       " 'Property_Area']"
      ]
     },
     "execution_count": 237,
     "metadata": {},
     "output_type": "execute_result"
    }
   ],
   "source": [
    "catT"
   ]
  },
  {
   "cell_type": "code",
   "execution_count": 238,
   "id": "5867e116",
   "metadata": {},
   "outputs": [
    {
     "data": {
      "text/plain": [
       "['ApplicantIncome', 'CoapplicantIncome', 'Loan_Amount_Term', 'Credit_History']"
      ]
     },
     "execution_count": 238,
     "metadata": {},
     "output_type": "execute_result"
    }
   ],
   "source": [
    "conT"
   ]
  },
  {
   "cell_type": "code",
   "execution_count": 239,
   "id": "53c53730",
   "metadata": {},
   "outputs": [],
   "source": [
    "test1=Tnew[conT]"
   ]
  },
  {
   "cell_type": "code",
   "execution_count": 240,
   "id": "88019ece",
   "metadata": {},
   "outputs": [
    {
     "data": {
      "text/html": [
       "<div>\n",
       "<style scoped>\n",
       "    .dataframe tbody tr th:only-of-type {\n",
       "        vertical-align: middle;\n",
       "    }\n",
       "\n",
       "    .dataframe tbody tr th {\n",
       "        vertical-align: top;\n",
       "    }\n",
       "\n",
       "    .dataframe thead th {\n",
       "        text-align: right;\n",
       "    }\n",
       "</style>\n",
       "<table border=\"1\" class=\"dataframe\">\n",
       "  <thead>\n",
       "    <tr style=\"text-align: right;\">\n",
       "      <th></th>\n",
       "      <th>ApplicantIncome</th>\n",
       "      <th>CoapplicantIncome</th>\n",
       "      <th>Loan_Amount_Term</th>\n",
       "      <th>Credit_History</th>\n",
       "    </tr>\n",
       "  </thead>\n",
       "  <tbody>\n",
       "    <tr>\n",
       "      <th>0</th>\n",
       "      <td>5720</td>\n",
       "      <td>0</td>\n",
       "      <td>360.0</td>\n",
       "      <td>1.000000</td>\n",
       "    </tr>\n",
       "    <tr>\n",
       "      <th>1</th>\n",
       "      <td>3076</td>\n",
       "      <td>1500</td>\n",
       "      <td>360.0</td>\n",
       "      <td>1.000000</td>\n",
       "    </tr>\n",
       "    <tr>\n",
       "      <th>2</th>\n",
       "      <td>5000</td>\n",
       "      <td>1800</td>\n",
       "      <td>360.0</td>\n",
       "      <td>1.000000</td>\n",
       "    </tr>\n",
       "    <tr>\n",
       "      <th>3</th>\n",
       "      <td>2340</td>\n",
       "      <td>2546</td>\n",
       "      <td>360.0</td>\n",
       "      <td>0.825444</td>\n",
       "    </tr>\n",
       "  </tbody>\n",
       "</table>\n",
       "</div>"
      ],
      "text/plain": [
       "   ApplicantIncome  CoapplicantIncome  Loan_Amount_Term  Credit_History\n",
       "0             5720                  0             360.0        1.000000\n",
       "1             3076               1500             360.0        1.000000\n",
       "2             5000               1800             360.0        1.000000\n",
       "3             2340               2546             360.0        0.825444"
      ]
     },
     "execution_count": 240,
     "metadata": {},
     "output_type": "execute_result"
    }
   ],
   "source": [
    "test1.head(4)"
   ]
  },
  {
   "cell_type": "code",
   "execution_count": 241,
   "id": "23c60d5a",
   "metadata": {},
   "outputs": [],
   "source": [
    "Xtest1=pd.DataFrame(ss.transform(test1),columns=test1.columns)"
   ]
  },
  {
   "cell_type": "code",
   "execution_count": 242,
   "id": "eb42dcbc",
   "metadata": {},
   "outputs": [],
   "source": [
    "Xtest2=pd.get_dummies(Xreg[catT])"
   ]
  },
  {
   "cell_type": "code",
   "execution_count": 243,
   "id": "505f1861",
   "metadata": {},
   "outputs": [
    {
     "data": {
      "text/plain": [
       "Series([], dtype: int64)"
      ]
     },
     "execution_count": 243,
     "metadata": {},
     "output_type": "execute_result"
    }
   ],
   "source": [
    "O = Xtest2.isna().sum()\n",
    "O[O>0]"
   ]
  },
  {
   "cell_type": "code",
   "execution_count": 244,
   "id": "d8fb8e9e",
   "metadata": {},
   "outputs": [
    {
     "data": {
      "text/plain": [
       "RangeIndex(start=0, stop=367, step=1)"
      ]
     },
     "execution_count": 244,
     "metadata": {},
     "output_type": "execute_result"
    }
   ],
   "source": [
    "Xtest1.index"
   ]
  },
  {
   "cell_type": "code",
   "execution_count": 245,
   "id": "45d351d7",
   "metadata": {},
   "outputs": [],
   "source": [
    "Xtest_new=Xtest1.join(Xtest2)"
   ]
  },
  {
   "cell_type": "code",
   "execution_count": 246,
   "id": "09b5d673",
   "metadata": {},
   "outputs": [
    {
     "data": {
      "text/plain": [
       "Index(['ApplicantIncome', 'CoapplicantIncome', 'Loan_Amount_Term',\n",
       "       'Married_No', 'Married_Yes', 'Dependents_1', 'Dependents_3+',\n",
       "       'Education_Graduate', 'Education_Not Graduate', 'Self_Employed_No',\n",
       "       'Self_Employed_Yes'],\n",
       "      dtype='object')"
      ]
     },
     "execution_count": 246,
     "metadata": {},
     "output_type": "execute_result"
    }
   ],
   "source": [
    "Xnew.columns"
   ]
  },
  {
   "cell_type": "code",
   "execution_count": 247,
   "id": "a30d936c",
   "metadata": {},
   "outputs": [
    {
     "data": {
      "text/plain": [
       "(588, 11)"
      ]
     },
     "execution_count": 247,
     "metadata": {},
     "output_type": "execute_result"
    }
   ],
   "source": [
    "Xnew.shape"
   ]
  },
  {
   "cell_type": "code",
   "execution_count": 248,
   "id": "c1f31f32",
   "metadata": {},
   "outputs": [
    {
     "data": {
      "text/plain": [
       "Index(['ApplicantIncome', 'CoapplicantIncome', 'Loan_Amount_Term',\n",
       "       'Credit_History', 'Gender_Female', 'Gender_Male', 'Married_No',\n",
       "       'Married_Yes', 'Dependents_0', 'Dependents_1', 'Dependents_2',\n",
       "       'Dependents_3+', 'Education_Graduate', 'Education_Not Graduate',\n",
       "       'Self_Employed_No', 'Self_Employed_Yes', 'Property_Area_Rural',\n",
       "       'Property_Area_Semiurban', 'Property_Area_Urban'],\n",
       "      dtype='object')"
      ]
     },
     "execution_count": 248,
     "metadata": {},
     "output_type": "execute_result"
    }
   ],
   "source": [
    "Xtest_new.columns"
   ]
  },
  {
   "cell_type": "markdown",
   "id": "0d26cda0",
   "metadata": {},
   "source": [
    "# Dropping those columns which are not present in Xnew and present in Xnew_test and giving error"
   ]
  },
  {
   "cell_type": "code",
   "execution_count": 250,
   "id": "1b228685",
   "metadata": {},
   "outputs": [],
   "source": [
    "Xfinal=Xtest_new.drop(labels=[\"Credit_History\",\"Dependents_0\",\"Dependents_1\",\"Dependents_2\",\"Dependents_3+\",\"Property_Area_Rural\",\"Property_Area_Semiurban\",\"Property_Area_Urban\"],axis=1)"
   ]
  },
  {
   "cell_type": "code",
   "execution_count": 251,
   "id": "fa283a60",
   "metadata": {},
   "outputs": [
    {
     "data": {
      "text/html": [
       "<div>\n",
       "<style scoped>\n",
       "    .dataframe tbody tr th:only-of-type {\n",
       "        vertical-align: middle;\n",
       "    }\n",
       "\n",
       "    .dataframe tbody tr th {\n",
       "        vertical-align: top;\n",
       "    }\n",
       "\n",
       "    .dataframe thead th {\n",
       "        text-align: right;\n",
       "    }\n",
       "</style>\n",
       "<table border=\"1\" class=\"dataframe\">\n",
       "  <thead>\n",
       "    <tr style=\"text-align: right;\">\n",
       "      <th></th>\n",
       "      <th>ApplicantIncome</th>\n",
       "      <th>CoapplicantIncome</th>\n",
       "      <th>Loan_Amount_Term</th>\n",
       "      <th>Gender_Female</th>\n",
       "      <th>Gender_Male</th>\n",
       "      <th>Married_No</th>\n",
       "      <th>Married_Yes</th>\n",
       "      <th>Education_Graduate</th>\n",
       "      <th>Education_Not Graduate</th>\n",
       "      <th>Self_Employed_No</th>\n",
       "      <th>Self_Employed_Yes</th>\n",
       "    </tr>\n",
       "  </thead>\n",
       "  <tbody>\n",
       "    <tr>\n",
       "      <th>0</th>\n",
       "      <td>0.242954</td>\n",
       "      <td>-0.848285</td>\n",
       "      <td>0.231763</td>\n",
       "      <td>0</td>\n",
       "      <td>1</td>\n",
       "      <td>0</td>\n",
       "      <td>1</td>\n",
       "      <td>1</td>\n",
       "      <td>0</td>\n",
       "      <td>1</td>\n",
       "      <td>0</td>\n",
       "    </tr>\n",
       "    <tr>\n",
       "      <th>1</th>\n",
       "      <td>-0.534071</td>\n",
       "      <td>0.043810</td>\n",
       "      <td>0.231763</td>\n",
       "      <td>0</td>\n",
       "      <td>1</td>\n",
       "      <td>0</td>\n",
       "      <td>1</td>\n",
       "      <td>1</td>\n",
       "      <td>0</td>\n",
       "      <td>1</td>\n",
       "      <td>0</td>\n",
       "    </tr>\n",
       "  </tbody>\n",
       "</table>\n",
       "</div>"
      ],
      "text/plain": [
       "   ApplicantIncome  CoapplicantIncome  Loan_Amount_Term  Gender_Female  \\\n",
       "0         0.242954          -0.848285          0.231763              0   \n",
       "1        -0.534071           0.043810          0.231763              0   \n",
       "\n",
       "   Gender_Male  Married_No  Married_Yes  Education_Graduate  \\\n",
       "0            1           0            1                   1   \n",
       "1            1           0            1                   1   \n",
       "\n",
       "   Education_Not Graduate  Self_Employed_No  Self_Employed_Yes  \n",
       "0                       0                 1                  0  \n",
       "1                       0                 1                  0  "
      ]
     },
     "execution_count": 251,
     "metadata": {},
     "output_type": "execute_result"
    }
   ],
   "source": [
    "Xfinal.head(2)"
   ]
  },
  {
   "cell_type": "code",
   "execution_count": 252,
   "id": "c834804e",
   "metadata": {},
   "outputs": [],
   "source": [
    "pred=model.predict(Xfinal)"
   ]
  },
  {
   "cell_type": "code",
   "execution_count": 253,
   "id": "c1f897d6",
   "metadata": {},
   "outputs": [],
   "source": [
    "#pred"
   ]
  },
  {
   "cell_type": "code",
   "execution_count": 254,
   "id": "84fce25e",
   "metadata": {},
   "outputs": [],
   "source": [
    "R = TS[[\"Loan_ID\"]]\n",
    "R['Loan_Amount']=pred"
   ]
  },
  {
   "cell_type": "code",
   "execution_count": 255,
   "id": "48d2b457",
   "metadata": {},
   "outputs": [
    {
     "data": {
      "text/html": [
       "<div>\n",
       "<style scoped>\n",
       "    .dataframe tbody tr th:only-of-type {\n",
       "        vertical-align: middle;\n",
       "    }\n",
       "\n",
       "    .dataframe tbody tr th {\n",
       "        vertical-align: top;\n",
       "    }\n",
       "\n",
       "    .dataframe thead th {\n",
       "        text-align: right;\n",
       "    }\n",
       "</style>\n",
       "<table border=\"1\" class=\"dataframe\">\n",
       "  <thead>\n",
       "    <tr style=\"text-align: right;\">\n",
       "      <th></th>\n",
       "      <th>Loan_ID</th>\n",
       "      <th>Loan_Amount</th>\n",
       "    </tr>\n",
       "  </thead>\n",
       "  <tbody>\n",
       "    <tr>\n",
       "      <th>0</th>\n",
       "      <td>LP001015</td>\n",
       "      <td>144.960933</td>\n",
       "    </tr>\n",
       "    <tr>\n",
       "      <th>1</th>\n",
       "      <td>LP001022</td>\n",
       "      <td>131.316232</td>\n",
       "    </tr>\n",
       "    <tr>\n",
       "      <th>2</th>\n",
       "      <td>LP001031</td>\n",
       "      <td>156.084382</td>\n",
       "    </tr>\n",
       "  </tbody>\n",
       "</table>\n",
       "</div>"
      ],
      "text/plain": [
       "    Loan_ID  Loan_Amount\n",
       "0  LP001015   144.960933\n",
       "1  LP001022   131.316232\n",
       "2  LP001031   156.084382"
      ]
     },
     "execution_count": 255,
     "metadata": {},
     "output_type": "execute_result"
    }
   ],
   "source": [
    "R.head(3)"
   ]
  },
  {
   "cell_type": "code",
   "execution_count": 256,
   "id": "3bb8d489",
   "metadata": {},
   "outputs": [],
   "source": [
    "R.to_csv(\"C:/Users/admin/Downloads/Loan Project/Regression_Results.csv\")"
   ]
  },
  {
   "cell_type": "code",
   "execution_count": null,
   "id": "eea5a9dd",
   "metadata": {},
   "outputs": [],
   "source": []
  },
  {
   "cell_type": "code",
   "execution_count": null,
   "id": "1c274593",
   "metadata": {},
   "outputs": [],
   "source": []
  },
  {
   "cell_type": "code",
   "execution_count": null,
   "id": "33c5260c",
   "metadata": {},
   "outputs": [],
   "source": []
  },
  {
   "cell_type": "code",
   "execution_count": null,
   "id": "621b84cd",
   "metadata": {},
   "outputs": [],
   "source": []
  }
 ],
 "metadata": {
  "kernelspec": {
   "display_name": "Python 3 (ipykernel)",
   "language": "python",
   "name": "python3"
  },
  "language_info": {
   "codemirror_mode": {
    "name": "ipython",
    "version": 3
   },
   "file_extension": ".py",
   "mimetype": "text/x-python",
   "name": "python",
   "nbconvert_exporter": "python",
   "pygments_lexer": "ipython3",
   "version": "3.9.7"
  }
 },
 "nbformat": 4,
 "nbformat_minor": 5
}
